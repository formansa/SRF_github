{
 "cells": [
  {
   "cell_type": "markdown",
   "metadata": {},
   "source": [
    "## Slicing and Broadcasting"
   ]
  },
  {
   "cell_type": "code",
   "execution_count": 1,
   "metadata": {
    "collapsed": false
   },
   "outputs": [
    {
     "name": "stdout",
     "output_type": "stream",
     "text": [
      "(5,)\n",
      "(3,)\n",
      "[[ 6  7  8  9 10]\n",
      " [ 5  6  7  8  9]\n",
      " [ 4  5  6  7  8]]\n"
     ]
    }
   ],
   "source": [
    "import numpy as np\n",
    "\n",
    "x1 = np.array([1, 2, 3, 4, 5])\n",
    "x2 = np.array([5, 4, 3])\n",
    "print(x1.shape)\n",
    "print(x2.shape)\n",
    "\n",
    "#print(x1+x2)  # this generate an error\n",
    "print(x1+x2[:,np.newaxis])\n",
    "# this flips x2 on its other axis (making it (3,1)), then \n",
    "#     broadcasts x2 across all columns and adds elementwise "
   ]
  },
  {
   "cell_type": "code",
   "execution_count": 2,
   "metadata": {
    "collapsed": false
   },
   "outputs": [
    {
     "data": {
      "text/plain": [
       "array([[5],\n",
       "       [4],\n",
       "       [3]])"
      ]
     },
     "execution_count": 2,
     "metadata": {},
     "output_type": "execute_result"
    }
   ],
   "source": [
    "x2[:,np.newaxis]"
   ]
  },
  {
   "cell_type": "code",
   "execution_count": 7,
   "metadata": {
    "collapsed": false
   },
   "outputs": [
    {
     "name": "stdout",
     "output_type": "stream",
     "text": [
      "(4, 3)\n",
      "[[ 0.  0.  0.]\n",
      " [ 0.  0.  0.]\n",
      " [ 0.  0.  0.]\n",
      " [ 0.  0.  0.]]\n",
      "(4,)\n",
      "[0 1 2 3]\n",
      "break\n",
      "[[ 0.  0.  0.]\n",
      " [ 1.  1.  1.]\n",
      " [ 2.  2.  2.]\n",
      " [ 3.  3.  3.]]\n"
     ]
    }
   ],
   "source": [
    "a1 = np.zeros((4,3)) # with this dimensions a1 can be added with a2\n",
    "#a1 = np.zeros((3,4))\n",
    "a2 = np.arange(4)\n",
    "print(a1.shape)\n",
    "print(a1)\n",
    "print(a2.shape)\n",
    "print(a2)\n",
    "print('break')\n",
    "print(a1+a2[:,np.newaxis])"
   ]
  },
  {
   "cell_type": "markdown",
   "metadata": {},
   "source": [
    "notice that a2 is an one-dimensional array where the second dimension is not specified.\n",
    "\n",
    "the numpy command \n",
    "```python\n",
    "np.newaxis\n",
    "```\n",
    "creates a new dimension"
   ]
  },
  {
   "cell_type": "code",
   "execution_count": null,
   "metadata": {
    "collapsed": false
   },
   "outputs": [],
   "source": [
    "a1 = np.zeros((4,3))\n",
    "a1[:]=a2[:,np.newaxis]\n",
    "print(a1.shape)\n",
    "print(a1)"
   ]
  },
  {
   "cell_type": "code",
   "execution_count": null,
   "metadata": {
    "collapsed": true
   },
   "outputs": [],
   "source": [
    "a1 = np.zeros((4,3))\n",
    "a1[:2]=[[-44],[33]]\n",
    "print(a1)"
   ]
  },
  {
   "cell_type": "code",
   "execution_count": null,
   "metadata": {
    "collapsed": true
   },
   "outputs": [],
   "source": [
    "a3 = a1[1:3]\n",
    "print(a3.shape)\n",
    "print(a3)"
   ]
  },
  {
   "cell_type": "code",
   "execution_count": null,
   "metadata": {
    "collapsed": false
   },
   "outputs": [],
   "source": [
    "#a3 = a1 # a3 and a1 reference to the same content\n",
    "a3 = a1[:]  # the content of a1 is copied to a3\n",
    "print(a3 is a1)\n",
    "print(id(a1))\n",
    "print(id(a3))"
   ]
  },
  {
   "cell_type": "markdown",
   "metadata": {},
   "source": [
    "Different array objects can share the same data using the command \"view\""
   ]
  },
  {
   "cell_type": "code",
   "execution_count": null,
   "metadata": {
    "collapsed": true
   },
   "outputs": [],
   "source": [
    "a4 = a1.view()\n",
    "print(a4 is a1)\n",
    "print(a4.base is a1)    # a4 is a view of the data owned by a1\n",
    "\n",
    "print('The shapes are the same')\n",
    "print(a1.shape)\n",
    "print(a4.shape)\n",
    "\n",
    "print('The shape of a4 is changed')\n",
    "a4.shape = 2,6\n",
    "print(a1.shape)        # changing the shape of a4 does not affect a1\n",
    "print(a4.shape)\n",
    "print(a4)"
   ]
  },
  {
   "cell_type": "code",
   "execution_count": null,
   "metadata": {
    "collapsed": true
   },
   "outputs": [],
   "source": [
    "a5 = a1[[1,3,3]]  # copy particular rows to a new array\n",
    "print('a5: ',a5)\n",
    "\n",
    "a6 = a5[[1,0],[0,2]]  # building an one-dimensional array with the elements (1,0) and (3,1) from a1\n",
    "print('a6: ',a6)"
   ]
  },
  {
   "cell_type": "code",
   "execution_count": null,
   "metadata": {
    "collapsed": true
   },
   "outputs": [],
   "source": [
    "a = np.arange(5)\n",
    "print(a)\n",
    "a[[0, 1, 2]] = [1, 2, 3] # we can change specific entries. \n",
    "# a[[0, 0, 2]] = [1, 2, 3] # The assignment with index repetition follows the order\n",
    "print(a)"
   ]
  },
  {
   "cell_type": "markdown",
   "metadata": {},
   "source": [
    "## Interacting over Arrays and Operations"
   ]
  },
  {
   "cell_type": "code",
   "execution_count": 8,
   "metadata": {
    "collapsed": false
   },
   "outputs": [
    {
     "name": "stdout",
     "output_type": "stream",
     "text": [
      "[[ 0  1  2  3]\n",
      " [ 4  5  6  7]\n",
      " [ 8  9 10 11]\n",
      " [12 13 14 15]]\n",
      "i:  [0 1 2 3]\n",
      "0\n",
      "1\n",
      "2\n",
      "3\n",
      "i:  [4 5 6 7]\n",
      "4\n",
      "5\n",
      "6\n",
      "7\n",
      "i:  [ 8  9 10 11]\n",
      "8\n",
      "9\n",
      "10\n",
      "11\n",
      "i:  [12 13 14 15]\n",
      "12\n",
      "13\n",
      "14\n",
      "15\n"
     ]
    }
   ],
   "source": [
    "b = np.arange(16).reshape((4,4))\n",
    "print(b)\n",
    "\n",
    "for i in b:\n",
    "    print('i: ',i)  # i corresponds to the rows\n",
    "    for j in i:\n",
    "        print(j)\n"
   ]
  },
  {
   "cell_type": "code",
   "execution_count": 22,
   "metadata": {
    "collapsed": false
   },
   "outputs": [
    {
     "name": "stdout",
     "output_type": "stream",
     "text": [
      "(2, 2) (2,) (2, 2)\n",
      "dot(a,b):  [  3.  13.]\n",
      "b:  [[ 2.  3.]]\n",
      "(2, 2) (1, 2) (2, 2)\n"
     ]
    },
    {
     "ename": "ValueError",
     "evalue": "shapes (2,2) and (1,2) not aligned: 2 (dim 1) != 1 (dim 0)",
     "output_type": "error",
     "traceback": [
      "\u001b[0;31m---------------------------------------------------------------------------\u001b[0m",
      "\u001b[0;31mValueError\u001b[0m                                Traceback (most recent call last)",
      "\u001b[0;32m<ipython-input-22-b411f65954e4>\u001b[0m in \u001b[0;36m<module>\u001b[0;34m()\u001b[0m\n\u001b[1;32m     10\u001b[0m \u001b[0mprint\u001b[0m\u001b[0;34m(\u001b[0m\u001b[0;34m'b: '\u001b[0m\u001b[0;34m,\u001b[0m\u001b[0mb\u001b[0m\u001b[0;34m)\u001b[0m\u001b[0;34m\u001b[0m\u001b[0m\n\u001b[1;32m     11\u001b[0m \u001b[0mprint\u001b[0m\u001b[0;34m(\u001b[0m\u001b[0ma\u001b[0m\u001b[0;34m.\u001b[0m\u001b[0mshape\u001b[0m\u001b[0;34m,\u001b[0m\u001b[0mb\u001b[0m\u001b[0;34m.\u001b[0m\u001b[0mshape\u001b[0m\u001b[0;34m,\u001b[0m\u001b[0mc\u001b[0m\u001b[0;34m.\u001b[0m\u001b[0mshape\u001b[0m\u001b[0;34m)\u001b[0m\u001b[0;34m\u001b[0m\u001b[0m\n\u001b[0;32m---> 12\u001b[0;31m \u001b[0mprint\u001b[0m\u001b[0;34m(\u001b[0m\u001b[0mnp\u001b[0m\u001b[0;34m.\u001b[0m\u001b[0mdot\u001b[0m\u001b[0;34m(\u001b[0m\u001b[0ma\u001b[0m\u001b[0;34m,\u001b[0m\u001b[0mb\u001b[0m\u001b[0;34m)\u001b[0m\u001b[0;34m)\u001b[0m\u001b[0;34m\u001b[0m\u001b[0m\n\u001b[0m",
      "\u001b[0;31mValueError\u001b[0m: shapes (2,2) and (1,2) not aligned: 2 (dim 1) != 1 (dim 0)"
     ]
    }
   ],
   "source": [
    "# always specificy the data type when you're creating an np.array \n",
    "a = np.array([[0, 1], [2, 3]], float)\n",
    "b = np.array([2, 3], float)\n",
    "c = np.array([[1, 1], [4, 0]], float)\n",
    "print(a.shape,b.shape,c.shape)\n",
    "print('dot(a,b): ',np.dot(a,b))\n",
    "# Notice that the result is an one-dimensional array\n",
    "\n",
    "b.shape= 1,2\n",
    "print('b: ',b)\n",
    "print(a.shape,b.shape,c.shape)\n",
    "print(np.dot(a,b))"
   ]
  },
  {
   "cell_type": "markdown",
   "metadata": {},
   "source": [
    "## matplotlib"
   ]
  },
  {
   "cell_type": "code",
   "execution_count": null,
   "metadata": {
    "collapsed": true
   },
   "outputs": [],
   "source": [
    "import matplotlib.pyplot as plt\n",
    "\n",
    "x = np.linspace(0,1,100)\n",
    "y = x**2\n",
    "\n",
    "f1 = plt.plot(x,y)\n",
    "plt.setp(f1,lw=1, color='r', linestyle='-',alpha=1.0)\n",
    "plt.show()"
   ]
  },
  {
   "cell_type": "code",
   "execution_count": null,
   "metadata": {
    "collapsed": true
   },
   "outputs": [],
   "source": [
    "Y = np.zeros((3,100))\n",
    "Y[0,:] = 1.0+x\n",
    "Y[1,:] = x**2\n",
    "Y[2,:] = np.sin(x)\n",
    "\n",
    "# matplotlib axis info in format of [xmin,xmax,ymin,ymax]\n",
    "plt.figure(1)\n",
    "plt.axis([0,1,0,2])\n",
    "for i in range(3):\n",
    "    plt.plot(x,Y[i,:])\n",
    "    \n",
    "plt.figure(2)\n",
    "plt.axis([0,1,0,1])\n",
    "for i in range(3):\n",
    "    if (i != 0):\n",
    "        plt.plot(x,Y[i,:])\n",
    "    \n",
    "plt.show()"
   ]
  },
  {
   "cell_type": "code",
   "execution_count": null,
   "metadata": {
    "collapsed": true
   },
   "outputs": [],
   "source": [
    "plt.figure(3)\n",
    "plt.subplot(1,2,1)\n",
    "f2 = plt.plot(x,Y[0,:],x,Y[1,:],x,Y[2,:])\n",
    "plt.legend(('linear','quadratic','sin'),loc=1)\n",
    "plt.subplot(1,2,2)\n",
    "plt.plot(x,np.exp(x))\n",
    "plt.show()"
   ]
  }
 ],
 "metadata": {
  "kernelspec": {
   "display_name": "Python 3",
   "language": "python",
   "name": "python3"
  },
  "language_info": {
   "codemirror_mode": {
    "name": "ipython",
    "version": 3
   },
   "file_extension": ".py",
   "mimetype": "text/x-python",
   "name": "python",
   "nbconvert_exporter": "python",
   "pygments_lexer": "ipython3",
   "version": "3.6.0"
  }
 },
 "nbformat": 4,
 "nbformat_minor": 2
}

{
 "cells": [
  {
   "cell_type": "markdown",
   "metadata": {},
   "source": [
    "## Building a DataFrame from Name Files"
   ]
  },
  {
   "cell_type": "code",
   "execution_count": null,
   "metadata": {},
   "outputs": [],
   "source": [
    "import pandas as pd\n",
    "import matplotlib.pyplot as plt\n",
    "import numpy as np\n",
    "% matplotlib inline\n",
    "\n",
    "def build_names_df(years):\n",
    "    columns = ['name', 'sex', 'births','year']\n",
    "    ldfs = []\n",
    "    for year in years:\n",
    "        file_name = 'names/yob'+str(year)+'.txt'\n",
    "        year_frame = pd.read_csv(file_name, names=columns)\n",
    "        year_frame['year'] = year\n",
    "        ldfs.append(year_frame)\n",
    "    return(pd.concat(ldfs,ignore_index = True))\n",
    "\n",
    "years = range(1880,2017)\n",
    "df_names = build_names_df(years)\n",
    "print(df_names.head())\n",
    "print(df_names.tail())"
   ]
  },
  {
   "cell_type": "markdown",
   "metadata": {},
   "source": [
    "## Some statistics"
   ]
  },
  {
   "cell_type": "code",
   "execution_count": null,
   "metadata": {},
   "outputs": [],
   "source": [
    "# Total of males and females \n",
    "mf = df_names.groupby('sex').births.sum()\n",
    "print('Number of males:   ',mf.loc['M'])\n",
    "print('Number of females: ',mf.loc['F'])"
   ]
  },
  {
   "cell_type": "code",
   "execution_count": null,
   "metadata": {
    "scrolled": false
   },
   "outputs": [],
   "source": [
    "# Total of males and females per year\n",
    "mfy = df_names.pivot_table(index='year',\n",
    "                               columns='sex', values='births', aggfunc=sum)\n",
    "print(mfy.head())\n",
    "mfy.plot()"
   ]
  },
  {
   "cell_type": "markdown",
   "metadata": {},
   "source": [
    "### Task 1: \n",
    "Compute the frequency (percentage) of each name per year. Insert the computed information as a new column into the dataframe."
   ]
  },
  {
   "cell_type": "code",
   "execution_count": null,
   "metadata": {
    "scrolled": false
   },
   "outputs": [],
   "source": [
    "#Solution\n",
    "def comp_frac(group):\n",
    "    group['frac'] = group.births/group.births.sum()\n",
    "    return(group)\n",
    "    \n",
    "df_names = df_names.groupby('year').apply(comp_frac)\n",
    "print(df_names.head())"
   ]
  },
  {
   "cell_type": "markdown",
   "metadata": {},
   "source": [
    "### Task 2: \n",
    "Print the k most frequent names in each year with their percentage. For instance, for $k=3$, the output should be something like:\n",
    "\n",
    "```\n",
    "1880\n",
    "John   William   Mary\n",
    "0.048   0.047   0.035\n",
    "```\n",
    "Your print must be formated as above."
   ]
  },
  {
   "cell_type": "code",
   "execution_count": null,
   "metadata": {
    "scrolled": false
   },
   "outputs": [],
   "source": [
    "#Solution\n",
    "def get_topn(group,nc=3):\n",
    "    return(group.sort_values(by='frac',ascending=False)[:nc])\n",
    "\n",
    "n=5\n",
    "topn = df_names.groupby('year').apply(get_topn,nc=n)\n",
    "for g in topn.index.levels[0][:5]:\n",
    "    print('\\n\\n',g)\n",
    "    for i in range(n):\n",
    "        print(topn.loc[g]['name'].iloc[i],' ',end='')\n",
    "    print('')\n",
    "    for i in range(n):\n",
    "        print('%.3f'%topn.loc[g]['frac'].iloc[i],' ',end='')"
   ]
  },
  {
   "cell_type": "markdown",
   "metadata": {},
   "source": [
    "### Task 3:\n",
    "\n",
    "Compute the k most frequent names considering **sum of frenquences** along the years and make a plot of their variation over the years."
   ]
  },
  {
   "cell_type": "code",
   "execution_count": null,
   "metadata": {},
   "outputs": [],
   "source": [
    "#Solution\n",
    "k = 5\n",
    "name_year = df_names.pivot_table(index='year',columns='name',values='frac',aggfunc=sum)\n",
    "topk_ever = name_year.sum(axis=0).sort_values(ascending=False)\n",
    "name_year[topk_ever.index[0:k]].plot(title='Most Frequent Names');\n"
   ]
  },
  {
   "cell_type": "markdown",
   "metadata": {},
   "source": [
    "### Task 4: \n",
    "\n",
    "Which gender has more diversity of names considering the whole set of years?"
   ]
  },
  {
   "cell_type": "code",
   "execution_count": null,
   "metadata": {},
   "outputs": [],
   "source": [
    "#Solution\n",
    "\n",
    "df_total_diversity = df_names.groupby(['sex','name']).apply(lambda x: 1)\n",
    "male_total_diversity = df_total_diversity.xs('M').size\n",
    "print('Diversity in Male names: ',male_total_diversity)\n",
    "female_total_diversity = df_total_diversity.xs('F').size\n",
    "print('Diversity in Female names: ',female_total_diversity)"
   ]
  },
  {
   "cell_type": "markdown",
   "metadata": {},
   "source": [
    "### Task 5:\n",
    "\n",
    "Make a plot to analyze how the diversity of names evolves over time for both genders."
   ]
  },
  {
   "cell_type": "code",
   "execution_count": null,
   "metadata": {},
   "outputs": [],
   "source": [
    "# Solution\n",
    "\n",
    "df_diversity_year = df_names.groupby(['year','sex']).size()\n",
    "print(df_diversity_year.head())\n",
    "df_diversity_year.unstack().plot(title='Diversity of Genders');"
   ]
  },
  {
   "cell_type": "markdown",
   "metadata": {},
   "source": [
    "### Task 6: \n",
    "\n",
    "How many of the names shows up in both genders? Among those \"bi_gender\" names, which are the most frequent ones?"
   ]
  },
  {
   "cell_type": "code",
   "execution_count": null,
   "metadata": {},
   "outputs": [],
   "source": [
    "# Solution\n",
    "def is_bi_gender_name(group):\n",
    "    if (len(set(group['sex'])) != 1):\n",
    "       return(group['births'].sum())\n",
    "\n",
    "#print(df_names.loc[df_names['name']=='William'])\n",
    "bi_gender_names = df_names.groupby(['name']).apply(is_bi_gender_name)\n",
    "bi_gender_names.dropna(inplace=True)\n",
    "print('Number of bi-gender names: ',bi_gender_names.size)\n",
    "\n",
    "bi_gender_names.sort_values(inplace=True,ascending=False)\n",
    "k = 5 # k most frequent bi-gender names \n",
    "print(bi_gender_names.head())\n"
   ]
  },
  {
   "cell_type": "markdown",
   "metadata": {},
   "source": [
    "### Task 7:\n",
    "\n",
    "Plot the __least__ frequent bi-gender names over time."
   ]
  },
  {
   "cell_type": "code",
   "execution_count": null,
   "metadata": {},
   "outputs": [],
   "source": [
    "df_bgnkmost = df_names.loc[df_names['name'].isin(bi_gender_names.tail().index)]\n",
    "\n",
    "bgnkmost_table = df_bgnkmost.pivot_table(index='year',columns='name',values='births',aggfunc=sum)\n",
    "bgnkmost_table.plot();\n",
    "print(bgnkmost_table)"
   ]
  }
 ],
 "metadata": {
  "kernelspec": {
   "display_name": "Python 3",
   "language": "python",
   "name": "python3"
  },
  "language_info": {
   "codemirror_mode": {
    "name": "ipython",
    "version": 3
   },
   "file_extension": ".py",
   "mimetype": "text/x-python",
   "name": "python",
   "nbconvert_exporter": "python",
   "pygments_lexer": "ipython3",
   "version": "3.6.2"
  }
 },
 "nbformat": 4,
 "nbformat_minor": 2
}

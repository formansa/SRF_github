{
 "cells": [
  {
   "cell_type": "markdown",
   "metadata": {},
   "source": [
    "## Reading Files"
   ]
  },
  {
   "cell_type": "code",
   "execution_count": 2,
   "metadata": {
    "collapsed": false
   },
   "outputs": [
    {
     "name": "stdout",
     "output_type": "stream",
     "text": [
      "   a   b   c   d message\n",
      "0  1   2   3   4   hello\n",
      "1  5   6   7   8   world\n",
      "2  9  10  11  12     foo \n",
      "\n",
      "0     2\n",
      "1     6\n",
      "2    10\n",
      "Name: b, dtype: int64\n",
      "0    hello\n",
      "1    world\n",
      "2      foo\n",
      "Name: message, dtype: object\n"
     ]
    }
   ],
   "source": [
    "import pandas as pd\n",
    "\n",
    "df1 = pd.read_csv('file1.csv')\n",
    "print(df1,'\\n')\n",
    "\n",
    "# The first row becomes the columns header\n",
    "print(df1['b'])\n",
    "print(df1['message'])"
   ]
  },
  {
   "cell_type": "code",
   "execution_count": 3,
   "metadata": {
    "collapsed": false
   },
   "outputs": [
    {
     "name": "stdout",
     "output_type": "stream",
     "text": [
      "   0   1   2   3        4\n",
      "0  a   b   c   d  message\n",
      "1  1   2   3   4    hello\n",
      "2  5   6   7   8    world\n",
      "3  9  10  11  12      foo \n",
      "\n",
      "0     b\n",
      "1     2\n",
      "2     6\n",
      "3    10\n",
      "Name: 1, dtype: object\n",
      "0    message\n",
      "1      hello\n",
      "2      world\n",
      "3        foo\n",
      "Name: 4, dtype: object\n"
     ]
    }
   ],
   "source": [
    "# Generating column's headers automatically\n",
    "df2 = pd.read_csv('file1.csv',header=None)\n",
    "print(df2,'\\n')\n",
    "print(df2[1])\n",
    "print(df2[4])\n"
   ]
  },
  {
   "cell_type": "code",
   "execution_count": 4,
   "metadata": {
    "collapsed": false
   },
   "outputs": [
    {
     "name": "stdout",
     "output_type": "stream",
     "text": [
      "   i   j   k   l        m\n",
      "0  a   b   c   d  message\n",
      "1  1   2   3   4    hello\n",
      "2  5   6   7   8    world\n",
      "3  9  10  11  12      foo \n",
      "\n",
      "0     b\n",
      "1     2\n",
      "2     6\n",
      "3    10\n",
      "Name: j, dtype: object\n",
      "0    message\n",
      "1      hello\n",
      "2      world\n",
      "3        foo\n",
      "Name: m, dtype: object \n",
      "\n"
     ]
    }
   ],
   "source": [
    "# Specifying column's headers \n",
    "df3 = pd.read_csv('file1.csv',names=['i','j','k','l','m'])\n",
    "print(df3,'\\n')\n",
    "print(df3['j'])\n",
    "print(df3['m'],'\\n')\n"
   ]
  },
  {
   "cell_type": "code",
   "execution_count": 5,
   "metadata": {
    "collapsed": false
   },
   "outputs": [
    {
     "name": "stdout",
     "output_type": "stream",
     "text": [
      "         i   j   k   l\n",
      "m                     \n",
      "message  a   b   c   d\n",
      "hello    1   2   3   4\n",
      "world    5   6   7   8\n",
      "foo      9  10  11  12 \n",
      "\n",
      "3\n",
      "m\n",
      "hello     3\n",
      "foo      11\n",
      "Name: k, dtype: object\n"
     ]
    }
   ],
   "source": [
    "# Using one of the columns to index the rows\n",
    "df4 = pd.read_csv('file1.csv',names=['i','j','k','l','m'],index_col='m')\n",
    "print(df4,'\\n')\n",
    "\n",
    "print(df4['k']['hello'])\n",
    "print(df4['k'][['hello','foo']])"
   ]
  },
  {
   "cell_type": "code",
   "execution_count": 6,
   "metadata": {
    "collapsed": false
   },
   "outputs": [
    {
     "name": "stdout",
     "output_type": "stream",
     "text": [
      "   a   b   c   d message\n",
      "0  1   2   3   4   hello\n",
      "1  5   6   7   8   world\n",
      "2  9  10  11  12     foo\n"
     ]
    }
   ],
   "source": [
    "# Pandas \"read_table\" also works, but the sep variable has to be properly settled \n",
    "dt1 = pd.read_table('file1.csv',sep=',')\n",
    "print(dt1)"
   ]
  },
  {
   "cell_type": "code",
   "execution_count": 7,
   "metadata": {
    "collapsed": false
   },
   "outputs": [
    {
     "name": "stdout",
     "output_type": "stream",
     "text": [
      "  a,b,c,d,message\n",
      "0   1,2,3,4,hello\n",
      "1   5,6,7,8,world\n",
      "2  9,10,11,12,foo\n"
     ]
    }
   ],
   "source": [
    "# The default is a white space, which does not work for the content in file1.csv\n",
    "dt2 = pd.read_table('file1.csv')\n",
    "print(dt2)"
   ]
  },
  {
   "cell_type": "code",
   "execution_count": 8,
   "metadata": {
    "collapsed": false
   },
   "outputs": [
    {
     "name": "stdout",
     "output_type": "stream",
     "text": [
      "      a b c d message\n",
      "0    1 2 3 4    hello\n",
      "1     5 6 7   8 world\n",
      "2  9   10 11   12 foo\n"
     ]
    }
   ],
   "source": [
    "# Columns in file3.txt are separated by white spaces, but the default assumes a single white spaces between columns  \n",
    "dt3 = pd.read_table('file3.txt')\n",
    "print(dt3)"
   ]
  },
  {
   "cell_type": "code",
   "execution_count": 9,
   "metadata": {
    "collapsed": false
   },
   "outputs": [
    {
     "name": "stdout",
     "output_type": "stream",
     "text": [
      "   0   1   2   3        4\n",
      "0  a   b   c   d  message\n",
      "1  1   2   3   4    hello\n",
      "2  5   6   7   8    world\n",
      "3  9  10  11  12      foo\n"
     ]
    }
   ],
   "source": [
    "# The solution to handle multiple white spaces is\n",
    "dt4 = pd.read_table('file3.txt', header=None, sep='\\s+')\n",
    "print(dt4)"
   ]
  },
  {
   "cell_type": "markdown",
   "metadata": {},
   "source": [
    "## Missing Data"
   ]
  },
  {
   "cell_type": "code",
   "execution_count": 10,
   "metadata": {
    "collapsed": false
   },
   "outputs": [
    {
     "name": "stdout",
     "output_type": "stream",
     "text": [
      "     0    1  2    3   4    5\n",
      "0  1.0  1.0  1  1.0 NaN  1.0\n",
      "1  2.0  NaN  2  NaN NaN  NaN\n",
      "2  3.0  3.0  3  NaN NaN  3.0\n",
      "3  NaN  4.0  4  NaN NaN  NaN\n"
     ]
    }
   ],
   "source": [
    "# Missing data\n",
    "df5 = pd.read_csv('file2.csv',header=None)\n",
    "print(df5)"
   ]
  },
  {
   "cell_type": "code",
   "execution_count": 11,
   "metadata": {
    "collapsed": false
   },
   "outputs": [
    {
     "name": "stdout",
     "output_type": "stream",
     "text": [
      "     0    1  2    3    5\n",
      "0  1.0  1.0  1  1.0  1.0\n",
      "1  2.0  NaN  2  NaN  NaN\n",
      "2  3.0  3.0  3  NaN  3.0\n",
      "3  NaN  4.0  4  NaN  NaN \n",
      "\n",
      "   2\n",
      "0  1\n",
      "1  2\n",
      "2  3\n",
      "3  4 \n",
      "\n",
      "     0    1  2    3   4    5\n",
      "0  1.0  1.0  1  1.0 NaN  1.0\n",
      "2  3.0  3.0  3  NaN NaN  3.0\n"
     ]
    }
   ],
   "source": [
    "# removing columns with all elements = NaN\n",
    "df6=df5.dropna(axis=1, how='all')\n",
    "print(df6,'\\n')\n",
    "\n",
    "# removing columns with any element = NaN\n",
    "df7=df5.dropna(axis=1, how='any')\n",
    "print(df7,'\\n')\n",
    "\n",
    "# removing rows with at least k NON-NaN\n",
    "df8 = df5.dropna(thresh=3)\n",
    "print(df8)"
   ]
  },
  {
   "cell_type": "code",
   "execution_count": 12,
   "metadata": {
    "collapsed": false
   },
   "outputs": [
    {
     "name": "stdout",
     "output_type": "stream",
     "text": [
      "     0    1  2    3    4    5\n",
      "0  1.0  1.0  1  1.0  0.0  1.0\n",
      "1  2.0  0.0  2  0.0  0.0  0.0\n",
      "2  3.0  3.0  3  0.0  0.0  3.0\n",
      "3  0.0  4.0  4  0.0  0.0  0.0 \n",
      "\n",
      "     0    1  2    3   4    5\n",
      "0  1.0  1.0  1  1.0 NaN  1.0\n",
      "1  2.0  1.0  2  1.0 NaN  1.0\n",
      "2  3.0  3.0  3  1.0 NaN  3.0\n",
      "3  3.0  4.0  4  1.0 NaN  3.0 \n",
      "\n"
     ]
    }
   ],
   "source": [
    "# filling missing values with a given value\n",
    "df9 = df5.fillna(0)\n",
    "print(df9,'\\n')\n",
    "\n",
    "# Filling by interpolate\n",
    "df10 = df5.fillna(method='ffill')\n",
    "print(df10,'\\n')\n"
   ]
  },
  {
   "cell_type": "code",
   "execution_count": 13,
   "metadata": {
    "collapsed": false
   },
   "outputs": [
    {
     "name": "stdout",
     "output_type": "stream",
     "text": [
      "     0     1  2     3     4     5\n",
      "0  1.0   1.0  1   1.0  40.0   1.0\n",
      "1  2.0  10.0  2  30.0  40.0  50.0\n",
      "2  3.0   3.0  3  30.0  40.0   3.0\n",
      "3  0.0   4.0  4  30.0  40.0  50.0 \n",
      "\n",
      "     0    1  2    3   4    5\n",
      "0  2.0  2.0  2  2.0 NaN  2.0\n",
      "1  4.0  1.0  4  1.0 NaN  1.0\n",
      "2  6.0  6.0  6  1.0 NaN  6.0\n",
      "3  3.0  8.0  8  1.0 NaN  3.0\n"
     ]
    }
   ],
   "source": [
    "# filling each column independently\n",
    "col_values = {0:0, 1:10, 2:20, 3:30, 4:40, 5:50}\n",
    "df11 = df5.fillna(value=col_values)\n",
    "print(df11,'\\n')\n",
    "\n",
    "# filling by adding\n",
    "df12 = df10.add(df5,fill_value=0)\n",
    "print(df12)"
   ]
  },
  {
   "cell_type": "markdown",
   "metadata": {},
   "source": [
    "## Massaging Data"
   ]
  },
  {
   "cell_type": "code",
   "execution_count": 34,
   "metadata": {
    "collapsed": false
   },
   "outputs": [
    {
     "name": "stdout",
     "output_type": "stream",
     "text": [
      "          one  two  three  four\n",
      "Ohio        0    1      2     3\n",
      "Colorado    4    5      6     7\n",
      "New York    8    9     10    11\n"
     ]
    }
   ],
   "source": [
    "import numpy as np\n",
    "\n",
    "dfm1 = pd.DataFrame(np.arange(12).reshape((3,4)),\n",
    "                    index=['Ohio','Colorado','New York'],\n",
    "                    columns=['one','two','three','four'])\n",
    "print(dfm1)"
   ]
  },
  {
   "cell_type": "code",
   "execution_count": 35,
   "metadata": {
    "collapsed": false
   },
   "outputs": [
    {
     "name": "stdout",
     "output_type": "stream",
     "text": [
      "          one  two  three  four\n",
      "Ohio        0    1      2     3\n",
      "Colorado    4    5      6     7\n",
      "New York   -1   -1     -1    -1\n"
     ]
    }
   ],
   "source": [
    "# replaces selected values (>7) with -1 \n",
    "dfm1[dfm1>7] = -1\n",
    "print(dfm1)"
   ]
  },
  {
   "cell_type": "code",
   "execution_count": 36,
   "metadata": {
    "collapsed": false
   },
   "outputs": [
    {
     "name": "stdout",
     "output_type": "stream",
     "text": [
      "one      6\n",
      "two      7\n",
      "three    8\n",
      "four     9\n",
      "Name: Colorado, dtype: int64\n"
     ]
    }
   ],
   "source": [
    "# use .loc to access index along axis 0 and .apply to apply a function to all values in the series \n",
    "print(dfm1.loc['Colorado'].apply(lambda x:x+2))"
   ]
  },
  {
   "cell_type": "markdown",
   "metadata": {},
   "source": [
    "## Combining and Concatenating "
   ]
  },
  {
   "cell_type": "code",
   "execution_count": 16,
   "metadata": {
    "collapsed": false
   },
   "outputs": [
    {
     "name": "stdout",
     "output_type": "stream",
     "text": [
      "   c1  c2 key\n",
      "0   0   6   a\n",
      "1   1   7   a\n",
      "2   2   8   b\n",
      "3   3   9   b\n",
      "4   4  10   c \n",
      "\n",
      "   c3 key\n",
      "0  11   a\n",
      "1  12   a\n",
      "2  13   a\n",
      "3  14   b\n"
     ]
    }
   ],
   "source": [
    "dfc1 = pd.DataFrame({'c1':np.arange(5), 'key': ['a','a','b','b','c'], 'c2': np.arange(6,11)})\n",
    "dfc2 = pd.DataFrame({'c3': np.arange(11,15),'key': ['a','a','a','b']})\n",
    "print(dfc1,'\\n')\n",
    "print(dfc2)"
   ]
  },
  {
   "cell_type": "code",
   "execution_count": 17,
   "metadata": {
    "collapsed": false
   },
   "outputs": [
    {
     "name": "stdout",
     "output_type": "stream",
     "text": [
      "   c1  c2 key  c3\n",
      "0   0   6   a  11\n",
      "1   0   6   a  12\n",
      "2   0   6   a  13\n",
      "3   1   7   a  11\n",
      "4   1   7   a  12\n",
      "5   1   7   a  13\n",
      "6   2   8   b  14\n",
      "7   3   9   b  14\n"
     ]
    }
   ],
   "source": [
    "dfc3 = pd.merge(dfc1,dfc2,on='key',how='inner')\n",
    "#dfc3 = pd.merge(dfc1,dfc2,on='key',how='outer')\n",
    "print(dfc3)"
   ]
  },
  {
   "cell_type": "code",
   "execution_count": 18,
   "metadata": {
    "collapsed": false
   },
   "outputs": [
    {
     "name": "stdout",
     "output_type": "stream",
     "text": [
      "   c1  c2 key_x    c3 key_y\n",
      "0   0   6     a  11.0     a\n",
      "1   1   7     a  12.0     a\n",
      "2   2   8     b  13.0     a\n",
      "3   3   9     b  14.0     b\n",
      "4   4  10     c   NaN   NaN\n"
     ]
    }
   ],
   "source": [
    "# merging based on the row index\n",
    "dfc3 = pd.merge(dfc1,dfc2,left_index = True, right_index=True, how='outer')\n",
    "print(dfc3)"
   ]
  },
  {
   "cell_type": "code",
   "execution_count": 19,
   "metadata": {
    "collapsed": false
   },
   "outputs": [
    {
     "name": "stdout",
     "output_type": "stream",
     "text": [
      "    c1    c2    c3 key\n",
      "0  0.0   6.0   NaN   a\n",
      "1  1.0   7.0   NaN   a\n",
      "2  2.0   8.0   NaN   b\n",
      "3  3.0   9.0   NaN   b\n",
      "4  4.0  10.0   NaN   c\n",
      "0  NaN   NaN  11.0   a\n",
      "1  NaN   NaN  12.0   a\n",
      "2  NaN   NaN  13.0   a\n",
      "3  NaN   NaN  14.0   b\n"
     ]
    }
   ],
   "source": [
    "dfc4 = pd.concat([dfc1,dfc2])\n",
    "#dfc4 = pd.concat([dfc1,dfc2],ignore_index=True)\n",
    "print(dfc4)"
   ]
  },
  {
   "cell_type": "code",
   "execution_count": 20,
   "metadata": {
    "collapsed": false
   },
   "outputs": [
    {
     "name": "stdout",
     "output_type": "stream",
     "text": [
      "0  c1      0\n",
      "   c2      6\n",
      "   key     a\n",
      "1  c1      1\n",
      "   c2      7\n",
      "   key     a\n",
      "2  c1      2\n",
      "   c2      8\n",
      "   key     b\n",
      "3  c1      3\n",
      "   c2      9\n",
      "   key     b\n",
      "4  c1      4\n",
      "   c2     10\n",
      "   key     c\n",
      "dtype: object\n",
      "c1     1\n",
      "c2     7\n",
      "key    a\n",
      "dtype: object \n",
      "\n",
      "1\n"
     ]
    }
   ],
   "source": [
    "dfc5 = dfc1.stack()\n",
    "print(dfc5)\n",
    "print(dfc5[:][1],'\\n')\n",
    "print(dfc5[:][1,'c1'])"
   ]
  },
  {
   "cell_type": "markdown",
   "metadata": {},
   "source": [
    "## Ploting and functions"
   ]
  },
  {
   "cell_type": "code",
   "execution_count": 21,
   "metadata": {
    "collapsed": false
   },
   "outputs": [
    {
     "name": "stdout",
     "output_type": "stream",
     "text": [
      "    0   1   2   3   4\n",
      "0   0   1   2   3   4\n",
      "1   5   6   7   8   9\n",
      "2  10  11  12  13  14\n",
      "3  15  16  17  18  19\n",
      "4  20  21  22  23  24\n",
      "5  25  26  27  28  29\n",
      "6  30  31  32  33  34\n",
      "7  35  36  37  38  39\n"
     ]
    }
   ],
   "source": [
    "dfp1 = pd.DataFrame(np.arange(40).reshape(8,5))\n",
    "print(dfp1)"
   ]
  },
  {
   "cell_type": "code",
   "execution_count": 22,
   "metadata": {
    "collapsed": false
   },
   "outputs": [
    {
     "data": {
      "image/png": "[encoded data removed]",
      "text/plain": [
       "<matplotlib.figure.Figure at 0x116f1b438>"
      ]
     },
     "metadata": {},
     "output_type": "display_data"
    }
   ],
   "source": [
    "import matplotlib.pyplot as plt\n",
    "dfp1.plot()\n",
    "plt.show()"
   ]
  },
  {
   "cell_type": "code",
   "execution_count": 23,
   "metadata": {
    "collapsed": false
   },
   "outputs": [
    {
     "data": {
      "image/png": "[encoded data removed]",
      "text/plain": [
       "<matplotlib.figure.Figure at 0x11b10cb00>"
      ]
     },
     "metadata": {},
     "output_type": "display_data"
    }
   ],
   "source": [
    "dfp2 = pd.DataFrame(dfp1[0].map(lambda x: np.sin(x)))\n",
    "dfp2.plot()\n",
    "plt.show()"
   ]
  },
  {
   "cell_type": "code",
   "execution_count": 24,
   "metadata": {
    "collapsed": false
   },
   "outputs": [
    {
     "name": "stdout",
     "output_type": "stream",
     "text": [
      "          0   1   2   3   4\n",
      "0  0.000000   1   2   3   4\n",
      "1 -0.958924   6   7   8   9\n",
      "2 -0.544021  11  12  13  14\n",
      "3  0.650288  16  17  18  19\n",
      "4  0.912945  21  22  23  24\n",
      "5 -0.132352  26  27  28  29\n",
      "6 -0.988032  31  32  33  34\n",
      "7 -0.428183  36  37  38  39\n"
     ]
    },
    {
     "data": {
      "image/png": "[encoded data removed]",
      "text/plain": [
       "<matplotlib.figure.Figure at 0x11afc3fd0>"
      ]
     },
     "metadata": {},
     "output_type": "display_data"
    }
   ],
   "source": [
    "dfp3 = pd.concat([dfp2,dfp1.loc[:,1:4]],axis=1)\n",
    "print(dfp3)\n",
    "dfp3.plot()\n",
    "plt.show()"
   ]
  },
  {
   "cell_type": "code",
   "execution_count": 25,
   "metadata": {
    "collapsed": false
   },
   "outputs": [
    {
     "data": {
      "image/png": "[encoded data removed]",
      "text/plain": [
       "<matplotlib.figure.Figure at 0x11b32acf8>"
      ]
     },
     "metadata": {},
     "output_type": "display_data"
    }
   ],
   "source": [
    "dfp3[0].plot(kind='bar')\n",
    "plt.show()"
   ]
  }
 ],
 "metadata": {
  "kernelspec": {
   "display_name": "Python 3",
   "language": "python",
   "name": "python3"
  },
  "language_info": {
   "codemirror_mode": {
    "name": "ipython",
    "version": 3
   },
   "file_extension": ".py",
   "mimetype": "text/x-python",
   "name": "python",
   "nbconvert_exporter": "python",
   "pygments_lexer": "ipython3",
   "version": "3.6.0"
  }
 },
 "nbformat": 4,
 "nbformat_minor": 2
}

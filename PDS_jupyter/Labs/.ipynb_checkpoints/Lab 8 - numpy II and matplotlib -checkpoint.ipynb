{
 "cells": [
  {
   "cell_type": "markdown",
   "metadata": {},
   "source": [
    "## Slicing and Broadcasting"
   ]
  },
  {
   "cell_type": "code",
   "execution_count": 2,
   "metadata": {
    "collapsed": false
   },
   "outputs": [
    {
     "name": "stdout",
     "output_type": "stream",
     "text": [
      "(5,)\n",
      "(3,)\n"
     ]
    },
    {
     "ename": "ValueError",
     "evalue": "operands could not be broadcast together with shapes (5,) (3,) ",
     "output_type": "error",
     "traceback": [
      "\u001b[0;31m---------------------------------------------------------------------------\u001b[0m",
      "\u001b[0;31mValueError\u001b[0m                                Traceback (most recent call last)",
      "\u001b[0;32m<ipython-input-2-a28cb4fd32fa>\u001b[0m in \u001b[0;36m<module>\u001b[0;34m()\u001b[0m\n\u001b[1;32m      6\u001b[0m \u001b[0mprint\u001b[0m\u001b[0;34m(\u001b[0m\u001b[0mx2\u001b[0m\u001b[0;34m.\u001b[0m\u001b[0mshape\u001b[0m\u001b[0;34m)\u001b[0m\u001b[0;34m\u001b[0m\u001b[0m\n\u001b[1;32m      7\u001b[0m \u001b[0;34m\u001b[0m\u001b[0m\n\u001b[0;32m----> 8\u001b[0;31m \u001b[0mprint\u001b[0m\u001b[0;34m(\u001b[0m\u001b[0mx1\u001b[0m\u001b[0;34m+\u001b[0m\u001b[0mx2\u001b[0m\u001b[0;34m)\u001b[0m  \u001b[0;31m# this generate an error\u001b[0m\u001b[0;34m\u001b[0m\u001b[0m\n\u001b[0m\u001b[1;32m      9\u001b[0m \u001b[0;31m#print(x1+x2[:,np.newaxis])\u001b[0m\u001b[0;34m\u001b[0m\u001b[0;34m\u001b[0m\u001b[0m\n",
      "\u001b[0;31mValueError\u001b[0m: operands could not be broadcast together with shapes (5,) (3,) "
     ]
    }
   ],
   "source": [
    "import numpy as np\n",
    "\n",
    "x1 = np.array([1, 2, 3, 4, 5])\n",
    "x2 = np.array([5, 4, 3])\n",
    "print(x1.shape)\n",
    "print(x2.shape)\n",
    "\n",
    "print(x1+x2)  # this generate an error\n",
    "#print(x1+x2[:,np.newaxis])"
   ]
  },
  {
   "cell_type": "code",
   "execution_count": null,
   "metadata": {
    "collapsed": true
   },
   "outputs": [],
   "source": [
    "a1 = np.zeros((4,3)) # with this dimensions a1 can be added with a2\n",
    "#a1 = np.zeros((3,4))\n",
    "a2 = np.arange(4)\n",
    "print(a1.shape)\n",
    "print(a1)\n",
    "print(a2.shape)\n",
    "print(a2)\n",
    "print(a1+a2)"
   ]
  },
  {
   "cell_type": "markdown",
   "metadata": {},
   "source": [
    "notice that a2 is an one-dimensional array where the second dimension is not specified.\n",
    "\n",
    "the numpy command \n",
    "```python\n",
    "np.newaxis\n",
    "```\n",
    "creates a new dimension"
   ]
  },
  {
   "cell_type": "code",
   "execution_count": null,
   "metadata": {
    "collapsed": true
   },
   "outputs": [],
   "source": [
    "a1 = np.zeros((4,3))\n",
    "a1[:]=a2[:,np.newaxis]\n",
    "print(a1.shape)\n",
    "print(a1)"
   ]
  },
  {
   "cell_type": "code",
   "execution_count": null,
   "metadata": {
    "collapsed": true
   },
   "outputs": [],
   "source": [
    "a1 = np.zeros((4,3))\n",
    "a1[:2]=[[-44],[33]]\n",
    "print(a1)"
   ]
  },
  {
   "cell_type": "code",
   "execution_count": null,
   "metadata": {
    "collapsed": true
   },
   "outputs": [],
   "source": [
    "a3 = a1[1:3]\n",
    "print(a3.shape)\n",
    "print(a3)"
   ]
  },
  {
   "cell_type": "code",
   "execution_count": null,
   "metadata": {
    "collapsed": true
   },
   "outputs": [],
   "source": [
    "a3 = a1 # a3 and a1 reference to the same content\n",
    "#a3 = a1[:]  # the content of a1 is copied to a3\n",
    "print(a3 is a1)\n",
    "print(id(a1))\n",
    "print(id(a3))"
   ]
  },
  {
   "cell_type": "markdown",
   "metadata": {},
   "source": [
    "Different array objects can share the same data using the command \"view\""
   ]
  },
  {
   "cell_type": "code",
   "execution_count": null,
   "metadata": {
    "collapsed": true
   },
   "outputs": [],
   "source": [
    "a4 = a1.view()\n",
    "print(a4 is a1)\n",
    "print(a4.base is a1)    # a4 is a view of the data owned by a1\n",
    "\n",
    "print('The shapes are the same')\n",
    "print(a1.shape)\n",
    "print(a4.shape)\n",
    "\n",
    "print('The shape of a4 is changed')\n",
    "a4.shape = 2,6\n",
    "print(a1.shape)        # changing the shape of a4 does not affect a1\n",
    "print(a4.shape)\n",
    "print(a4)"
   ]
  },
  {
   "cell_type": "code",
   "execution_count": null,
   "metadata": {
    "collapsed": true
   },
   "outputs": [],
   "source": [
    "a5 = a1[[1,3,3]]  # copy particular rows to a new array\n",
    "print('a5: ',a5)\n",
    "\n",
    "a6 = a5[[1,0],[0,2]]  # building an one-dimensional array with the elements (1,0) and (3,1) from a1\n",
    "print('a6: ',a6)"
   ]
  },
  {
   "cell_type": "code",
   "execution_count": null,
   "metadata": {
    "collapsed": true
   },
   "outputs": [],
   "source": [
    "a = np.arange(5)\n",
    "print(a)\n",
    "a[[0, 1, 2]] = [1, 2, 3] # we can change specific entries. \n",
    "# a[[0, 0, 2]] = [1, 2, 3] # The assignment with index repetition follows the order\n",
    "print(a)"
   ]
  },
  {
   "cell_type": "markdown",
   "metadata": {},
   "source": [
    "## Interacting over Arrays and Operations"
   ]
  },
  {
   "cell_type": "code",
   "execution_count": null,
   "metadata": {
    "collapsed": true
   },
   "outputs": [],
   "source": [
    "b = np.arange(16).reshape((4,4))\n",
    "print(b)\n",
    "\n",
    "for i in b:\n",
    "    print('i: ',i)  # i corresponds to the rows\n",
    "    for j in i:\n",
    "        print(j)\n"
   ]
  },
  {
   "cell_type": "code",
   "execution_count": null,
   "metadata": {
    "collapsed": true
   },
   "outputs": [],
   "source": [
    "a = np.array([[0, 1], [2, 3]], float)\n",
    "b = np.array([2, 3], float)\n",
    "c = np.array([[1, 1], [4, 0]], float)\n",
    "print(a.shape,b.shape,c.shape)\n",
    "print(np.dot(a,b))\n",
    "# Notice that the result is an one-dimensional array\n",
    "\n",
    "#b.shape= 1,2\n",
    "#print(a.shape,b.shape,c.shape)\n",
    "#print(np.dot(a,b))"
   ]
  },
  {
   "cell_type": "markdown",
   "metadata": {},
   "source": [
    "## matplotlib"
   ]
  },
  {
   "cell_type": "code",
   "execution_count": null,
   "metadata": {
    "collapsed": true
   },
   "outputs": [],
   "source": [
    "import matplotlib.pyplot as plt\n",
    "\n",
    "x = np.linspace(0,1,100)\n",
    "y = x**2\n",
    "\n",
    "f1 = plt.plot(x,y)\n",
    "plt.setp(f1,lw=1, color='r', linestyle='-',alpha=1.0)\n",
    "plt.show()"
   ]
  },
  {
   "cell_type": "code",
   "execution_count": null,
   "metadata": {
    "collapsed": true
   },
   "outputs": [],
   "source": [
    "Y = np.zeros((3,100))\n",
    "Y[0,:] = 1.0+x\n",
    "Y[1,:] = x**2\n",
    "Y[2,:] = np.sin(x)\n",
    "\n",
    "plt.figure(1)\n",
    "plt.axis([0,1,0,2])\n",
    "for i in range(3):\n",
    "    plt.plot(x,Y[i,:])\n",
    "    \n",
    "plt.figure(2)\n",
    "plt.axis([0,1,0,1])\n",
    "for i in range(3):\n",
    "    if (i != 0):\n",
    "        plt.plot(x,Y[i,:])\n",
    "    \n",
    "plt.show()"
   ]
  },
  {
   "cell_type": "code",
   "execution_count": null,
   "metadata": {
    "collapsed": true
   },
   "outputs": [],
   "source": [
    "plt.figure(3)\n",
    "plt.subplot(1,2,1)\n",
    "f2 = plt.plot(x,Y[0,:],x,Y[1,:],x,Y[2,:])\n",
    "plt.legend(('linear','quadratic','sin'),loc=1)\n",
    "plt.subplot(1,2,2)\n",
    "plt.plot(x,np.exp(x))\n",
    "plt.show()"
   ]
  }
 ],
 "metadata": {
  "kernelspec": {
   "display_name": "Python 3",
   "language": "python",
   "name": "python3"
  },
  "language_info": {
   "codemirror_mode": {
    "name": "ipython",
    "version": 3
   },
   "file_extension": ".py",
   "mimetype": "text/x-python",
   "name": "python",
   "nbconvert_exporter": "python",
   "pygments_lexer": "ipython3",
   "version": "3.6.0"
  }
 },
 "nbformat": 4,
 "nbformat_minor": 2
}

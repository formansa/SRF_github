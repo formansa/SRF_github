{
 "cells": [
  {
   "cell_type": "markdown",
   "metadata": {},
   "source": [
    "## References and Copies"
   ]
  },
  {
   "cell_type": "code",
   "execution_count": 3,
   "metadata": {
    "collapsed": false
   },
   "outputs": [
    {
     "name": "stdout",
     "output_type": "stream",
     "text": [
      "gustavo\n",
      "claudio\n"
     ]
    }
   ],
   "source": [
    "# copying and referencing \"basic\" types, which are immutable\n",
    "\n",
    "x = 'gustavo'\n",
    "y = x\n",
    "y = 'claudio'\n",
    "print(x)\n",
    "print(y)\n"
   ]
  },
  {
   "cell_type": "code",
   "execution_count": 4,
   "metadata": {
    "collapsed": false
   },
   "outputs": [
    {
     "name": "stdout",
     "output_type": "stream",
     "text": [
      "luis\n",
      "gustavo\n",
      "L [0, 2, 4, 6, 8, 10]\n",
      "M [0, 2, 4, 6, 8, 10]\n",
      "N [0, 2, 4, 6, 8, 10]\n",
      "Removing items from L\n",
      "L [0, 6, 8, 10]\n",
      "M [0, 2, 4, 6, 8, 10]\n",
      "N [0, 6, 8, 10]\n",
      "Adding items to M and N\n",
      "L [0, 6, 8, 10, -1]\n",
      "M [0, 2, 4, 6, 8, 10, 12]\n",
      "N [0, 6, 8, 10, -1]\n"
     ]
    }
   ],
   "source": [
    "\n",
    "y = x\n",
    "x = 'luis'\n",
    "print(x)\n",
    "print(y)\n"
   ]
  },
  {
   "cell_type": "code",
   "execution_count": 5,
   "metadata": {
    "collapsed": false
   },
   "outputs": [
    {
     "name": "stdout",
     "output_type": "stream",
     "text": [
      "L [0, 2, 4, 6, 8, 10]\n",
      "M [0, 2, 4, 6, 8, 10]\n",
      "N [0, 2, 4, 6, 8, 10]\n",
      "Removing items from L\n",
      "L [0, 6, 8, 10]\n",
      "M [0, 2, 4, 6, 8, 10]\n",
      "N [0, 6, 8, 10]\n",
      "Adding items to M and N\n",
      "L [0, 6, 8, 10, -1]\n",
      "M [0, 2, 4, 6, 8, 10, 12]\n",
      "N [0, 6, 8, 10, -1]\n"
     ]
    }
   ],
   "source": [
    "\n",
    "# copying and referencing lists\n",
    "L = list(range(0,11,2))\n",
    "print('L',L)\n",
    "M = L[:]  # copying the content of L to the new list M\n",
    "N = L     # creating a reference to the list L\n",
    "print('M',M)\n",
    "print('N',N)\n"
   ]
  },
  {
   "cell_type": "code",
   "execution_count": null,
   "metadata": {
    "collapsed": true
   },
   "outputs": [],
   "source": [
    "print('Removing items from L')\n",
    "L.remove(2)\n",
    "L.remove(4)\n",
    "print('L',L)\n",
    "print('M',M)\n",
    "print('N',N)\n"
   ]
  },
  {
   "cell_type": "code",
   "execution_count": null,
   "metadata": {
    "collapsed": true
   },
   "outputs": [],
   "source": [
    "print('Adding items to M and N')\n",
    "M.append(12)\n",
    "N.append(-1)\n",
    "print('L',L)\n",
    "print('M',M)\n",
    "print('N',N)"
   ]
  },
  {
   "cell_type": "markdown",
   "metadata": {},
   "source": [
    "## Lists and Dictionaries "
   ]
  },
  {
   "cell_type": "code",
   "execution_count": 7,
   "metadata": {
    "collapsed": false
   },
   "outputs": [
    {
     "name": "stdout",
     "output_type": "stream",
     "text": [
      "Marguerita:\n",
      "  tomato souce\n",
      "  mozzarella\n",
      "  basil\n",
      "Cheese:\n",
      "  tomato souce\n",
      "  mozzarella\n",
      "Chicken:\n",
      "  tomato souce\n",
      "  mozzarella\n",
      "  basil\n",
      "  chicken breast\n",
      "Veggie:\n",
      "  tomato souce\n",
      "  mozzarella\n",
      "  mushroom\n",
      "  pepper\n"
     ]
    }
   ],
   "source": [
    "pizza_name = ['marguerita','cheese','chicken','veggie']\n",
    "toppings = ['tomato souce','mozzarella','tomato','basil','chicken breast','mushroom','pepper']\n",
    "\n",
    "pizza = {} # create an empty dictionary\n",
    "for name in pizza_name:\n",
    "   pizza[name] = [toppings[0],toppings[1]] # all pizzas have those two ingredientes\n",
    "\n",
    "pizza['marguerita'].append(toppings[3])\n",
    "pizza['chicken'].extend(toppings[3:5])\n",
    "pizza['veggie'].extend(toppings[5:])\n",
    "\n",
    "\n",
    "for key,name in pizza.items():\n",
    "    print(key.title()+':')\n",
    "    for i in range(len(name)):\n",
    "        print('  '+name[i])"
   ]
  },
  {
   "cell_type": "markdown",
   "metadata": {},
   "source": [
    "## File I/O"
   ]
  },
  {
   "cell_type": "code",
   "execution_count": 17,
   "metadata": {
    "collapsed": true
   },
   "outputs": [],
   "source": [
    "# Creating a file with 10 numbers per row\n",
    "import random\n",
    "\n",
    "fw = open('numbers.txt','wt')\n",
    "\n",
    "for i in range(100):\n",
    "    for j in range(10):\n",
    "        rn = random.uniform(0,1)\n",
    "        fw.write(\"{:.2f}\".format(rn)+' ')\n",
    "    fw.write('\\n')\n",
    "    \n",
    "fw.close()"
   ]
  },
  {
   "cell_type": "code",
   "execution_count": 2,
   "metadata": {
    "collapsed": false
   },
   "outputs": [
    {
     "name": "stdout",
     "output_type": "stream",
     "text": [
      "[0.57, 0.6]\n",
      "[0.56, 0.73, 0.57, 0.78, 0.7, 0.56, 0.95]\n",
      "[0.9, 0.98, 0.6]\n",
      "[0.9, 0.62, 0.83, 0.9, 0.54, 0.8]\n",
      "[0.51, 0.7, 0.72, 0.62]\n",
      "[0.81, 0.57, 0.94, 1.0, 0.94]\n",
      "[0.58, 0.53, 0.74, 0.84, 0.75, 0.95, 0.65]\n",
      "[0.67, 0.53, 0.91, 0.84, 0.54]\n",
      "[0.98, 0.57, 0.63, 0.84, 0.66]\n",
      "[0.82, 0.85, 0.74, 0.98, 0.67, 0.57, 0.64, 0.6]\n",
      "[0.94, 0.78, 0.54]\n",
      "[0.72, 0.9, 0.54, 0.86]\n",
      "[0.56, 0.6, 0.85, 0.99, 0.81, 0.6]\n",
      "[0.84, 0.62]\n",
      "[0.88, 0.78, 0.64, 0.97, 0.92, 0.69, 0.95]\n",
      "[0.83, 0.72, 0.6, 0.77, 0.96, 0.55]\n",
      "[0.86, 0.91, 0.71, 0.83, 0.6, 0.71]\n",
      "[0.53, 0.85, 0.86, 0.99, 0.63]\n",
      "[0.8, 0.82, 0.52, 0.51, 0.84, 0.87]\n",
      "[0.94, 0.62, 0.72, 0.51, 0.97]\n",
      "[0.53, 0.68, 0.74]\n",
      "[0.61, 0.79, 0.85, 0.91, 0.7, 0.79]\n",
      "[0.64, 0.56]\n",
      "[0.86, 0.64, 0.75, 0.67, 0.87]\n",
      "[0.6, 0.69, 0.96]\n",
      "[0.94, 0.82, 0.74, 0.64, 0.56]\n",
      "[0.81, 0.93, 0.7, 0.8, 0.84, 0.65, 0.8]\n",
      "[0.79, 0.53, 0.95, 0.8, 0.56, 0.6, 0.95]\n",
      "[0.81, 0.62, 0.62, 0.66]\n",
      "[0.55, 0.94, 0.65, 0.78, 0.55]\n",
      "[0.52, 0.53, 0.6, 0.54, 0.64, 0.53, 0.55]\n",
      "[0.68, 0.66, 0.74, 0.64, 0.7, 0.76]\n",
      "[0.56, 0.83, 0.62, 0.82]\n",
      "[0.62, 0.93, 0.67, 0.64, 0.85]\n",
      "[0.84, 0.69, 0.59]\n",
      "[0.95, 0.93, 0.82, 0.64, 0.6]\n",
      "[0.98, 0.59, 0.63, 0.61, 0.83, 0.78]\n",
      "[0.54, 0.52, 0.78]\n",
      "[0.82, 0.92, 0.93, 0.64]\n",
      "[0.73, 0.96, 0.9, 0.63, 0.93, 0.62]\n",
      "[0.7, 0.55, 0.89, 0.6]\n",
      "[0.71, 1.0, 0.73, 0.9]\n",
      "[0.85, 0.65]\n",
      "[0.77, 0.51, 0.85, 0.78, 0.86]\n",
      "[0.98, 0.99, 0.8, 0.64]\n",
      "[0.61, 0.69, 0.95, 0.92, 0.73, 0.65, 0.78]\n",
      "[0.99, 0.54, 0.87, 0.92, 0.66]\n",
      "[0.54, 0.76, 0.59, 0.71, 0.99, 0.59, 0.97, 0.8, 0.96]\n",
      "[0.93, 0.84, 0.9, 0.54]\n",
      "[0.85, 0.76, 0.61, 0.75, 0.92]\n",
      "[0.74, 0.68, 0.83, 0.72, 0.67, 0.65, 0.89]\n",
      "[0.94, 0.83, 0.96, 0.71, 0.96, 0.75]\n",
      "[]\n",
      "[0.73, 0.88, 0.83, 0.76, 0.91]\n",
      "[0.99, 0.61, 0.75]\n",
      "[0.93, 0.78, 0.94, 0.7, 0.83, 0.61, 0.93]\n",
      "[0.68, 0.81, 0.81, 0.94]\n",
      "[0.63, 0.57, 0.71, 0.85, 0.68]\n",
      "[0.59, 0.56, 0.65, 0.76, 0.72, 0.57]\n",
      "[0.91, 0.51, 0.64, 0.62]\n",
      "[0.79, 0.63, 0.87, 0.88, 0.51, 0.8, 0.88]\n",
      "[0.96, 0.96, 0.66, 0.51]\n",
      "[0.63, 0.75, 0.58, 0.6, 0.87]\n",
      "[0.99, 0.86, 0.7, 0.9, 0.92, 0.54, 0.55, 0.96]\n",
      "[0.53, 0.54, 0.68, 0.58, 0.86, 0.82]\n",
      "[0.65, 0.52, 0.84, 0.8, 0.95, 0.75]\n",
      "[0.85, 0.58, 0.63, 0.52, 0.91, 0.73, 0.57]\n",
      "[0.62, 0.58, 0.66, 0.75, 0.76]\n",
      "[0.94, 0.96, 0.94, 0.97, 0.84]\n",
      "[0.74, 0.87, 0.74, 0.88]\n",
      "[0.81, 0.59, 0.75, 0.56, 0.57]\n",
      "[0.97, 0.76, 0.51, 0.52]\n",
      "[0.78, 0.59, 0.93, 0.87, 0.65]\n",
      "[0.98, 0.83, 0.95, 0.51]\n",
      "[0.98, 0.63, 0.95, 0.98, 0.68, 0.87]\n",
      "[0.52, 0.72, 0.81]\n",
      "[0.61, 0.86, 0.93, 0.81]\n",
      "[0.86, 0.95, 0.7, 0.67]\n",
      "[0.95, 0.55, 0.75]\n",
      "[0.93, 0.51, 0.69, 0.83]\n",
      "[0.81, 0.71]\n",
      "[0.54, 0.75, 0.57, 0.76]\n",
      "[0.84, 0.7, 0.67, 0.84, 0.53, 0.98]\n",
      "[0.63, 0.95, 0.67, 0.62, 0.65, 0.52]\n",
      "[0.67, 0.89, 0.76, 0.78, 0.9]\n",
      "[0.81, 0.83, 0.85, 0.56, 0.96]\n",
      "[0.83, 0.98, 0.51, 0.85]\n",
      "[0.6, 0.77, 0.99, 0.91, 0.79, 0.84, 0.54, 0.91]\n",
      "[0.68, 0.63, 0.8, 0.79, 0.8]\n",
      "[0.87, 0.71, 0.54, 0.87, 0.79]\n",
      "[0.58, 0.74, 0.77]\n",
      "[0.57, 0.62, 0.95, 0.8, 0.78, 0.81, 0.84]\n",
      "[0.98, 0.67, 0.86]\n",
      "[0.75, 0.57, 0.98, 0.53]\n",
      "[0.53, 0.86, 0.81, 0.8, 0.98, 0.84]\n",
      "[0.92, 0.98, 0.51, 0.6, 0.96, 0.81]\n",
      "[0.65, 0.61, 0.75, 0.55, 0.68, 0.58]\n",
      "[0.87, 0.73]\n",
      "[0.63, 0.64, 0.51, 0.58, 0.97, 0.9]\n",
      "[0.7, 0.66, 0.68, 0.59]\n"
     ]
    }
   ],
   "source": [
    "# Reading the file and filtering the numbers greater than 0.5\n",
    "\n",
    "fr = open('numbers.txt','rt')\n",
    "\n",
    "l = []\n",
    "for line in fr:\n",
    "    str_numbers = line.split()\n",
    "    l_temp = []\n",
    "    for s in str_numbers:\n",
    "        if (float(s) > 0.5):\n",
    "            l_temp.append(float(s))\n",
    "    l.append(l_temp)\n",
    "    \n",
    "fr.close()\n",
    "\n",
    "for ls in l:\n",
    "    print(ls)"
   ]
  },
  {
   "cell_type": "code",
   "execution_count": null,
   "metadata": {
    "collapsed": true
   },
   "outputs": [],
   "source": []
  }
 ],
 "metadata": {
  "kernelspec": {
   "display_name": "Python 3",
   "language": "python",
   "name": "python3"
  },
  "language_info": {
   "codemirror_mode": {
    "name": "ipython",
    "version": 3
   },
   "file_extension": ".py",
   "mimetype": "text/x-python",
   "name": "python",
   "nbconvert_exporter": "python",
   "pygments_lexer": "ipython3",
   "version": "3.6.0"
  }
 },
 "nbformat": 4,
 "nbformat_minor": 2
}

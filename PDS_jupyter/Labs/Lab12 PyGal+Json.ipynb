{
 "cells": [
  {
   "cell_type": "markdown",
   "metadata": {},
   "source": [
    "# JSON files and Pygal"
   ]
  },
  {
   "cell_type": "code",
   "execution_count": 1,
   "metadata": {
    "collapsed": false
   },
   "outputs": [
    {
     "name": "stdout",
     "output_type": "stream",
     "text": [
      "  Country Code Country Name      Value  Year\n",
      "0          ARB   Arab World   96388069  1960\n",
      "1          ARB   Arab World   98882541  1961\n",
      "2          ARB   Arab World  101474075  1962\n",
      "3          ARB   Arab World  104169209  1963\n",
      "4          ARB   Arab World  106978104  1964\n"
     ]
    }
   ],
   "source": [
    "import pandas as pd\n",
    "import pygal as pg\n",
    "#pip install pygal\n",
    "\n",
    "df_pop = pd.read_json('population_data.json')\n",
    "df_pop['Value']=df_pop['Value'].astype('int64')\n",
    "print(df_pop.head())"
   ]
  },
  {
   "cell_type": "markdown",
   "metadata": {},
   "source": [
    "### Printing some coutries"
   ]
  },
  {
   "cell_type": "code",
   "execution_count": 2,
   "metadata": {
    "collapsed": false
   },
   "outputs": [
    {
     "ename": "AttributeError",
     "evalue": "module 'pygal.maps' has no attribute 'world'",
     "output_type": "error",
     "traceback": [
      "\u001b[0;31m---------------------------------------------------------------------------\u001b[0m",
      "\u001b[0;31mAttributeError\u001b[0m                            Traceback (most recent call last)",
      "\u001b[0;32m<ipython-input-2-f3011e37b35a>\u001b[0m in \u001b[0;36m<module>\u001b[0;34m()\u001b[0m\n\u001b[1;32m      1\u001b[0m \u001b[0;31m#pip install pygal_maps_world\u001b[0m\u001b[0;34m\u001b[0m\u001b[0;34m\u001b[0m\u001b[0m\n\u001b[0;32m----> 2\u001b[0;31m \u001b[0mworldmap_chart\u001b[0m \u001b[0;34m=\u001b[0m \u001b[0mpg\u001b[0m\u001b[0;34m.\u001b[0m\u001b[0mmaps\u001b[0m\u001b[0;34m.\u001b[0m\u001b[0mworld\u001b[0m\u001b[0;34m.\u001b[0m\u001b[0mWorld\u001b[0m\u001b[0;34m(\u001b[0m\u001b[0;34m)\u001b[0m\u001b[0;34m\u001b[0m\u001b[0m\n\u001b[0m\u001b[1;32m      3\u001b[0m \u001b[0mworldmap_chart\u001b[0m\u001b[0;34m.\u001b[0m\u001b[0mtitle\u001b[0m \u001b[0;34m=\u001b[0m \u001b[0;34m'Some countries'\u001b[0m\u001b[0;34m\u001b[0m\u001b[0m\n\u001b[1;32m      4\u001b[0m \u001b[0mworldmap_chart\u001b[0m\u001b[0;34m.\u001b[0m\u001b[0madd\u001b[0m\u001b[0;34m(\u001b[0m\u001b[0;34m'F countries'\u001b[0m\u001b[0;34m,\u001b[0m \u001b[0;34m[\u001b[0m\u001b[0;34m'fr'\u001b[0m\u001b[0;34m,\u001b[0m \u001b[0;34m'fi'\u001b[0m\u001b[0;34m]\u001b[0m\u001b[0;34m)\u001b[0m\u001b[0;34m\u001b[0m\u001b[0m\n\u001b[1;32m      5\u001b[0m \u001b[0mworldmap_chart\u001b[0m\u001b[0;34m.\u001b[0m\u001b[0madd\u001b[0m\u001b[0;34m(\u001b[0m\u001b[0;34m'J countries'\u001b[0m\u001b[0;34m,\u001b[0m \u001b[0;34m[\u001b[0m\u001b[0;34m'jm'\u001b[0m\u001b[0;34m,\u001b[0m \u001b[0;34m'jp'\u001b[0m\u001b[0;34m,\u001b[0m \u001b[0;34m'jo'\u001b[0m\u001b[0;34m]\u001b[0m\u001b[0;34m)\u001b[0m\u001b[0;34m\u001b[0m\u001b[0m\n",
      "\u001b[0;31mAttributeError\u001b[0m: module 'pygal.maps' has no attribute 'world'"
     ]
    }
   ],
   "source": [
    "#pip install pygal_maps_world\n",
    "worldmap_chart = pg.maps.world.World()\n",
    "worldmap_chart.title = 'Some countries'\n",
    "worldmap_chart.add('F countries', ['fr', 'fi'])\n",
    "worldmap_chart.add('J countries', ['jm', 'jp', 'jo'])\n",
    "worldmap_chart.add('U countries', ['ua', 'ug', 'us', 'uy', 'uz'])\n",
    "worldmap_chart.render_to_file('world_map.svg')"
   ]
  },
  {
   "cell_type": "markdown",
   "metadata": {},
   "source": [
    "### Converting country codes to two digits\n",
    "pygal use a two digit codes for the countries"
   ]
  },
  {
   "cell_type": "code",
   "execution_count": 5,
   "metadata": {
    "collapsed": false
   },
   "outputs": [
    {
     "name": "stdout",
     "output_type": "stream",
     "text": [
      "      Country Code   Country Name      Value  Year\n",
      "11876           us  United States  180671000  1960\n",
      "11877           us  United States  183691000  1961\n",
      "11878           us  United States  186538000  1962\n",
      "11879           us  United States  189242000  1963\n",
      "11880           us  United States  191889000  1964\n",
      "     Country Code Country Name     Value  Year\n",
      "2907           br       Brazil  72758801  1960\n",
      "2908           br       Brazil  74975656  1961\n",
      "2909           br       Brazil  77279855  1962\n",
      "2910           br       Brazil  79642214  1963\n",
      "2911           br       Brazil  82021855  1964\n"
     ]
    }
   ],
   "source": [
    "from pygal.maps.world import COUNTRIES\n",
    "\n",
    "for cc in sorted(COUNTRIES.keys()):\n",
    "    lcc = (df_pop['Country Name']==COUNTRIES[cc]).idxmax()\n",
    "    if lcc:\n",
    "        df_pop['Country Code'].replace(to_replace=df_pop['Country Code'].iloc[lcc],value=cc,inplace=True)\n",
    "        \n",
    "print(df_pop[df_pop['Country Code']=='us'].iloc[0:5])\n",
    "print(df_pop[df_pop['Country Code']=='br'].iloc[0:5])"
   ]
  },
  {
   "cell_type": "markdown",
   "metadata": {},
   "source": [
    "### Most populated countries in a given year"
   ]
  },
  {
   "cell_type": "code",
   "execution_count": null,
   "metadata": {
    "collapsed": true
   },
   "outputs": [],
   "source": [
    "def sort_by_pop(g):\n",
    "    return(g.sort_values(by='Value',ascending=False))\n",
    "    \n",
    "df_pop_year = df_pop.groupby('Year').apply(sort_by_pop)\n",
    "\n",
    "year = 2000 # given year\n",
    "worldmap_most_pop = pg.maps.world.World()\n",
    "n_pop = 5 # five most populated\n",
    "c = 0\n",
    "i = 0\n",
    "#print(year,df_pop_year.loc[year][['Country Code','Country Name']])\n",
    "while c<n_pop:\n",
    "    # not all codes are conveted to 2 digits, so we have to check if it is valid\n",
    "    if (len(df_pop_year.loc[year]['Country Code'].iloc[i]) == 2):\n",
    "        c=c+1\n",
    "        #print(df_pop_year.loc[year]['Country Name'],df_pop_year.loc[year]['Country Code'].iloc[c])\n",
    "        worldmap_most_pop.add(df_pop_year.loc[year]['Country Name'].iloc[i],{df_pop_year.loc[year]['Country Code'].iloc[i]:df_pop_year.loc[year]['Value'].iloc[i]})\n",
    "    i=i+1\n",
    "\n",
    "worldmap_most_pop.title = 'Most Populated in '+str(year)\n",
    "worldmap_most_pop.render_to_file('world_most_popylated.svg')"
   ]
  },
  {
   "cell_type": "markdown",
   "metadata": {},
   "source": [
    "***\n",
    "# Quering Web Sites"
   ]
  },
  {
   "cell_type": "code",
   "execution_count": null,
   "metadata": {
    "collapsed": true
   },
   "outputs": [],
   "source": [
    "import requests as rqs\n",
    "\n",
    "url = 'https://api.github.com/search/repositories?q=language:python&sort=stars'\n",
    "r = rqs.get(url)\n",
    "print(r.status_code) # 200 means a successful request \n",
    "print(r.text)"
   ]
  },
  {
   "cell_type": "code",
   "execution_count": null,
   "metadata": {
    "collapsed": true
   },
   "outputs": [],
   "source": [
    "# converting the json to a dictionary\n",
    "resp=r.json()\n",
    "print(resp.keys())\n",
    "print('Number of Repositories in GitHub: ', resp['total_count'])\n",
    "print('Number of Stared Repositories: ', len(resp['items']))"
   ]
  },
  {
   "cell_type": "code",
   "execution_count": null,
   "metadata": {
    "collapsed": true
   },
   "outputs": [],
   "source": [
    "repositories = resp['items']\n",
    "first_repo = repositories[0] # getting the first repository\n",
    "print(first_repo['name'])\n",
    "print(first_repo['stargazers_count'])\n",
    "print(first_repo['description'])"
   ]
  },
  {
   "cell_type": "code",
   "execution_count": null,
   "metadata": {
    "collapsed": true
   },
   "outputs": [],
   "source": [
    "r = rqs.get('http://en.wikipedia.org/wiki/Monty_Python')\n",
    "#print(r.headers['content-type'])\n",
    "for k in r.headers.keys():\n",
    "    print(k)\n",
    "print(r.text)"
   ]
  },
  {
   "cell_type": "markdown",
   "metadata": {},
   "source": [
    "# PyGal: examples presented in class"
   ]
  },
  {
   "cell_type": "code",
   "execution_count": 2,
   "metadata": {
    "collapsed": true
   },
   "outputs": [],
   "source": [
    "import pandas as pd\n",
    "import pygal as pg\n",
    "\n",
    "dt = {'Chrome': [6395, 8212, 7520, 7218, 12464, 1660, 2123, 8607],\n",
    "      'Firefox': [7473, 8099, 11700, 2651, 6361, 1044, 3797, 9450],\n",
    "      'Opera': [3472, 2933, 4203, 5229, 5810, 1828, 9013, 4669]} \n",
    "df = pd.DataFrame(dt)"
   ]
  },
  {
   "cell_type": "code",
   "execution_count": null,
   "metadata": {
    "collapsed": true
   },
   "outputs": [],
   "source": [
    "# Dot chart\n",
    "dot_chart = pg.Dot(x_label_rotation=30)\n",
    "dot_chart.title = 'V8 benchmark results'\n",
    "dot_chart.x_labels = ['Richards', 'DeltaBlue', 'Crypto', 'RayTrace', 'EarleyBoyer', 'RegExp', 'Splay', 'NavierStokes']\n",
    "for cols in df.columns:\n",
    "   dot_chart.add(cols,df[cols])\n",
    "dot_chart.render_to_file('dot_chart.svg')"
   ]
  },
  {
   "cell_type": "code",
   "execution_count": null,
   "metadata": {
    "collapsed": true
   },
   "outputs": [],
   "source": [
    "# StackedLine charts\n",
    "dot_chart = pg.StackedLine(fill=True)\n",
    "dot_chart.title = 'V8 benchmark results'\n",
    "dot_chart.x_labels = map(str,range(0,df.shape[0]))\n",
    "for cols in df.columns:\n",
    "   dot_chart.add(cols,df[cols])\n",
    "dot_chart.render_to_file('stacked_chart.svg')"
   ]
  },
  {
   "cell_type": "code",
   "execution_count": null,
   "metadata": {
    "collapsed": true
   },
   "outputs": [],
   "source": [
    "# incorporating some customizations\n",
    "from pygal.style import DarkStyle, DarkSolarizedStyle\n",
    "from pygal import Config\n",
    "\n",
    "#cibar_chart = pg.Bar(width=1000,spacing=50,style=DarkStyle)\n",
    "cibar_chart = pg.Bar(width=800,spacing=20,style=DarkSolarizedStyle)\n",
    "cibar_chart.title = 'Browsers'\n",
    "# labels\n",
    "cibar_chart.x_label_rotation=30 \n",
    "cibar_chart.truncate_label=8\n",
    "cibar_chart.human_readable = True\n",
    "#cibar_chart.x_labels_major = ['Crypto','RayTrace']\n",
    "cibar_chart.x_labels_major_count=4\n",
    "#cibar_chart.include_x_axis=False\n",
    "#cibar_chart.x_labels = ({'lable':'Richards','value':.0000000012},\n",
    "#                        {'lable':'DeltaBlue','value':.00024},\n",
    "#                        {'lable':'Crypto','value':.00036},\n",
    "#                        {'lable':'RayTrace','value':.00036},\n",
    "#                        {'lable':'EarleyBoyer','value':.00024},\n",
    "#                        {'lable':'RegExp','value':.00012},\n",
    "#                        {'lable':'Splay','value':.00012},\n",
    "#                        {'lable':'NavierStokes','value':.00012})\n",
    "cibar_chart.x_labels = ['Richards', 'DeltaBlue', 'Crypto', 'RayTrace', 'EarleyBoyer', 'RegExp', 'Splay', 'NavierStokes']\n",
    "for cols in dt.keys():\n",
    "    cibar_chart.add(cols,dt[cols])\n",
    "\n",
    "cibar_chart.render_to_file('cibar_chart.svg')"
   ]
  }
 ],
 "metadata": {
  "kernelspec": {
   "display_name": "Python 3",
   "language": "python",
   "name": "python3"
  },
  "language_info": {
   "codemirror_mode": {
    "name": "ipython",
    "version": 3
   },
   "file_extension": ".py",
   "mimetype": "text/x-python",
   "name": "python",
   "nbconvert_exporter": "python",
   "pygments_lexer": "ipython3",
   "version": "3.6.0"
  }
 },
 "nbformat": 4,
 "nbformat_minor": 2
}

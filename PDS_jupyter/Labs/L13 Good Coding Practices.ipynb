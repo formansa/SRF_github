{
 "cells": [
  {
   "cell_type": "markdown",
   "metadata": {},
   "source": [
    "### Bad Coding Practices\n",
    "- What is the code doing?\n",
    "- pinpoint all the badpractices here"
   ]
  },
  {
   "cell_type": "code",
   "execution_count": null,
   "metadata": {
    "collapsed": true
   },
   "outputs": [],
   "source": [
    "print('Name:')\n",
    "name = input()\n",
    "print('Hours:')\n",
    "h = float(input())\n",
    "print('Activity (a,b):\\n')\n",
    "print(' f. physical labor\\n')\n",
    "print(' i. intelectual labor\\n')\n",
    "i = input()"
   ]
  },
  {
   "cell_type": "code",
   "execution_count": null,
   "metadata": {
    "collapsed": true
   },
   "outputs": [],
   "source": [
    "print(\"What is your motivation?\\n\")\n",
    "print(\" a. Motivated\\n\")\n",
    "print(\" b. Ok\\n\")\n",
    "print(\" c. Lazy \\n\")\n",
    "mlevel = input()"
   ]
  },
  {
   "cell_type": "code",
   "execution_count": null,
   "metadata": {
    "collapsed": true
   },
   "outputs": [],
   "source": [
    "if (mlevel=='a'): # this is an if statement\n",
    "    if (h>=8):\n",
    "        if (i=='p'): # checks if f\n",
    "             print(\"Go to class homework\")\n",
    "        else:\n",
    "             print(\"Go to the gym\")\n",
    "    else:\n",
    "        print('Work in your final project')\n",
    "else:\n",
    "# This is a comment right in the middle that says nothing, just to show you how annoying \n",
    "# it is find a comment this big in the middle of code, making you wasting time without\n",
    "# no useful information available here. Large paragraphs of comments makes your code harder to read\n",
    "# try using short statements to briefly explain what a block of code is actually doing instead\n",
    "# of paragraphs that state nothing really important.\n",
    "    if (mlevel=='b'):\n",
    "        if (h>=8):\n",
    "            if (i=='p'): # checks if f\n",
    "                print(\"Review class slides\")\n",
    "            else:\n",
    "                print(\"Wash dishes\")\n",
    "        else:\n",
    "            print('Clean the bathroom')\n",
    "\n",
    "    else: \n",
    "        if (mlevel=='c'):\n",
    "            if (h>=8):\n",
    "                if (i=='p'): # checks if f\n",
    "                    print(\"Read a book\")\n",
    "                else:\n",
    "                    print(\"Organize your shoes\")\n",
    "            else:\n",
    "                print('Organize the wardrobe')"
   ]
  },
  {
   "cell_type": "markdown",
   "metadata": {},
   "source": [
    "-----\n",
    "## Now with good practives\n",
    "------"
   ]
  },
  {
   "cell_type": "code",
   "execution_count": 9,
   "metadata": {
    "collapsed": true
   },
   "outputs": [],
   "source": [
    "# Programmer: Gustavo Nonato            Date: 12/04/2017\n",
    "# File: Lab13 - Good Coding Practices   Class: DS-GA 1007\n",
    "# Purpose: This code helps students to select\n",
    "#          the appropriate work to do, given a\n",
    "#          level of motivation and number of hours\n",
    "#          already worked in the day\n",
    "\n",
    "import sys  # this package is used to flush the text after the prints\n",
    "\n",
    "#####\n",
    "# Defining variables and constants \n",
    "#####\n",
    "\n",
    "#### Number of hours considered the upper limit\n",
    "hours_thresh = 8.0\n",
    "\n",
    "#### Dictionary containing the options based on the motivation, hours_threshold, type of work ####\n",
    "motivation_vs_tasks = {\n",
    "    ('m',True,'p'): 'Go to class homework',         # motivated, above threshold, phisical activities\n",
    "    ('m',True,'i'): 'Go to the gym',                # motivated, above threshold, intelectual activities\n",
    "    ('m',False,'p'): 'Work in your final project',  # motivated, below threshold\n",
    "    ('o',True,'p'): 'Review class slides',          # ok, above threshold, phisical activities\n",
    "    ('o',True,'i'): 'Wash dishes',                  # ok above threshold, intelectual activities\n",
    "    ('o',False,'p'): 'Clean the bathroom',          # ok, below threshold\n",
    "    ('l',True,'p'): 'Read a book',                  # lazy, above threshold, phisical activities\n",
    "    ('l',True,'i'): 'Organize your shoes',          # lazy, above threshold, intelectual activities\n",
    "    ('l',True,'p'): 'Organize the wardrobe',        # lazy, below threshold\n",
    "} "
   ]
  },
  {
   "cell_type": "code",
   "execution_count": 10,
   "metadata": {},
   "outputs": [
    {
     "name": "stdout",
     "output_type": "stream",
     "text": [
      "Please enter your name:\n",
      "Gustavo\n"
     ]
    }
   ],
   "source": [
    "#### Prompt the user for his/her name ####\n",
    "print('Please enter your name:')\n",
    "sys.stdout.flush()\n",
    "student_name = input()    "
   ]
  },
  {
   "cell_type": "code",
   "execution_count": 11,
   "metadata": {},
   "outputs": [
    {
     "name": "stdout",
     "output_type": "stream",
     "text": [
      "How namy hours have you already worked today:\n",
      "9\n"
     ]
    }
   ],
   "source": [
    "#### verify if the number of yours is within the accepted range\n",
    "def is_hours_valid(h):\n",
    "    return(h>=0 and h<=24)\n",
    "\n",
    "#### Prompt the user for the number of hours already worked ####\n",
    "\n",
    "#### checking whether the entered value is valid ####\n",
    "try:\n",
    "    print('How namy hours have you already worked today:')\n",
    "    sys.stdout.flush()\n",
    "    worked_hours = float(input())\n",
    "    assert is_hours_valid(worked_hours)\n",
    "except:\n",
    "    print('Number of hours is invalid')\n",
    "    "
   ]
  },
  {
   "cell_type": "code",
   "execution_count": 12,
   "metadata": {},
   "outputs": [
    {
     "name": "stdout",
     "output_type": "stream",
     "text": [
      "Which is the predominant type of work accomplished during the  9.0  hours\n",
      " p. physical labor\n",
      "\n",
      " i. intelectual labor\n",
      "\n",
      "i\n"
     ]
    }
   ],
   "source": [
    "#### verify if the type of work is valid\n",
    "def is_wtype_valid(w):\n",
    "    return(w.lower()=='p' or w.lower()=='i')\n",
    "\n",
    "#### Prompt the user for the type of work accomplished ####\n",
    "\n",
    "#### checking whether the entered value is valid ####\n",
    "print('Which is the predominant type of work accomplished during the ',worked_hours, ' hours')\n",
    "print(' p. physical labor\\n')\n",
    "print(' i. intelectual labor\\n')\n",
    "try:\n",
    "    work_type = input()\n",
    "    assert is_wtype_valid(work_type)\n",
    "except:\n",
    "    print('Type of work is invalid') \n",
    "    \n",
    "if (worked_hours<hours_thresh):   \n",
    "    work_type = 'p'            # any work accomplihes below the threshold yours is considered physical"
   ]
  },
  {
   "cell_type": "code",
   "execution_count": 13,
   "metadata": {},
   "outputs": [
    {
     "name": "stdout",
     "output_type": "stream",
     "text": [
      "How do you feel now:\n",
      "\n",
      " m. Motivated\n",
      "\n",
      " o. Ok\n",
      "\n",
      " l. Lazy \n",
      "\n",
      "o\n"
     ]
    }
   ],
   "source": [
    "#### verify if the type of work is valid ####\n",
    "def is_mtype_valid(w):\n",
    "    return(w.lower()=='m' or w.lower()=='o' or w.lower()=='l')\n",
    "\n",
    "#### Prompt the user how they feel ####\n",
    "\n",
    "#### checking whether the entered value is valid ####\n",
    "print(\"How do you feel now:\\n\")\n",
    "print(\" m. Motivated\\n\")\n",
    "print(\" o. Ok\\n\")\n",
    "print(\" l. Lazy \\n\")\n",
    "\n",
    "try:\n",
    "    motivation_type = input()\n",
    "    assert is_mtype_valid(motivation_type)\n",
    "except:\n",
    "    print('Type of motivation is invalid') "
   ]
  },
  {
   "cell_type": "code",
   "execution_count": 14,
   "metadata": {},
   "outputs": [
    {
     "name": "stdout",
     "output_type": "stream",
     "text": [
      "Dear  Gustavo , the recommendation for you is:\n",
      "\n",
      "WASH DISHES !!!\n"
     ]
    }
   ],
   "source": [
    "#### return true if worked_hours is above threshold\n",
    "def is_above_threshold(h):\n",
    "    return(h>=hours_thresh)\n",
    "\n",
    "# building the answer tuple to use as the dictionary key\n",
    "answer = (motivation_type,is_above_threshold(worked_hours),work_type)\n",
    "\n",
    "print('Dear ',student_name,', the recommendation for you is:\\n')\n",
    "print(motivation_vs_tasks[answer].upper(),'!!!')"
   ]
  },
  {
   "cell_type": "markdown",
   "metadata": {},
   "source": [
    "-----\n",
    "## Now With Even Better Coding Practices\n",
    "------"
   ]
  },
  {
   "cell_type": "code",
   "execution_count": 1,
   "metadata": {
    "collapsed": true
   },
   "outputs": [],
   "source": [
    "import work_suggestion_class as wsc"
   ]
  },
  {
   "cell_type": "code",
   "execution_count": 3,
   "metadata": {},
   "outputs": [
    {
     "name": "stdout",
     "output_type": "stream",
     "text": [
      "Please enter your name:\n",
      "Datta\n",
      "How namy hours have you already worked today:\n",
      "5\n",
      "Which is the predominant type of work accomplished during the  5.0  hours\n",
      " p. physical labor\n",
      "\n",
      " i. intelectual labor\n",
      "\n",
      "p\n",
      "How do you feel now:\n",
      "\n",
      " m. Motivated\n",
      "\n",
      " o. Ok\n",
      "\n",
      " l. Lazy \n",
      "\n",
      "o\n",
      "Dear  Datta , the recommendation for you is:\n",
      "\n",
      "CLEAN THE BATHROOM !!!\n"
     ]
    }
   ],
   "source": [
    "work_suggestion = wsc.work_suggestion_class()\n",
    "work_suggestion.read_name()\n",
    "work_suggestion.get_working_hours()\n",
    "work_suggestion.get_type_of_work()\n",
    "work_suggestion.get_motivation()\n",
    "work_suggestion.make_suggestion()"
   ]
  },
  {
   "cell_type": "code",
   "execution_count": null,
   "metadata": {
    "collapsed": true
   },
   "outputs": [],
   "source": []
  }
 ],
 "metadata": {
  "kernelspec": {
   "display_name": "Python 3",
   "language": "python",
   "name": "python3"
  },
  "language_info": {
   "codemirror_mode": {
    "name": "ipython",
    "version": 3
   },
   "file_extension": ".py",
   "mimetype": "text/x-python",
   "name": "python",
   "nbconvert_exporter": "python",
   "pygments_lexer": "ipython3",
   "version": "3.6.2"
  }
 },
 "nbformat": 4,
 "nbformat_minor": 2
}

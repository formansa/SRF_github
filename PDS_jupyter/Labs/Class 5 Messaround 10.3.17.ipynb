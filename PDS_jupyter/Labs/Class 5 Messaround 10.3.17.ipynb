{
 "cells": [
  {
   "cell_type": "code",
   "execution_count": null,
   "metadata": {
    "collapsed": true
   },
   "outputs": [],
   "source": [
    "\n",
    "\n",
    "class samtestclass:\n",
    "    def __init__(self, )"
   ]
  },
  {
   "cell_type": "code",
   "execution_count": 1,
   "metadata": {
    "collapsed": false
   },
   "outputs": [
    {
     "data": {
      "text/plain": [
       "['',\n",
       " '/Users/Sam_I_Am/anaconda/lib/python36.zip',\n",
       " '/Users/Sam_I_Am/anaconda/lib/python3.6',\n",
       " '/Users/Sam_I_Am/anaconda/lib/python3.6/lib-dynload',\n",
       " '/Users/Sam_I_Am/anaconda/lib/python3.6/site-packages',\n",
       " '/Users/Sam_I_Am/anaconda/lib/python3.6/site-packages/Sphinx-1.5.1-py3.6.egg',\n",
       " '/Users/Sam_I_Am/anaconda/lib/python3.6/site-packages/aeosa',\n",
       " '/Users/Sam_I_Am/anaconda/lib/python3.6/site-packages/setuptools-27.2.0-py3.6.egg',\n",
       " '/Users/Sam_I_Am/anaconda/lib/python3.6/site-packages/IPython/extensions',\n",
       " '/Users/Sam_I_Am/.ipython']"
      ]
     },
     "execution_count": 1,
     "metadata": {},
     "output_type": "execute_result"
    }
   ],
   "source": [
    "import sys\n",
    "sys.path"
   ]
  },
  {
   "cell_type": "code",
   "execution_count": null,
   "metadata": {
    "collapsed": true
   },
   "outputs": [],
   "source": []
  }
 ],
 "metadata": {
  "kernelspec": {
   "display_name": "Python 3",
   "language": "python",
   "name": "python3"
  },
  "language_info": {
   "codemirror_mode": {
    "name": "ipython",
    "version": 3
   },
   "file_extension": ".py",
   "mimetype": "text/x-python",
   "name": "python",
   "nbconvert_exporter": "python",
   "pygments_lexer": "ipython3",
   "version": "3.6.0"
  }
 },
 "nbformat": 4,
 "nbformat_minor": 2
}

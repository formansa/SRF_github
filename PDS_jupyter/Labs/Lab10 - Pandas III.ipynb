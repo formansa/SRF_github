{
 "cells": [
  {
   "cell_type": "markdown",
   "metadata": {},
   "source": [
    "## Pivot"
   ]
  },
  {
   "cell_type": "code",
   "execution_count": null,
   "metadata": {},
   "outputs": [],
   "source": [
    "import pandas as pd\n",
    "import numpy as np\n",
    "\n",
    "df = pd.DataFrame({'rand':np.random.randint(low=5,size=5),\n",
    "                   'ints':np.arange(5),\n",
    "                   'strgs':['Hi'+str(i) for i in range(5)],\n",
    "                   'let':['L','L','D','G','L']})\n",
    "print(df)"
   ]
  },
  {
   "cell_type": "code",
   "execution_count": null,
   "metadata": {},
   "outputs": [],
   "source": [
    "# With no repeated index the Pivot command just generate a \n",
    "# DataFrame with values in the diagonal\n",
    "\n",
    "dfp = df.pivot(index='ints',columns='strgs',values='rand')\n",
    "print(dfp)"
   ]
  },
  {
   "cell_type": "code",
   "execution_count": null,
   "metadata": {},
   "outputs": [],
   "source": [
    "#  repeated indices fill corresponding columns \n",
    "dfri = df.pivot(index='let',columns='strgs',values='rand')\n",
    "print(dfri)"
   ]
  },
  {
   "cell_type": "code",
   "execution_count": null,
   "metadata": {},
   "outputs": [],
   "source": [
    "# repeated columns \n",
    "dfrc = df.pivot(index='let',columns='rand',values='strgs')\n",
    "print(dfrc)"
   ]
  },
  {
   "cell_type": "code",
   "execution_count": null,
   "metadata": {},
   "outputs": [],
   "source": [
    "df2 = pd.DataFrame({'Item': ['Item0','Item0','Item0','Item1'],\n",
    "                      'CType': ['gold','bronze','gold','silver'], \n",
    "                      'USD': ['1', '2', '3', '4'],\n",
    "                      'EU': ['1', '2', '3', '4']})\n",
    "print(df2)"
   ]
  },
  {
   "cell_type": "code",
   "execution_count": null,
   "metadata": {},
   "outputs": [],
   "source": [
    "# index and column cannot be duplicated\n",
    "dfe = df2.pivot(index='Item', columns='CType', values='USD')\n",
    "print(dfe)"
   ]
  },
  {
   "cell_type": "markdown",
   "metadata": {},
   "source": [
    "## Groupby"
   ]
  },
  {
   "cell_type": "code",
   "execution_count": null,
   "metadata": {},
   "outputs": [],
   "source": [
    "dfg = pd.DataFrame({'key1': ['a','a','b','b','a'],\n",
    "                  'key2': ['one','two','one','two','one'], \n",
    "                  'data1': np.random.randn(5),\n",
    "                  'data2': np.random.randn(5)})\n",
    "print(dfg)"
   ]
  },
  {
   "cell_type": "code",
   "execution_count": null,
   "metadata": {},
   "outputs": [],
   "source": [
    "# groupby generates an object\n",
    "print(dfg.groupby('key1'))\n",
    "# to see the groups\n",
    "print(dfg.groupby('key1').groups)"
   ]
  },
  {
   "cell_type": "code",
   "execution_count": null,
   "metadata": {},
   "outputs": [],
   "source": [
    "# groups can be created using multiple indices\n",
    "print(dfg.groupby(['key1','key2']).groups)"
   ]
  },
  {
   "cell_type": "code",
   "execution_count": null,
   "metadata": {},
   "outputs": [],
   "source": [
    "# interacting with groupby object\n",
    "g = dfg.groupby('key1')\n",
    "\n",
    "for name,group in g:\n",
    "    print(name)\n",
    "    print(group)\n",
    "    \n",
    "print(g.get_group('a'))"
   ]
  },
  {
   "cell_type": "code",
   "execution_count": null,
   "metadata": {},
   "outputs": [],
   "source": [
    "# computing the mean of data1 column using group labels from key1\n",
    "g = dfg['data1'].groupby(dfg['key1'])\n",
    "for name,group in g:\n",
    "    print(name)\n",
    "    print(group)\n",
    "\n",
    "print(g.mean())"
   ]
  },
  {
   "cell_type": "markdown",
   "metadata": {},
   "source": [
    "## Transformation"
   ]
  },
  {
   "cell_type": "code",
   "execution_count": null,
   "metadata": {},
   "outputs": [],
   "source": [
    "people = pd.DataFrame(np.arange(25).reshape(5,5),\n",
    "               columns=['a','b','c','d','e'], \n",
    "               index=['Joe','Steve','Wes','Jim','Travis'])\n",
    "print(people)"
   ]
  },
  {
   "cell_type": "code",
   "execution_count": null,
   "metadata": {},
   "outputs": [],
   "source": [
    "# Agregating using an \"external\" array\n",
    "key=['one','one','two','two','one']\n",
    "print(people.groupby(key).mean())"
   ]
  },
  {
   "cell_type": "code",
   "execution_count": null,
   "metadata": {},
   "outputs": [],
   "source": [
    "# result using transform\n",
    "print(people.groupby(key).transform(np.mean))"
   ]
  },
  {
   "cell_type": "markdown",
   "metadata": {},
   "source": [
    "## Apply"
   ]
  },
  {
   "cell_type": "code",
   "execution_count": null,
   "metadata": {},
   "outputs": [],
   "source": [
    "people2 = pd.DataFrame(np.random.randint(low=4,size=25).reshape(5,5),\n",
    "               columns=['a','b','c','d','e'], \n",
    "               index=['Joe','Steve','Wes','Jim','Travis'])\n",
    "print(people2)"
   ]
  },
  {
   "cell_type": "code",
   "execution_count": null,
   "metadata": {},
   "outputs": [],
   "source": [
    "# sorting by column 'c' and getting the two last rows\n",
    "def top(df):\n",
    "    return df.sort_values(by='c')[-2:]\n",
    "\n",
    "print(top(people2))"
   ]
  },
  {
   "cell_type": "code",
   "execution_count": null,
   "metadata": {},
   "outputs": [],
   "source": [
    "print(people2.groupby('a').apply(top))"
   ]
  },
  {
   "cell_type": "code",
   "execution_count": null,
   "metadata": {},
   "outputs": [],
   "source": [
    "## introducing NaNs\n",
    "ijrand = np.random.randint(low=5,size=(3,2))\n",
    "i = people2.index[ijrand[:,0]]\n",
    "j = people2.columns[ijrand[:,1]]\n",
    "people2.set_value(i,j,np.nan)\n",
    "print(people2)"
   ]
  },
  {
   "cell_type": "code",
   "execution_count": null,
   "metadata": {},
   "outputs": [],
   "source": [
    "# filling the NaNs with averages per group\n",
    "fill_mean = lambda g : g.fillna(g.mean())\n",
    "people3 = people2.apply(fill_mean)\n",
    "print(people3)\n"
   ]
  },
  {
   "cell_type": "code",
   "execution_count": null,
   "metadata": {},
   "outputs": [],
   "source": []
  },
  {
   "cell_type": "code",
   "execution_count": null,
   "metadata": {
    "collapsed": true
   },
   "outputs": [],
   "source": []
  }
 ],
 "metadata": {
  "kernelspec": {
   "display_name": "Python 3",
   "language": "python",
   "name": "python3"
  },
  "language_info": {
   "codemirror_mode": {
    "name": "ipython",
    "version": 3
   },
   "file_extension": ".py",
   "mimetype": "text/x-python",
   "name": "python",
   "nbconvert_exporter": "python",
   "pygments_lexer": "ipython3",
   "version": "3.6.2"
  }
 },
 "nbformat": 4,
 "nbformat_minor": 2
}

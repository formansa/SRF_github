{
 "cells": [
  {
   "cell_type": "markdown",
   "metadata": {},
   "source": [
    "## PyGal Resources"
   ]
  },
  {
   "cell_type": "code",
   "execution_count": 1,
   "metadata": {
    "collapsed": true
   },
   "outputs": [],
   "source": [
    "import pandas as pd\n",
    "import pygal as pg\n",
    "\n",
    "dt = {'Chrome': [6395, 8212, 7520, 7218, 12464, 1660, 2123, 8607],\n",
    "      'Firefox': [7473, 8099, 11700, 2651, 6361, 1044, 3797, 9450],\n",
    "      'Opera': [3472, 2933, 4203, 5229, 5810, 1828, 9013, 4669]} \n",
    "df = pd.DataFrame(dt)"
   ]
  },
  {
   "cell_type": "code",
   "execution_count": 2,
   "metadata": {
    "collapsed": true
   },
   "outputs": [],
   "source": [
    "# Interactive Bar Chart\n",
    "#SRF# pygal documentation http://www.pygal.org/en/stable/documentation/index.html\n",
    "ibar_chart = pg.Bar()\n",
    "ibar_chart.title = 'Browsers'\n",
    "ibar_chart.x_labels = ['Richards', 'DeltaBlue', 'Crypto', 'RayTrace', 'EarleyBoyer', 'RegExp', 'Splay', 'NavierStokes']\n",
    "for cols in dt.keys():\n",
    "    ibar_chart.add(cols,dt[cols])\n",
    "\n",
    "ibar_chart.render_to_file('ibar_chart.svg')"
   ]
  },
  {
   "cell_type": "code",
   "execution_count": 3,
   "metadata": {
    "collapsed": true
   },
   "outputs": [],
   "source": [
    "# incorporating some customizations\n",
    "from pygal.style import DarkStyle, DarkSolarizedStyle\n",
    "from pygal import Config\n",
    "\n",
    "#cibar_chart = pg.Bar(width=1000,spacing=50,style=DarkStyle)\n",
    "#SRF# changing overall with, bar spacing, removing dashed lines\n",
    "cibar_chart = pg.Bar(width=1300,spacing=20,show_y_guides=False,style=DarkSolarizedStyle)\n",
    "cibar_chart.title = 'Browsers'\n",
    "# labels\n",
    "cibar_chart.x_label_rotation=30\n",
    "#SRF# below makes labels have same size / no more than.. \n",
    "cibar_chart.truncate_label=8\n",
    "cibar_chart.human_readable = True\n",
    "#cibar_chart.x_labels_major = ['Crypto','RayTrace']\n",
    "cibar_chart.x_labels_major_count=4\n",
    "#cibar_chart.include_x_axis=False\n",
    "#SRF# below allows you to change data labels \n",
    "#cibar_chart.x_labels = ({'lable':'Richards','value':.0000000012},\n",
    "#                        {'lable':'DeltaBlue','value':.00024},\n",
    "#                        {'lable':'Crypto','value':.00036},\n",
    "#                        {'lable':'RayTrace','value':.00036},\n",
    "#                        {'lable':'EarleyBoyer','value':.00024},\n",
    "#                        {'lable':'RegExp','value':.00012},\n",
    "#                        {'lable':'Splay','value':.00012},\n",
    "#                        {'lable':'NavierStokes','value':.00012})\n",
    "cibar_chart.x_labels = ['Richards', 'DeltaBlue', 'Crypto', 'RayTrace', 'EarleyBoyer', 'RegExp', 'Splay', 'NavierStokes']\n",
    "for cols in dt.keys():\n",
    "    cibar_chart.add(cols,dt[cols])\n",
    "\n",
    "cibar_chart.render_to_file('cibar_chart.svg')"
   ]
  },
  {
   "cell_type": "markdown",
   "metadata": {},
   "source": [
    "## Pillow for Image handling"
   ]
  },
  {
   "cell_type": "code",
   "execution_count": 1,
   "metadata": {
    "collapsed": false
   },
   "outputs": [
    {
     "name": "stdout",
     "output_type": "stream",
     "text": [
      "JPEG (500, 427) RGB\n"
     ]
    }
   ],
   "source": [
    "from PIL import Image\n",
    "import matplotlib.pyplot as plt\n",
    "import numpy as np\n",
    " \n",
    "im = Image.open('elefish.jpg')\n",
    "print(im.format, im.size, im.mode)\n",
    "im.show()"
   ]
  },
  {
   "cell_type": "code",
   "execution_count": 16,
   "metadata": {
    "collapsed": true
   },
   "outputs": [],
   "source": [
    "box = (150, 150, 300, 300)\n",
    "region = im.crop(box)\n",
    "region = region.trana = numpy.array(a)\n",
    "a[:,:,0] *=0\n",
    "a[:,:,1] *=0\n",
    "a = Image.fromarray(a)\n",
    "a.show()spose(Image.ROTATE_180)\n",
    "im.paste(region, box)\n",
    "#region.show()\n",
    "im.show()"
   ]
  },
  {
   "cell_type": "code",
   "execution_count": 13,
   "metadata": {
    "collapsed": true
   },
   "outputs": [],
   "source": [
    "# playing with images as arrays\n",
    "a = np.array(im)\n",
    "a[:,:,0] *=0 # removing the red\n",
    "a[:,:,2] *=0 # removing the blue\n",
    "a = Image.fromarray(a)\n",
    "a.show()"
   ]
  },
  {
   "cell_type": "code",
   "execution_count": 10,
   "metadata": {
    "collapsed": true
   },
   "outputs": [],
   "source": [
    "# image split and point operation\n",
    "source = im.split()\n",
    "R, G, B = 0, 1, 2\n",
    "\n",
    "#source[R].show()\n",
    "#source[G].show()\n",
    "#source[B].show()\n",
    "\n",
    "## process the green band\n",
    "outR = source[R].point(lambda i: i*0.5)\n",
    "outG = source[G].point(lambda i: i*0.3)\n",
    "outB = source[B].point(lambda i: 0)\n",
    "\n",
    "## paste the processed band back\n",
    "source[R].paste(outR, None, None)\n",
    "source[G].paste(outG, None, None)\n",
    "source[B].paste(outB, None, None)\n",
    "\n",
    "## build a new multiband image\n",
    "im_modified = Image.merge(im.mode, source)\n",
    "im_modified.show()\n",
    "im.show()"
   ]
  },
  {
   "cell_type": "code",
   "execution_count": 11,
   "metadata": {
    "collapsed": false
   },
   "outputs": [
    {
     "name": "stdout",
     "output_type": "stream",
     "text": [
      "JPEG (376, 250) RGB\n"
     ]
    }
   ],
   "source": [
    "# blending images\n",
    "im2 = Image.open('car.jpg')\n",
    "print(im2.format, im2.size, im2.mode)\n",
    "box = (0, 0, im2.size[0], im2.size[1])\n",
    "imc = im.crop(box)\n",
    "bim = Image.blend(im2,imc,0.5)\n",
    "bim.show()"
   ]
  },
  {
   "cell_type": "code",
   "execution_count": 12,
   "metadata": {
    "collapsed": true
   },
   "outputs": [],
   "source": [
    "# Filtering\n",
    "from PIL import ImageFilter\n",
    "im_edge = im.filter(ImageFilter.FIND_EDGES)\n",
    "im_sharpen = im.filter(ImageFilter.SHARPEN)\n",
    "im_edge.show()\n",
    "im_sharpen.show()\n",
    "im.show()"
   ]
  }
 ],
 "metadata": {
  "kernelspec": {
   "display_name": "Python 3",
   "language": "python",
   "name": "python3"
  },
  "language_info": {
   "codemirror_mode": {
    "name": "ipython",
    "version": 3
   },
   "file_extension": ".py",
   "mimetype": "text/x-python",
   "name": "python",
   "nbconvert_exporter": "python",
   "pygments_lexer": "ipython3",
   "version": "3.6.0"
  }
 },
 "nbformat": 4,
 "nbformat_minor": 2
}

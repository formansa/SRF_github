{
 "cells": [
  {
   "cell_type": "markdown",
   "metadata": {
    "deletable": true,
    "editable": true
   },
   "source": [
    "# Lab 2 – Python I\n",
    "- Data Types\n",
    "- Syntax and Statements\n",
    "- Functions\n",
    "- Control of Flow\n",
    "- Modules"
   ]
  },
  {
   "cell_type": "markdown",
   "metadata": {
    "deletable": true,
    "editable": true
   },
   "source": [
    "## Intro\n",
    "Let me introduce you to PEP's (Python Enhancement Proposals)\n",
    "### PEP 20 -- The Zen of Python\n",
    "Guiding principles for Python's design"
   ]
  },
  {
   "cell_type": "code",
   "execution_count": 1,
   "metadata": {
    "collapsed": false,
    "deletable": true,
    "editable": true
   },
   "outputs": [
    {
     "name": "stdout",
     "output_type": "stream",
     "text": [
      "The Zen of Python, by Tim Peters\n",
      "\n",
      "Beautiful is better than ugly.\n",
      "Explicit is better than implicit.\n",
      "Simple is better than complex.\n",
      "Complex is better than complicated.\n",
      "Flat is better than nested.\n",
      "Sparse is better than dense.\n",
      "Readability counts.\n",
      "Special cases aren't special enough to break the rules.\n",
      "Although practicality beats purity.\n",
      "Errors should never pass silently.\n",
      "Unless explicitly silenced.\n",
      "In the face of ambiguity, refuse the temptation to guess.\n",
      "There should be one-- and preferably only one --obvious way to do it.\n",
      "Although that way may not be obvious at first unless you're Dutch.\n",
      "Now is better than never.\n",
      "Although never is often better than *right* now.\n",
      "If the implementation is hard to explain, it's a bad idea.\n",
      "If the implementation is easy to explain, it may be a good idea.\n",
      "Namespaces are one honking great idea -- let's do more of those!\n"
     ]
    }
   ],
   "source": [
    "import this"
   ]
  },
  {
   "cell_type": "markdown",
   "metadata": {
    "deletable": true,
    "editable": true
   },
   "source": [
    "### PEP 8 -- [Style Guide for Python Code](https://www.python.org/dev/peps/pep-0008/)\n",
    "Make sure you give it a read to learn the best practices for Python code aesthetics."
   ]
  },
  {
   "cell_type": "markdown",
   "metadata": {
    "deletable": true,
    "editable": true
   },
   "source": [
    "### Python, tell me about yourself..."
   ]
  },
  {
   "cell_type": "code",
   "execution_count": 4,
   "metadata": {
    "collapsed": false,
    "deletable": true,
    "editable": true
   },
   "outputs": [
    {
     "name": "stdout",
     "output_type": "stream",
     "text": [
      "3.5.2 |Anaconda custom (x86_64)| (default, Jul  2 2016, 17:52:12) \n",
      "[GCC 4.2.1 Compatible Apple LLVM 4.2 (clang-425.0.28)]\n"
     ]
    }
   ],
   "source": [
    "import sys\n",
    "print(sys.version)"
   ]
  },
  {
   "cell_type": "markdown",
   "metadata": {
    "deletable": true,
    "editable": true
   },
   "source": [
    "## Data Types\n",
    "### \"In Python everything is an **Object**\" \n",
    "This is a phrase that you must have heard, but what does it really mean?\n",
    "\n",
    "Well let's think about it in terms of the following hyerarchy:\n",
    "1. **Programs** are composed of **modules**. \n",
    "2. **Modules** contain **statements**.\n",
    "3. **Statements** contain **expressions**.\n",
    "4. **Expressions** create and process **objects**.\n",
    "\n",
    "So basically, objects are the smallest unit in the hyerarchy. Objects are Python’s abstraction for data.\n",
    "\n",
    "In particular there are [Built-in objects](https://docs.python.org/3/library/stdtypes.html)\n",
    "\n",
    "**When in doubt, use Built-in objects**: for simple tasks there is usually a Python object that already solves the problem. These are more efficient than building a solution yourself."
   ]
  },
  {
   "cell_type": "code",
   "execution_count": 11,
   "metadata": {
    "collapsed": false,
    "deletable": true,
    "editable": true
   },
   "outputs": [
    {
     "name": "stdout",
     "output_type": "stream",
     "text": [
      "Hello <class 'str'>\n",
      "Hello World <class 'str'>\n",
      "1 <class 'int'>\n",
      "1 <class 'int'>\n"
     ]
    }
   ],
   "source": [
    "x = 'Hello' # Assigning a value to a variable\n",
    "y = 1 # Dynamic typing means that you don't need to declare in advance the type the variable will have\n",
    "\n",
    "# But once assigned, the variable will be associated with a certain object type \n",
    "# as long as the value remains of that type\n",
    "print(x, type(x))\n",
    "\n",
    "x += ' World'\n",
    "print(x, type(x))\n",
    "\n",
    "x = y\n",
    "print(x, type(x))\n",
    "print(y, type(y))"
   ]
  },
  {
   "cell_type": "code",
   "execution_count": 22,
   "metadata": {
    "collapsed": false,
    "deletable": true,
    "editable": true
   },
   "outputs": [
    {
     "name": "stdout",
     "output_type": "stream",
     "text": [
      "str(object='') -> str\n",
      "str(bytes_or_buffer[, encoding[, errors]]) -> str\n",
      "\n",
      "Create a new string object from the given object. If encoding or\n",
      "errors is specified, then the object must expose a data buffer\n",
      "that will be decoded using the given encoding and error handler.\n",
      "Otherwise, returns the result of object.__str__() (if defined)\n",
      "or repr(object).\n",
      "encoding defaults to sys.getdefaultencoding().\n",
      "errors defaults to 'strict'.\n"
     ]
    }
   ],
   "source": [
    "# The __doc__ method has the documentation for an certain Data Type\n",
    "print(x.__doc__)"
   ]
  },
  {
   "cell_type": "code",
   "execution_count": 21,
   "metadata": {
    "collapsed": false,
    "deletable": true,
    "editable": true
   },
   "outputs": [
    {
     "name": "stdout",
     "output_type": "stream",
     "text": [
      "['__add__', '__class__', '__contains__', '__delattr__', '__dir__', '__doc__', '__eq__', '__format__', '__ge__', '__getattribute__', '__getitem__', '__getnewargs__', '__gt__', '__hash__', '__init__', '__iter__', '__le__', '__len__', '__lt__', '__mod__', '__mul__', '__ne__', '__new__', '__reduce__', '__reduce_ex__', '__repr__', '__rmod__', '__rmul__', '__setattr__', '__sizeof__', '__str__', '__subclasshook__', 'capitalize', 'casefold', 'center', 'count', 'encode', 'endswith', 'expandtabs', 'find', 'format', 'format_map', 'index', 'isalnum', 'isalpha', 'isdecimal', 'isdigit', 'isidentifier', 'islower', 'isnumeric', 'isprintable', 'isspace', 'istitle', 'isupper', 'join', 'ljust', 'lower', 'lstrip', 'maketrans', 'partition', 'replace', 'rfind', 'rindex', 'rjust', 'rpartition', 'rsplit', 'rstrip', 'split', 'splitlines', 'startswith', 'strip', 'swapcase', 'title', 'translate', 'upper', 'zfill']\n"
     ]
    }
   ],
   "source": [
    "# dir(x) returns a list of all attributes available for any object passed to it\n",
    "x = 'Hello'\n",
    "print(dir(x))"
   ]
  },
  {
   "cell_type": "code",
   "execution_count": null,
   "metadata": {
    "collapsed": false,
    "deletable": true,
    "editable": true
   },
   "outputs": [],
   "source": [
    "# Don't try to run this cell, it will give you a SyntaxError\n",
    "# Put your cursor on the right side of the x variable and enter \"Shift-Tab\" or \"Shift-Tab-Tab\"\n",
    "x\n",
    "# You can also try entering \"Tab\" while standing on the right side of the x.\n",
    "x."
   ]
  },
  {
   "cell_type": "markdown",
   "metadata": {
    "deletable": true,
    "editable": true
   },
   "source": [
    "Variables, values and references..."
   ]
  },
  {
   "cell_type": "code",
   "execution_count": 25,
   "metadata": {
    "collapsed": false,
    "deletable": true,
    "editable": true
   },
   "outputs": [
    {
     "data": {
      "text/plain": [
       "4363195144"
      ]
     },
     "execution_count": 25,
     "metadata": {},
     "output_type": "execute_result"
    }
   ],
   "source": [
    "id(x) # Represents the memory location for this object"
   ]
  },
  {
   "cell_type": "code",
   "execution_count": 41,
   "metadata": {
    "collapsed": false,
    "deletable": true,
    "editable": true
   },
   "outputs": [
    {
     "name": "stdout",
     "output_type": "stream",
     "text": [
      "4363211592\n",
      "4363211592\n"
     ]
    }
   ],
   "source": [
    "first_list = [1, 2, 3, 'Hello'] # We first create a list\n",
    "second_list = first_list        # We assign it to a second list\n",
    "\n",
    "# Notice that they share the same space in memory\n",
    "print(id(first_list))\n",
    "print(id(second_list))\n",
    "\n",
    "# Change made in-place\n",
    "first_list[3] = 'I have been changed'"
   ]
  },
  {
   "cell_type": "code",
   "execution_count": null,
   "metadata": {
    "collapsed": true,
    "deletable": true,
    "editable": true
   },
   "outputs": [],
   "source": [
    "# Guess what happens?\n",
    "print(second_list)"
   ]
  },
  {
   "cell_type": "code",
   "execution_count": 46,
   "metadata": {
    "collapsed": false,
    "deletable": true,
    "editable": true
   },
   "outputs": [
    {
     "name": "stdout",
     "output_type": "stream",
     "text": [
      "Have I been changed too? \"Hello\"\n",
      "\"Hello\" Have I been changed too?\n"
     ]
    }
   ],
   "source": [
    "# Why the same does not happen in this case?\n",
    "a = '\"Hello\"'\n",
    "b = a\n",
    "a = 'Have I been changed too?'\n",
    "print(a, b)\n",
    "\n",
    "# Swap values without an auxiliary variable\n",
    "a, b = b, a\n",
    "print(a, b)"
   ]
  },
  {
   "cell_type": "markdown",
   "metadata": {
    "deletable": true,
    "editable": true
   },
   "source": [
    "### Mutable vs. Immutable sequences"
   ]
  },
  {
   "cell_type": "code",
   "execution_count": 131,
   "metadata": {
    "collapsed": false,
    "deletable": true,
    "editable": true
   },
   "outputs": [
    {
     "ename": "TypeError",
     "evalue": "'tuple' object does not support item assignment",
     "output_type": "error",
     "traceback": [
      "\u001b[0;31m---------------------------------------------------------------------------\u001b[0m",
      "\u001b[0;31mTypeError\u001b[0m                                 Traceback (most recent call last)",
      "\u001b[0;32m<ipython-input-131-47a759c65958>\u001b[0m in \u001b[0;36m<module>\u001b[0;34m()\u001b[0m\n\u001b[1;32m      1\u001b[0m \u001b[0;31m# Tuples are immutable\u001b[0m\u001b[0;34m\u001b[0m\u001b[0;34m\u001b[0m\u001b[0m\n\u001b[1;32m      2\u001b[0m \u001b[0mtriplet\u001b[0m \u001b[0;34m=\u001b[0m \u001b[0;34m(\u001b[0m\u001b[0;36m1\u001b[0m\u001b[0;34m,\u001b[0m \u001b[0;36m2\u001b[0m\u001b[0;34m,\u001b[0m \u001b[0;36m3\u001b[0m\u001b[0;34m)\u001b[0m\u001b[0;34m\u001b[0m\u001b[0m\n\u001b[0;32m----> 3\u001b[0;31m \u001b[0mtriplet\u001b[0m\u001b[0;34m[\u001b[0m\u001b[0;36m5\u001b[0m\u001b[0;34m]\u001b[0m \u001b[0;34m=\u001b[0m \u001b[0;36m6\u001b[0m\u001b[0;34m\u001b[0m\u001b[0m\n\u001b[0m",
      "\u001b[0;31mTypeError\u001b[0m: 'tuple' object does not support item assignment"
     ]
    }
   ],
   "source": [
    "# Tuples are immutable\n",
    "triplet = (1, 2, 3)\n",
    "triplet[5] = 6"
   ]
  },
  {
   "cell_type": "code",
   "execution_count": 154,
   "metadata": {
    "collapsed": false,
    "deletable": true,
    "editable": true
   },
   "outputs": [
    {
     "ename": "TypeError",
     "evalue": "'str' object does not support item assignment",
     "output_type": "error",
     "traceback": [
      "\u001b[0;31m---------------------------------------------------------------------------\u001b[0m",
      "\u001b[0;31mTypeError\u001b[0m                                 Traceback (most recent call last)",
      "\u001b[0;32m<ipython-input-154-83f4b5afe286>\u001b[0m in \u001b[0;36m<module>\u001b[0;34m()\u001b[0m\n\u001b[1;32m      1\u001b[0m \u001b[0;31m# Strings are immutable\u001b[0m\u001b[0;34m\u001b[0m\u001b[0;34m\u001b[0m\u001b[0m\n\u001b[1;32m      2\u001b[0m \u001b[0mmy_name\u001b[0m \u001b[0;34m=\u001b[0m \u001b[0;34m'John Doe'\u001b[0m\u001b[0;34m\u001b[0m\u001b[0m\n\u001b[0;32m----> 3\u001b[0;31m \u001b[0mmy_name\u001b[0m\u001b[0;34m[\u001b[0m\u001b[0;34m-\u001b[0m\u001b[0;36m3\u001b[0m\u001b[0;34m]\u001b[0m \u001b[0;34m=\u001b[0m \u001b[0;34m'R'\u001b[0m\u001b[0;34m\u001b[0m\u001b[0m\n\u001b[0m",
      "\u001b[0;31mTypeError\u001b[0m: 'str' object does not support item assignment"
     ]
    }
   ],
   "source": [
    "# Strings are immutable\n",
    "my_name = 'John Doe'\n",
    "my_name[-3] = 'R'"
   ]
  },
  {
   "cell_type": "code",
   "execution_count": 155,
   "metadata": {
    "collapsed": false,
    "deletable": true,
    "editable": true
   },
   "outputs": [
    {
     "name": "stdout",
     "output_type": "stream",
     "text": [
      "John Doe of New York\n"
     ]
    }
   ],
   "source": [
    "# What happens here?\n",
    "my_name += ' of New York'\n",
    "print(my_name)"
   ]
  },
  {
   "cell_type": "code",
   "execution_count": 156,
   "metadata": {
    "collapsed": false,
    "deletable": true,
    "editable": true
   },
   "outputs": [
    {
     "name": "stdout",
     "output_type": "stream",
     "text": [
      "John Roe of New York\n"
     ]
    }
   ],
   "source": [
    "# So what if I really need to \"change\" my_name?\n",
    "my_new_name = my_name[:5] + 'R' + my_name[6:] # Make a copy\n",
    "print(my_new_name)"
   ]
  },
  {
   "cell_type": "code",
   "execution_count": 160,
   "metadata": {
    "collapsed": false,
    "deletable": true,
    "editable": true
   },
   "outputs": [
    {
     "name": "stdout",
     "output_type": "stream",
     "text": [
      "In spanish, you say: super-cali-fragil-istico-expi-ali-do-so\n"
     ]
    }
   ],
   "source": [
    "# Lists are mutable, they can be changed in place\n",
    "l = 'super-cali-fragil-istic-expi-ali-do-cious'.split('-')\n",
    "# Lets say we want to translate it to 'super-cali-fragil-istico-expi-ali-do-so' (Spanish)\n",
    "l[3] = 'istico'\n",
    "l[-1] = 'so'\n",
    "spanish_word = '-'.join(l)\n",
    "print('In spanish, you say:', spanish_word)"
   ]
  },
  {
   "cell_type": "markdown",
   "metadata": {
    "deletable": true,
    "editable": true
   },
   "source": [
    "### <font color='blue'>Exercise 1 – Lists and Dictionaries: your two new best friends</font>\n",
    "They are extremely useful, learn how to work with them"
   ]
  },
  {
   "cell_type": "code",
   "execution_count": 110,
   "metadata": {
    "collapsed": true,
    "deletable": true,
    "editable": true
   },
   "outputs": [],
   "source": [
    "# Initialize an empty list and assign it to a variable called \"l\"\n",
    "l = []"
   ]
  },
  {
   "cell_type": "code",
   "execution_count": 111,
   "metadata": {
    "collapsed": true,
    "deletable": true,
    "editable": true
   },
   "outputs": [],
   "source": [
    "# Create a list containing one hundred ones and assign it to a variable called \"ones\"\n",
    "ones = [1] * 100"
   ]
  },
  {
   "cell_type": "code",
   "execution_count": 120,
   "metadata": {
    "collapsed": true,
    "deletable": true,
    "editable": true
   },
   "outputs": [],
   "source": [
    "# Create a list containing:\n",
    "# one hundred elements \n",
    "# from 0 to 99 where each element is equal to its position on the list\n",
    "# assign it to a variable called \"increment\"\n",
    "increment = list(range(0, 100)) # or\n",
    "increment = [i for i in range(0, 99)] # Using list comprehension"
   ]
  },
  {
   "cell_type": "code",
   "execution_count": 126,
   "metadata": {
    "collapsed": false,
    "deletable": true,
    "editable": true
   },
   "outputs": [],
   "source": [
    "# Create a list containing:\n",
    "# one hundred elements \n",
    "# from 0 to 99 where each element is equal to its position on the list\n",
    "# assign it to a variable called \"increment\"\n",
    "decrement = list(range(99, -1, -1)) # or\n",
    "decrement = [i for i in range(99, -1, -1)] # Using list comprehension"
   ]
  },
  {
   "cell_type": "code",
   "execution_count": 127,
   "metadata": {
    "collapsed": true,
    "deletable": true,
    "editable": true
   },
   "outputs": [],
   "source": [
    "# Loop through increment\n",
    "# build a dictionary where the key corresponds to the position in the list\n",
    "# and the value is the position squared\n",
    "squares = {}\n",
    "for i in increment:\n",
    "    squares[i] = i**2"
   ]
  },
  {
   "cell_type": "code",
   "execution_count": 130,
   "metadata": {
    "collapsed": false,
    "deletable": true,
    "editable": true
   },
   "outputs": [],
   "source": [
    "# The following asserstions should hold if your answers are correct\n",
    "assert(len(l) == 0)\n",
    "assert(len(ones) == 100)\n",
    "assert((increment[i] == i for i in increment) and len(increment) == 100)\n",
    "assert((decrement[-i] == i for i in decrement) and len(decrement) == 100)\n",
    "assert((squares[i] == i*i for i in squares) and len(squares) == 100)"
   ]
  },
  {
   "cell_type": "markdown",
   "metadata": {
    "deletable": true,
    "editable": true
   },
   "source": [
    "## Expressions create and process objects"
   ]
  },
  {
   "cell_type": "code",
   "execution_count": 58,
   "metadata": {
    "collapsed": false,
    "deletable": true,
    "editable": true
   },
   "outputs": [
    {
     "name": "stdout",
     "output_type": "stream",
     "text": [
      "-7\n"
     ]
    }
   ],
   "source": [
    "# Expresions are simple compositions or operations over objects\n",
    "x = 7\n",
    "\n",
    "# Unary operators\n",
    "print(-x)"
   ]
  },
  {
   "cell_type": "code",
   "execution_count": 59,
   "metadata": {
    "collapsed": false,
    "deletable": true,
    "editable": true
   },
   "outputs": [
    {
     "name": "stdout",
     "output_type": "stream",
     "text": [
      "49\n"
     ]
    }
   ],
   "source": [
    "# Binary operators\n",
    "print(x + 42)"
   ]
  },
  {
   "cell_type": "code",
   "execution_count": 97,
   "metadata": {
    "collapsed": false,
    "deletable": true,
    "editable": true
   },
   "outputs": [
    {
     "name": "stdout",
     "output_type": "stream",
     "text": [
      "False\n",
      "<class 'int'> <class 'int'> <class 'bool'>\n"
     ]
    }
   ],
   "source": [
    "# Comparisons\n",
    "print(y <= 5)\n",
    "# Notice that the result of an expression can have a different type than its operands\n",
    "print(type(y), type(5), type(y <= 5))"
   ]
  },
  {
   "cell_type": "code",
   "execution_count": 98,
   "metadata": {
    "collapsed": false,
    "deletable": true,
    "editable": true
   },
   "outputs": [
    {
     "name": "stdout",
     "output_type": "stream",
     "text": [
      "True\n"
     ]
    }
   ],
   "source": [
    "# An expression can be as complicated as you want\n",
    "# But make sure the default precedence is what you mean\n",
    "print(y > 5 / 3 + 2)"
   ]
  },
  {
   "cell_type": "code",
   "execution_count": 99,
   "metadata": {
    "collapsed": false,
    "deletable": true,
    "editable": true
   },
   "outputs": [
    {
     "name": "stdout",
     "output_type": "stream",
     "text": [
      "True\n"
     ]
    }
   ],
   "source": [
    "print(y > ((5 / 3) + 2))"
   ]
  },
  {
   "cell_type": "code",
   "execution_count": 100,
   "metadata": {
    "collapsed": false,
    "deletable": true,
    "editable": true
   },
   "outputs": [
    {
     "name": "stdout",
     "output_type": "stream",
     "text": [
      "0.2\n"
     ]
    }
   ],
   "source": [
    "print((y > 5) / (3 + 2)) # Why does this work if (y > 5) is boolean?"
   ]
  },
  {
   "cell_type": "markdown",
   "metadata": {
    "deletable": true,
    "editable": true
   },
   "source": [
    "## Statements contain expressions\n",
    "Some examples of statements:\n",
    "- Assignment\n",
    "- Function Calls \n",
    "- Running functions \n",
    "- if/elif/else (Selecting actions)\n",
    "- for/else (Iteration)\n",
    "- while/else (General loops)\n",
    "- def (Functions and methods)\n",
    "- return (Functions results)\n",
    "- etc."
   ]
  },
  {
   "cell_type": "markdown",
   "metadata": {
    "deletable": true,
    "editable": true
   },
   "source": [
    "### <font color='blue'>Exercise 2 – Functions and Control Flow</font>\n",
    "Functions are objects that can be used as any other data type"
   ]
  },
  {
   "cell_type": "code",
   "execution_count": 170,
   "metadata": {
    "collapsed": false,
    "deletable": true,
    "editable": true
   },
   "outputs": [],
   "source": [
    "# Define a function f that:\n",
    "# Has two required arguments (x and g) and one optional argument (squared)\n",
    "# Assume the parameter g is a function and call it passing x as an argument\n",
    "# Return the square of the result if squared is True otherwise return the result of applyting g\n",
    "def f(x, g, squared=False):\n",
    "    if squared:\n",
    "        return g(x)**2\n",
    "    else:\n",
    "        return g(x)"
   ]
  },
  {
   "cell_type": "code",
   "execution_count": 179,
   "metadata": {
    "collapsed": true,
    "deletable": true,
    "editable": true
   },
   "outputs": [],
   "source": [
    "# Define the identity function with a single required argument\n",
    "# It should return the value of the argument unchanged\n",
    "def identity(y):\n",
    "    return y"
   ]
  },
  {
   "cell_type": "code",
   "execution_count": 180,
   "metadata": {
    "collapsed": false,
    "deletable": true,
    "editable": true
   },
   "outputs": [],
   "source": [
    "# These assertions should hold\n",
    "assert(f(5, identity) == 5)\n",
    "assert(f(5, identity, False) == 5)\n",
    "assert(f(5, identity, squared=True) == 25)"
   ]
  },
  {
   "cell_type": "code",
   "execution_count": null,
   "metadata": {
    "collapsed": true,
    "deletable": true,
    "editable": true
   },
   "outputs": [],
   "source": [
    "# Define the identity function with a single required argument\n",
    "# It should return minus the value of the passed argument\n",
    "def minus(y):\n",
    "    return -y"
   ]
  },
  {
   "cell_type": "code",
   "execution_count": 176,
   "metadata": {
    "collapsed": false,
    "deletable": true,
    "editable": true
   },
   "outputs": [
    {
     "name": "stdout",
     "output_type": "stream",
     "text": [
      "-5\n",
      "-5\n",
      "25\n"
     ]
    }
   ],
   "source": [
    "# These assertions should hold\n",
    "assert(f(5, minus) == -5)\n",
    "assert(f(5, minus, False) == -5)\n",
    "assert(f(5, minus, squared=True) == 25)"
   ]
  },
  {
   "cell_type": "code",
   "execution_count": 185,
   "metadata": {
    "collapsed": false,
    "deletable": true,
    "editable": true
   },
   "outputs": [
    {
     "name": "stdout",
     "output_type": "stream",
     "text": [
      "5\n",
      "25\n",
      "25\n"
     ]
    }
   ],
   "source": [
    "# Just for fun... \n",
    "# How do we need to modify f so that it can be passed as g?\n",
    "def f(x=0, g=None, squared=False):\n",
    "    if not g:\n",
    "        return x\n",
    "    if squared:\n",
    "        return g(x)**2\n",
    "    else:\n",
    "        return g(x)\n",
    "\n",
    "# This should work!\n",
    "print(f(5, f))\n",
    "print(f(5, f, True))\n",
    "print(f(5, f, squared=True))"
   ]
  },
  {
   "cell_type": "markdown",
   "metadata": {
    "deletable": true,
    "editable": true
   },
   "source": [
    "## Pop Quiz (not graded, just for fun...)\n",
    "Try to answer these questions by yourself.\n",
    "\n",
    "To see the answer you need to select the blank space after each question.\n",
    "\n",
    "- Who is the author of the Python Programming Language?\n",
    "\n",
    "<font color='white'>Guido van Rossum</font>\n",
    "\n",
    "- Why are Built-in objects more efficient than your custom data structures? (Hint: even if the code you use to build your solution is equivalent to the Built-in object's code)\n",
    "    \n",
    "<font color='white'>Built-in objects are part of the standard Python Programming Language which is implemented in C using optimized algorithms for speed. So using them you will take advantage of this fact, whereas your code will always be executed in Bytecode. Take a look at section **Python’s View** in **Chapter 3** of the Book if you want to know more about how Python programs are run.</font>\n",
    "\n",
    "- What does it mean to be dynamicly typed and strongly typed?\n",
    "\n",
    "<font color='white'>Dynamicly type means that the language will infer the data types of the variables, rather than havin to declare their types. Strongly type means that if a variable has a certain type it can only perform operations that are valid for this type. Python is dynamicly types and strongly typed.</font>\n",
    "\n",
    "- Why do certain names have the form \\_\\_name\\_\\_?\n",
    "\n",
    "<font color='white'>The double underscores indicate that they are are built-in names.</font>"
   ]
  },
  {
   "cell_type": "markdown",
   "metadata": {
    "deletable": true,
    "editable": true
   },
   "source": [
    "# References\n",
    "Mark Lutz, Learning Python (LP), 5th Edition"
   ]
  }
 ],
 "metadata": {
  "anaconda-cloud": {},
  "kernelspec": {
   "display_name": "Python 3",
   "language": "python",
   "name": "python3"
  },
  "language_info": {
   "codemirror_mode": {
    "name": "ipython",
    "version": 3
   },
   "file_extension": ".py",
   "mimetype": "text/x-python",
   "name": "python",
   "nbconvert_exporter": "python",
   "pygments_lexer": "ipython3",
   "version": "3.6.0"
  }
 },
 "nbformat": 4,
 "nbformat_minor": 0
}

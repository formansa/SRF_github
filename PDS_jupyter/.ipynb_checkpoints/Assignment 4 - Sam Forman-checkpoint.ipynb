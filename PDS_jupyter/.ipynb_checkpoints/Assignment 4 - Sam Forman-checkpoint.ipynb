{
 "cells": [
  {
   "cell_type": "markdown",
   "metadata": {},
   "source": [
    "## Assigment 4: Playing with Classes and Modules\n",
    "\n",
    "__Question 1.__ (2.0 point) Consider de Class ``student'' as stated below:"
   ]
  },
  {
   "cell_type": "code",
   "execution_count": 31,
   "metadata": {
    "collapsed": false
   },
   "outputs": [],
   "source": [
    "class student(object):\n",
    "    def __init__(self,s=None):\n",
    "        if (s != None):\n",
    "           self.name = s[0]\n",
    "           self.age = s[1]\n",
    "           self.level = s[2]\n",
    "        else:\n",
    "           self.name = ''\n",
    "           self.age = -1\n",
    "           self.level = -1\n",
    "        \n",
    "        \n",
    "    def add_name(self, name_input): \n",
    "        self.name = str(name_input)\n",
    "        \n",
    "    def add_age(self, age_input): \n",
    "        self.age = age_input\n",
    "        \n",
    "    def add_level(self, lvl_input): \n",
    "        self.level = lvl_input\n",
    "        \n",
    "        \n",
    "    def __repr__(self): \n",
    "        return 'Name: %r \\nAge: %r \\nLevel: %r' %(self.name, self.age, self.level)"
   ]
  },
  {
   "cell_type": "code",
   "execution_count": 32,
   "metadata": {
    "collapsed": false
   },
   "outputs": [
    {
     "name": "stdout",
     "output_type": "stream",
     "text": [
      "Name: 'Gustavo' \n",
      "Age: 48 \n",
      "Level: 1\n"
     ]
    }
   ],
   "source": [
    "x = student()\n",
    "x.add_name('Gustavo')\n",
    "x.add_age(48)\n",
    "x.add_level(1)\n",
    "print(x)"
   ]
  },
  {
   "cell_type": "markdown",
   "metadata": {},
   "source": [
    "Complete the class <font color='blue'>student</font> by implementing methods so as to make the code: "
   ]
  },
  {
   "cell_type": "markdown",
   "metadata": {},
   "source": [
    "```python\n",
    "x = student()\n",
    "x.add_name('Gustavo')\n",
    "x.add_age(48)\n",
    "x.add_level(1)\n",
    "print(x)\n",
    "```"
   ]
  },
  {
   "cell_type": "markdown",
   "metadata": {},
   "source": [
    "output the following result:\n",
    "\n",
    "Name: Gustavo <br>\n",
    "Age: 48 <br>\n",
    "Level: 1"
   ]
  },
  {
   "cell_type": "markdown",
   "metadata": {
    "collapsed": true
   },
   "source": [
    "***\n",
    "***\n",
    "__Question 2.__ (2.0 point) Suppose we want to create a subclass called <font color='blue'>studentCDS</font> from the class <font color='blue'>student</font> .<br>\n",
    "This subclass should contain two new attributes called <font color='blue'>programming_skill</font>, which has as possible values LOW, MEDIAN, or HIGH, and <font color='blue'>math_background</font>, which may assume values YES or NO.<br>\n",
    "\n",
    "Write the subclass <font color='blue'>studentCDS</font> inheriting the attributes from class <font color='blue'>student</font>. Extend the constructor to handle the new attributes <font color='blue'>programming_skill</font> and <font color='blue'>math_background</font>, overwriting the print function to include the content of the new attributes in the output. <br><br>\n",
    "The code \n",
    "```python\n",
    "x_cds = studentCDS(['Gustavo',48,1,'HIGH','YES'])\n",
    "print(x_cds)\n",
    "```\n",
    "should result in:\n",
    "\n",
    "Name: Gustavo <br>\n",
    "Age: 48 <br>\n",
    "Level: 1<br>\n",
    "Programming Skill: HIGH<br>\n",
    "Math Backgroud: YES"
   ]
  },
  {
   "cell_type": "code",
   "execution_count": 33,
   "metadata": {
    "collapsed": false
   },
   "outputs": [
    {
     "ename": "NameError",
     "evalue": "name 'input_list' is not defined",
     "output_type": "error",
     "traceback": [
      "\u001b[0;31m---------------------------------------------------------------------------\u001b[0m",
      "\u001b[0;31mNameError\u001b[0m                                 Traceback (most recent call last)",
      "\u001b[0;32m<ipython-input-33-f6f83898f86b>\u001b[0m in \u001b[0;36m<module>\u001b[0;34m()\u001b[0m\n\u001b[0;32m----> 1\u001b[0;31m \u001b[0;32mclass\u001b[0m \u001b[0mstudentCDS\u001b[0m\u001b[0;34m(\u001b[0m\u001b[0mstudent\u001b[0m\u001b[0;34m)\u001b[0m\u001b[0;34m:\u001b[0m\u001b[0;34m\u001b[0m\u001b[0m\n\u001b[0m\u001b[1;32m      2\u001b[0m     \u001b[0;32mdef\u001b[0m \u001b[0m__init__\u001b[0m\u001b[0;34m(\u001b[0m\u001b[0mself\u001b[0m\u001b[0;34m,\u001b[0m \u001b[0minput_list\u001b[0m\u001b[0;34m)\u001b[0m\u001b[0;34m:\u001b[0m\u001b[0;34m\u001b[0m\u001b[0m\n\u001b[1;32m      3\u001b[0m         \u001b[0mstudent\u001b[0m\u001b[0;34m.\u001b[0m\u001b[0m__init__\u001b[0m\u001b[0;34m(\u001b[0m\u001b[0mself\u001b[0m\u001b[0;34m,\u001b[0m \u001b[0minput_list\u001b[0m\u001b[0;34m)\u001b[0m\u001b[0;34m\u001b[0m\u001b[0m\n\u001b[1;32m      4\u001b[0m \u001b[0;34m\u001b[0m\u001b[0m\n\u001b[1;32m      5\u001b[0m \u001b[0;34m\u001b[0m\u001b[0m\n",
      "\u001b[0;32m<ipython-input-33-f6f83898f86b>\u001b[0m in \u001b[0;36mstudentCDS\u001b[0;34m()\u001b[0m\n\u001b[1;32m      4\u001b[0m \u001b[0;34m\u001b[0m\u001b[0m\n\u001b[1;32m      5\u001b[0m \u001b[0;34m\u001b[0m\u001b[0m\n\u001b[0;32m----> 6\u001b[0;31m     \u001b[0mself\u001b[0m\u001b[0;34m.\u001b[0m\u001b[0mprogramming_skill\u001b[0m \u001b[0;34m=\u001b[0m \u001b[0minput_list\u001b[0m\u001b[0;34m[\u001b[0m\u001b[0;36m3\u001b[0m\u001b[0;34m]\u001b[0m\u001b[0;34m\u001b[0m\u001b[0m\n\u001b[0m\u001b[1;32m      7\u001b[0m     \u001b[0mself\u001b[0m\u001b[0;34m.\u001b[0m\u001b[0mmath_background\u001b[0m \u001b[0;34m=\u001b[0m \u001b[0minput_list\u001b[0m\u001b[0;34m[\u001b[0m\u001b[0;36m4\u001b[0m\u001b[0;34m]\u001b[0m\u001b[0;34m\u001b[0m\u001b[0m\n\u001b[1;32m      8\u001b[0m \u001b[0;34m\u001b[0m\u001b[0m\n",
      "\u001b[0;31mNameError\u001b[0m: name 'input_list' is not defined"
     ]
    }
   ],
   "source": [
    "class studentCDS(student):\n",
    "    def __init__(self, input_list):\n",
    "        student.__init__(self, input_list)\n",
    "        \n",
    "    \n",
    "    self.programming_skill = input_list[3]\n",
    "    self.math_background = input_list[4]\n",
    "    \n",
    "    \n",
    "    def __repr__(self):\n",
    "        return 'Name: %r \\nAge: %r \\nLevel: %r \\nProgramming Skill: %r \\nMath Background: %r' %(self.name, self.age, self.level, self.programming_skill, self.math_background)\n",
    "    \n",
    "    "
   ]
  },
  {
   "cell_type": "markdown",
   "metadata": {},
   "source": [
    "***\n",
    "***\n",
    "__Question 3.__ (2.0 points) The code below plays with the scope of the variables __X__. Explain how the statements <font color='blue'>nonlocal</font> and <font color='blue'>global</font> affects __X__. More precisely, how many distinct variables __X__ does the code have? Why is the value of __X__ different in the print '3' and '6' while it remains the same in '2' and '7'? Why are the values different in the print '1' and '8'?"
   ]
  },
  {
   "cell_type": "markdown",
   "metadata": {},
   "source": [
    "## Response \n",
    "Global sets a global value for X that is accessed anywhere in the program when X is requested after that variable is defined. Nonlocal is similar but that variable can be accessed one layer outside of wherever it is defined. \n",
    "\n",
    "The code below contains local, nonlocal, and global variables of X at different times. The value for the variable is even more varied, but there are no more than three distince variables of X in this program. \n",
    "\n",
    "Print 1 returns 0 because that is being run after the functions that affect the value of X have been defined but not yet run. Print 8 happens after all the functions have been run, the innermost of which sets global X to 4, which is what's returned when X is called for thereafter. \n",
    "Similarly, for 2 and 7, Print 2 happens after X has been set to 1 and other functions have been defined and not run, so 1 is printed. Print 7 happens after other functions have been run but the only nonlocal or global change in variables happens too many layers in to affect the X that is printed.  \n",
    "For print 3 and 6 print 3 returns 2 because that variable is set just before the execution of the print, with only a funciton being defined in between. 6 Prints 3 because a nonlocal X is defined as 3 only one layer in, resulting in the passing of that value. "
   ]
  },
  {
   "cell_type": "code",
   "execution_count": 3,
   "metadata": {
    "collapsed": false
   },
   "outputs": [
    {
     "name": "stdout",
     "output_type": "stream",
     "text": [
      "1. 0\n",
      "2. 1\n",
      "3. 2\n",
      "4. 3\n",
      "5. 4\n",
      "6. 3\n",
      "7. 1\n",
      "8. 4\n"
     ]
    }
   ],
   "source": [
    "X = 0 \n",
    "\n",
    "def outerf():\n",
    "    X = 1  \n",
    "    def innerf1():\n",
    "        X = 2\n",
    "        def innerf2():\n",
    "            nonlocal X \n",
    "            X = 3\n",
    "            print('4.',X)\n",
    "        \n",
    "        def innerf3():\n",
    "            global X\n",
    "            X = 4\n",
    "            print('5.',X)\n",
    "            \n",
    "        print('3.',X)\n",
    "        innerf2()\n",
    "        innerf3()\n",
    "        print('6.',X)\n",
    "        \n",
    "    print('2.',X)\n",
    "    innerf1()\n",
    "    print('7.',X)\n",
    "    \n",
    "print('1.',X)\n",
    "outerf()\n",
    "print('8.',X)\n",
    "    "
   ]
  },
  {
   "cell_type": "markdown",
   "metadata": {},
   "source": [
    "***\n",
    "***\n",
    "__Question 4.__ (2.0 points) Consider the code below:"
   ]
  },
  {
   "cell_type": "code",
   "execution_count": 4,
   "metadata": {
    "collapsed": true
   },
   "outputs": [],
   "source": [
    "class student2():\n",
    "    def __init__(self,s=None):\n",
    "        if (s != None):\n",
    "            try:\n",
    "                self.name = str(s[0])\n",
    "                self.age = int(s[1])\n",
    "                self.level = int(s[2])\n",
    "            except ValueError:\n",
    "                print('Invalid value for student info.')\n",
    "            else:\n",
    "                print('Info properly assigned to the student!!')\n",
    "                print('Name: '+self.name+'\\n'+'Age: '+str(self.age)+'\\n'+'Level: '+str(self.level))\n",
    "        else:\n",
    "            self.name = ''\n",
    "            self.age = -1\n",
    "            self.level = -1\n",
    "            "
   ]
  },
  {
   "cell_type": "markdown",
   "metadata": {},
   "source": [
    "Which of the statements will raise an exception? Pinpoint what is triggering the exception and what is not.  "
   ]
  },
  {
   "cell_type": "markdown",
   "metadata": {},
   "source": [
    "```python\n",
    "a) x = student2(['gustavo','4f:',1])\n",
    "b) x = student2(['gustavo','48',1])\n",
    "c) x = student2([5,48,1])\n",
    "d) x = student2(['gustavo',48,'h'])\n",
    "```"
   ]
  },
  {
   "cell_type": "markdown",
   "metadata": {},
   "source": [
    "##  Response\n",
    "The only time a error (ValueError in this case) is raised is when an invalid literal is tried to be converted to int, e.g. int('4f:'). This happens in a) for age and in d) for level. Interger literals can be converted to strings so there are no problems with a mismatch in that direction, as with name in c). "
   ]
  },
  {
   "cell_type": "code",
   "execution_count": 10,
   "metadata": {
    "collapsed": false
   },
   "outputs": [
    {
     "ename": "ValueError",
     "evalue": "invalid literal for int() with base 10: '4f'",
     "output_type": "error",
     "traceback": [
      "\u001b[0;31m---------------------------------------------------------------------------\u001b[0m",
      "\u001b[0;31mValueError\u001b[0m                                Traceback (most recent call last)",
      "\u001b[0;32m<ipython-input-10-c4c37ca40fcf>\u001b[0m in \u001b[0;36m<module>\u001b[0;34m()\u001b[0m\n\u001b[0;32m----> 1\u001b[0;31m \u001b[0mstr1\u001b[0m \u001b[0;34m=\u001b[0m \u001b[0mint\u001b[0m\u001b[0;34m(\u001b[0m\u001b[0;34m'4f'\u001b[0m\u001b[0;34m)\u001b[0m\u001b[0;34m\u001b[0m\u001b[0m\n\u001b[0m",
      "\u001b[0;31mValueError\u001b[0m: invalid literal for int() with base 10: '4f'"
     ]
    }
   ],
   "source": [
    "str1 = int('4f')"
   ]
  },
  {
   "cell_type": "code",
   "execution_count": 6,
   "metadata": {
    "collapsed": false
   },
   "outputs": [
    {
     "name": "stdout",
     "output_type": "stream",
     "text": [
      "Invalid value for student info.\n",
      "Info properly assigned to the student!!\n",
      "Name: gustavo\n",
      "Age: 48\n",
      "Level: 1\n",
      "Info properly assigned to the student!!\n",
      "Name: 5\n",
      "Age: 48\n",
      "Level: 1\n",
      "Invalid value for student info.\n"
     ]
    }
   ],
   "source": [
    "x = student2(['gustavo','4f:',1])\n",
    "x = student2(['gustavo','48',1])\n",
    "x = student2([5,48,1])\n",
    "x = student2(['gustavo',48,'h'])"
   ]
  },
  {
   "cell_type": "markdown",
   "metadata": {},
   "source": [
    "***\n",
    "***\n",
    "__Question 5.__ (2.0 points) Consider the file called <font color='red'>moduleij.py</font> (you will need to create this file to make the code below work properly), whose content is:\n",
    "\n",
    "```python\n",
    "# moduleij.py\n",
    "\n",
    "i = 1\n",
    "j = 2\n",
    "\n",
    "def print_ij():\n",
    "    print(i,j)\n",
    "```\n",
    "\n",
    "Run the code_1 and code-2 and explain why the outputs are different. \n",
    "\n",
    "Can you explain what is happening with the variable i?\n",
    "\n",
    "What happen when you run the code_1 and code-2 again? Explain what you are observing and why that is happening."
   ]
  },
  {
   "cell_type": "code",
   "execution_count": 16,
   "metadata": {
    "collapsed": false
   },
   "outputs": [
    {
     "name": "stdout",
     "output_type": "stream",
     "text": [
      "-2 2\n",
      "-2 2\n"
     ]
    }
   ],
   "source": [
    "# code 1\n",
    "\n",
    "from moduleij import print_ij, i, j\n",
    "\n",
    "print(i,j)\n",
    "\n",
    "i = -2\n",
    "\n",
    "print_ij()"
   ]
  },
  {
   "cell_type": "code",
   "execution_count": 17,
   "metadata": {
    "collapsed": false
   },
   "outputs": [
    {
     "name": "stdout",
     "output_type": "stream",
     "text": [
      "-2 2\n",
      "-2 2\n"
     ]
    }
   ],
   "source": [
    "# code 2\n",
    "\n",
    "import moduleij as mdij\n",
    "\n",
    "print(i,j)\n",
    "\n",
    "mdij.i = -2\n",
    "\n",
    "mdij.print_ij()"
   ]
  },
  {
   "cell_type": "markdown",
   "metadata": {
    "collapsed": true
   },
   "source": [
    "## Reponse \n",
    "In Code 1 you import the function and variables separately and even when you assign -2 to i the print_ij function is still drawing on the values in the module (why?). \n",
    "However, in code 2 you import the module as a whole and adjust the values in the module itself (mdij.i = -2) which results in printing -2 instead of 1. because that variable has been set in the module as it is existing now in memory i will remain -2 until the kernel is reset, which is why running the code again returns the output of -2, 2 repeatedly. "
   ]
  }
 ],
 "metadata": {
  "kernelspec": {
   "display_name": "Python 3",
   "language": "python",
   "name": "python3"
  },
  "language_info": {
   "codemirror_mode": {
    "name": "ipython",
    "version": 3
   },
   "file_extension": ".py",
   "mimetype": "text/x-python",
   "name": "python",
   "nbconvert_exporter": "python",
   "pygments_lexer": "ipython3",
   "version": "3.6.0"
  }
 },
 "nbformat": 4,
 "nbformat_minor": 2
}

{
 "cells": [
  {
   "cell_type": "markdown",
   "metadata": {},
   "source": [
    "## Playing with Modules and Classes"
   ]
  },
  {
   "cell_type": "code",
   "execution_count": 1,
   "metadata": {
    "collapsed": false
   },
   "outputs": [
    {
     "name": "stdout",
     "output_type": "stream",
     "text": [
      "Name:  Gustavo\n",
      "Age:  48\n",
      "Level:  1\n",
      "Number of students:  1\n",
      "Name:  Gustavo\n",
      "Age:  48\n",
      "Level:  1\n",
      "None\n"
     ]
    }
   ],
   "source": [
    "import student_class as sc\n",
    "import study_group as sg\n",
    "\n",
    "#st = sc.student(['Gustavo',48,1])\n",
    "s1 = sc.student()\n",
    "s1.add_info(['Gustavo',48,1])\n",
    "s1.print_info()\n",
    "\n",
    "g1 = sg.st_group()\n",
    "g1.add_student(s1)\n",
    "g1.print_group()"
   ]
  },
  {
   "cell_type": "code",
   "execution_count": null,
   "metadata": {
    "collapsed": true
   },
   "outputs": [],
   "source": []
  }
 ],
 "metadata": {
  "kernelspec": {
   "display_name": "Python 3",
   "language": "python",
   "name": "python3"
  },
  "language_info": {
   "codemirror_mode": {
    "name": "ipython",
    "version": 3
   },
   "file_extension": ".py",
   "mimetype": "text/x-python",
   "name": "python",
   "nbconvert_exporter": "python",
   "pygments_lexer": "ipython3",
   "version": "3.6.0"
  }
 },
 "nbformat": 4,
 "nbformat_minor": 2
}

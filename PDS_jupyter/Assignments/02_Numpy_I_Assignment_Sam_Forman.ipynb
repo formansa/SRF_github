{
 "cells": [
  {
   "cell_type": "markdown",
   "metadata": {
    "nbgrader": {
     "grade": false,
     "locked": false,
     "solution": false
    },
    "slideshow": {
     "slide_type": "-"
    }
   },
   "source": [
    "## Assignment 2: NumPy I - Sam Forman"
   ]
  },
  {
   "cell_type": "markdown",
   "metadata": {},
   "source": [
    "Hi sorry I did not have time to complete the assignment this week due to interviews and interview preparation. I will be sure to do a more complete job in the future. "
   ]
  },
  {
   "cell_type": "markdown",
   "metadata": {},
   "source": [
    "(1.0 point) Using NumPy, complete the function below. The function should create and return the following 2-D array. You must find a way to generate the array without typing it explicitly:\n",
    "\n",
    "```\n",
    "[[1,  6, 11],\n",
    " [2,  7, 12],\n",
    " [3,  8, 13],\n",
    " [4,  9, 14],\n",
    " [5, 10, 15]]\n",
    "```"
   ]
  },
  {
   "cell_type": "code",
   "execution_count": 1,
   "metadata": {
    "collapsed": false,
    "nbgrader": {
     "grade": false,
     "grade_id": "Q1A",
     "locked": false,
     "solution": true
    }
   },
   "outputs": [
    {
     "name": "stdout",
     "output_type": "stream",
     "text": [
      "[[ 1  2  3]\n",
      " [ 4  5  6]\n",
      " [ 7  8  9]\n",
      " [10 11 12]\n",
      " [13 14 15]]\n",
      "<class 'numpy.ndarray'>\n",
      "<class 'numpy.ndarray'>\n",
      "<class 'numpy.ndarray'>\n",
      "<class 'numpy.ndarray'>\n",
      "<class 'numpy.ndarray'>\n",
      "[[ 1  2  3]\n",
      " [ 4  5  6]\n",
      " [ 7  8  9]\n",
      " [10 11 12]\n",
      " [13 14 15]]\n"
     ]
    }
   ],
   "source": [
    "import numpy as np\n",
    "\n",
    "def create_array2():\n",
    "    ### BEGIN SOLUTION\n",
    "    range_one = np.arange(1,16,1).reshape((5,3))\n",
    "    result = np.array()\n",
    "    ### END SOLUTION\n",
    "    return result\n",
    "\n",
    "\n",
    "range_one = np.arange(1,16,1).reshape((5,3))\n",
    "print(range_one)\n",
    "for i in range_one: print(type(i))\n",
    "testlist = []\n",
    "for i in range_one: testlist.append(list(i))\n",
    "print(np.array(testlist))"
   ]
  },
  {
   "cell_type": "code",
   "execution_count": 2,
   "metadata": {
    "collapsed": false
   },
   "outputs": [
    {
     "name": "stdout",
     "output_type": "stream",
     "text": [
      "[[ 1  6 11]\n",
      " [ 2  7 12]\n",
      " [ 3  8 13]\n",
      " [ 4  9 14]\n",
      " [ 5 10 15]]\n"
     ]
    }
   ],
   "source": [
    "import numpy as np\n",
    "\n",
    "def create_array():\n",
    "    ### BEGIN SOLUTION\n",
    "    list1 = []\n",
    "    s = 1\n",
    "    while s < 6:\n",
    "        list1.append(np.arange(s,s+11,5))\n",
    "        s+=1\n",
    "    \n",
    "    return np.array(list1)\n",
    "\n",
    "    ### END SOLUTION\n",
    "\n",
    "print(create_array())"
   ]
  },
  {
   "cell_type": "code",
   "execution_count": 3,
   "metadata": {
    "collapsed": false,
    "nbgrader": {
     "grade": true,
     "grade_id": "Q1B",
     "locked": true,
     "points": 1,
     "solution": false
    }
   },
   "outputs": [],
   "source": [
    "from numpy.testing import assert_array_equal\n",
    "assert_array_equal(create_array(), np.array([[1,6,11],[2,7,12],[3,8,13],[4,9,14],[5,10,15]]))"
   ]
  },
  {
   "cell_type": "markdown",
   "metadata": {},
   "source": [
    "(1.0 point) Complete the function below. The function must return an array containing the second and fourth rows from the array \"original\" which is passed as an argument. The argument must be a 2-D array. If the argument is invalid, return `None`."
   ]
  },
  {
   "cell_type": "code",
   "execution_count": 4,
   "metadata": {
    "collapsed": false,
    "nbgrader": {
     "grade": false,
     "grade_id": "Q2A",
     "locked": false,
     "solution": true
    }
   },
   "outputs": [
    {
     "name": "stdout",
     "output_type": "stream",
     "text": [
      "<class 'int'>\n",
      "(5, 3)\n",
      "[[ 2  7 12]\n",
      " [ 4  9 14]]\n"
     ]
    }
   ],
   "source": [
    "import numpy as np\n",
    "\n",
    "def new_array_second_and_fourth(original):\n",
    "    ### BEGIN SOLUTION\n",
    "    input_shape = original.shape\n",
    "    rownum = input_shape[0]\n",
    "    \n",
    "    if rownum >= 4:\n",
    "        result = np.array([original[1,:],original[3,:]])\n",
    "        return result\n",
    "    else:\n",
    "        return None \n",
    "\n",
    "     ### END SOLUTION\n",
    "\n",
    "        \n",
    "arr1 = create_array()\n",
    "arr_shp = arr1.shape\n",
    "print(type(arr_shp[1]))\n",
    "print(arr_shp)\n",
    "print(np.array([arr1[1,:],arr1[3,:]]))"
   ]
  },
  {
   "cell_type": "code",
   "execution_count": 5,
   "metadata": {
    "collapsed": false,
    "nbgrader": {
     "grade": true,
     "grade_id": "Q2B",
     "locked": true,
     "points": 1,
     "solution": false
    }
   },
   "outputs": [],
   "source": [
    "from numpy.testing import assert_array_equal\n",
    "assert_array_equal(new_array_second_and_fourth(create_array()), np.array([[2,7,12],[4,9,14]]))\n",
    "assert_array_equal(new_array_second_and_fourth(np.array([1,2,3])), None)\n",
    "assert_array_equal(new_array_second_and_fourth(np.array([[1,2,3],[4,5,6]])), None)"
   ]
  },
  {
   "cell_type": "markdown",
   "metadata": {},
   "source": [
    "(1.0 point) Complete the function below. The function must return an array that contains the third column of the array \"original\" which is passed as an argument. The argument must be a 2-D array. If the argument is invalid, return `None`."
   ]
  },
  {
   "cell_type": "code",
   "execution_count": 6,
   "metadata": {
    "collapsed": false,
    "nbgrader": {
     "grade": false,
     "grade_id": "Q3A",
     "locked": false,
     "solution": true
    }
   },
   "outputs": [
    {
     "name": "stdout",
     "output_type": "stream",
     "text": [
      "11\n",
      "12\n",
      "13\n",
      "14\n",
      "15\n",
      "[11 12 13 14 15]\n",
      "(5,)\n"
     ]
    }
   ],
   "source": [
    "import numpy as np\n",
    "\n",
    "def new_array_second_column(original):\n",
    "    ### BEGIN SOLUTION\n",
    "    input_shape = original.shape\n",
    "    try:\n",
    "        input_shape[1]\n",
    "    except IndexError:\n",
    "        return None\n",
    "        \n",
    "    #colnum = input_shape[1]\n",
    "    \n",
    "    if input_shape[1] >= 3:\n",
    "        result = np.array([original[:,2]])\n",
    "        result2 = result.reshape((5,1))\n",
    "        return result2\n",
    "    else:\n",
    "        return None \n",
    "\n",
    "\n",
    "     ### END SOLUTION\n",
    "\n",
    "        \n",
    "        \n",
    "arr2 = create_array()\n",
    "for i in arr2[:,2]: print(i)\n",
    "emptylist2 = []\n",
    "for i in arr2[:,2]:\n",
    "    emptylist2.append(i)\n",
    "result = np.array(emptylist2)\n",
    "result_rav = result.ravel()\n",
    "print(result_rav)\n",
    "print(result_rav.shape)\n",
    "\n",
    "#result = np.array(emptylist.append(for i in original[:,2] return i))\n",
    "#return result.ravel()\n",
    "        "
   ]
  },
  {
   "cell_type": "code",
   "execution_count": 7,
   "metadata": {
    "collapsed": false,
    "nbgrader": {
     "grade": true,
     "grade_id": "Q3B",
     "locked": true,
     "points": 1,
     "solution": false
    }
   },
   "outputs": [],
   "source": [
    "from numpy.testing import assert_array_equal\n",
    "assert_array_equal(new_array_second_column(create_array()), np.array([[11],[12],[13],[14],[15]]))\n",
    "assert_array_equal(new_array_second_column(np.array([1,2,3])), None)\n",
    "assert_array_equal(new_array_second_column(np.array([[1,2],[4,5],[7,8]])), None)"
   ]
  },
  {
   "cell_type": "markdown",
   "metadata": {},
   "source": [
    "(1.0 point) Complete the function below. The function must return an array that contains all the elements in the rectangular section of \"original\" between the coordinates [1,0] and [3,2]. The argument must be a 2-D array. If the argument is invalid, return `None`.\n"
   ]
  },
  {
   "cell_type": "code",
   "execution_count": 8,
   "metadata": {
    "collapsed": false,
    "nbgrader": {
     "grade": false,
     "grade_id": "Q4A",
     "locked": false,
     "solution": true
    }
   },
   "outputs": [
    {
     "name": "stdout",
     "output_type": "stream",
     "text": [
      "[[ 1  6 11]\n",
      " [ 2  7 12]\n",
      " [ 3  8 13]\n",
      " [ 4  9 14]\n",
      " [ 5 10 15]]\n",
      "[ 4  9 14]\n",
      "[[ 2  7 12]\n",
      " [ 3  8 13]\n",
      " [ 4  9 14]]\n"
     ]
    }
   ],
   "source": [
    "import numpy as np\n",
    "\n",
    "def new_array_section(original):\n",
    "    ### BEGIN SOLUTION\n",
    "    \n",
    "    input_shape = original #.shape\n",
    "    try:\n",
    "        input_shape[3]\n",
    "        input_shape[2]\n",
    "        pass \n",
    "    except IndexError:\n",
    "        return None\n",
    "    \n",
    "    result = np.array(original[1:4,0:3])\n",
    "    return result\n",
    "    \n",
    "    ### END SOLUTION\n",
    "    return result\n",
    "\n",
    "print(arr2)\n",
    "print(arr2[3])\n",
    "print(arr2[1:4,0:3])"
   ]
  },
  {
   "cell_type": "code",
   "execution_count": 9,
   "metadata": {
    "collapsed": false,
    "nbgrader": {
     "grade": true,
     "grade_id": "Q4B",
     "locked": true,
     "points": 1,
     "solution": false
    }
   },
   "outputs": [],
   "source": [
    "from numpy.testing import assert_array_equal\n",
    "assert_array_equal(new_array_section(create_array()), np.array([[2,7,12],[3,8,13],[4,9,14]]))\n",
    "assert_array_equal(new_array_section(np.array([1,2,3])), None)\n",
    "assert_array_equal(new_array_section(np.array([[1,2],[4,5],[7,8]])), None)"
   ]
  },
  {
   "cell_type": "markdown",
   "metadata": {},
   "source": [
    "(1.0 point) Complete the function below. The functiopn must return an array that contains only elements with values that are between 3 and 11 inclusive. The new array does not need to be the same shape as the original array, but it must be an array. The argument must be a 2-D array. If the argument is invalid, return `None`."
   ]
  },
  {
   "cell_type": "code",
   "execution_count": 10,
   "metadata": {
    "collapsed": false,
    "nbgrader": {
     "grade": false,
     "grade_id": "Q5A",
     "locked": false,
     "solution": true
    }
   },
   "outputs": [],
   "source": [
    "import numpy as np\n",
    "\n",
    "def three_eleven_array_func(input_array):\n",
    "    \n",
    "    three_eleven_list = []\n",
    "    \n",
    "    for i in np.nditer(input_array):\n",
    "        if i >= 3 and i <= 11:\n",
    "            three_eleven_list.append(i)\n",
    "            \n",
    "    return np.array(three_eleven_list)\n",
    "\n",
    "\n",
    "\n",
    "def new_array_values(original):\n",
    "    ### BEGIN SOLUTION\n",
    "    result = three_eleven_array_func(original)\n",
    "    ### END SOLUTION\n",
    "    return result\n",
    "\n"
   ]
  },
  {
   "cell_type": "code",
   "execution_count": 11,
   "metadata": {
    "collapsed": false
   },
   "outputs": [
    {
     "name": "stdout",
     "output_type": "stream",
     "text": [
      "[ 6 11  7  3  8  4  9  5 10]\n",
      "6\n",
      "11\n",
      "7\n",
      "12\n",
      "3\n",
      "8\n",
      "13\n",
      "4\n",
      "9\n",
      "5\n",
      "10\n"
     ]
    }
   ],
   "source": [
    "print(three_eleven_array_func(arr2))\n",
    "for b in np.nditer(arr2): \n",
    "    if b >= 3 and b <= 13: print(b)"
   ]
  },
  {
   "cell_type": "code",
   "execution_count": 12,
   "metadata": {
    "collapsed": false,
    "nbgrader": {
     "grade": true,
     "grade_id": "Q5B",
     "locked": true,
     "points": 1,
     "solution": false
    }
   },
   "outputs": [],
   "source": [
    "from numpy.testing import assert_array_equal\n",
    "assert_array_equal(np.sort(new_array_values(create_array())), np.array([3, 4, 5, 6, 7, 8, 9, 10, 11]))\n",
    "assert_array_equal(new_array_values(np.array([1, 2, 12, 13])), np.array([]))"
   ]
  },
  {
   "cell_type": "markdown",
   "metadata": {},
   "source": [
    "(2.0 points) Complete the function below. The function must create the following array:\n",
    "\n",
    "```\n",
    "a = np.arange(25).reshape(5, 5)\n",
    "```\n",
    "\n",
    "then divide each column element-wise with the values 1, 5, 10, 15, and 20 and return the result."
   ]
  },
  {
   "cell_type": "code",
   "execution_count": 13,
   "metadata": {
    "collapsed": false,
    "nbgrader": {
     "grade": false,
     "grade_id": "Q6A",
     "locked": false,
     "solution": true
    }
   },
   "outputs": [
    {
     "name": "stdout",
     "output_type": "stream",
     "text": [
      "[[ 0  1  2  3  4]\n",
      " [ 5  6  7  8  9]\n",
      " [10 11 12 13 14]\n",
      " [15 16 17 18 19]\n",
      " [20 21 22 23 24]]\n",
      "[ 0.  1.  2.  3.  4.]\n",
      "[[ 0.          1.          2.          3.          4.        ]\n",
      " [ 1.          1.2         1.4         1.6         1.8       ]\n",
      " [ 1.          1.1         1.2         1.3         1.4       ]\n",
      " [ 1.          1.06666667  1.13333333  1.2         1.26666667]\n",
      " [ 1.          1.05        1.1         1.15        1.2       ]]\n"
     ]
    }
   ],
   "source": [
    "import numpy as np\n",
    "\n",
    "def array_divide():\n",
    "    ### BEGIN SOLUTION\n",
    "    a = np.arange(25).reshape(5,5)\n",
    "    result  = np.array([a[0,:]/1, a[1,:]/5, a[2,:]/10, a[3,:]/15, a[4,:]/20])\n",
    "    \n",
    "    ### END SOLUTION\n",
    "    return result\n",
    "\n",
    "g = np.arange(25).reshape(5,5)\n",
    "print(g)\n",
    "print(g[0,:]/1)\n",
    "\n",
    "test_res = np.array([g[0,:]/1, g[1,:]/5, g[2,:]/10, g[3,:]/15, g[4,:]/20])\n",
    "print(test_res)\n",
    "    "
   ]
  },
  {
   "cell_type": "code",
   "execution_count": 14,
   "metadata": {
    "collapsed": false,
    "nbgrader": {
     "grade": true,
     "grade_id": "Q6B",
     "locked": true,
     "points": 1,
     "solution": false
    }
   },
   "outputs": [],
   "source": [
    "from numpy.testing import assert_allclose\n",
    "assert_allclose(array_divide(), np.array([[0., 1.,         2.,         3.,   4.        ],\n",
    "                                          [1., 1.2,        1.4,        1.6,  1.8       ],\n",
    "                                          [1., 1.1,        1.2,        1.3,  1.4       ],\n",
    "                                          [1., 1.06666667, 1.13333333, 1.2,  1.26666667],\n",
    "                                          [1., 1.05      , 1.1       , 1.15, 1.2       ]]))"
   ]
  },
  {
   "cell_type": "markdown",
   "metadata": {},
   "source": [
    "(2.0 points) Complete the following functions. The `generate_array` function must generate a 10 x 3 array of random numbers in the range [0, 1). The `random_selection` function should return a 1-D array containing 10 values, each value is the number closest to 0.5 from the corresponding row of the original array.\n",
    "\n",
    "Hint:\n",
    "\n",
    "1. For each row, pick the number closest to 0.5\n",
    "2. Use `abs` and `argsort` to find the column for each of the numbers closest to 0.5\n",
    "3. Use fancy indexing to extract the numbers into an array\n",
    "\n"
   ]
  },
  {
   "cell_type": "code",
   "execution_count": 55,
   "metadata": {
    "collapsed": false,
    "nbgrader": {
     "grade": false,
     "grade_id": "Q7A",
     "locked": false,
     "solution": true
    }
   },
   "outputs": [
    {
     "name": "stdout",
     "output_type": "stream",
     "text": [
      "[[ 0.70267411  0.67092333  0.31178192]\n",
      " [ 0.66685261  0.08796487  0.8614508 ]\n",
      " [ 0.87126071  0.70362714  0.67026665]\n",
      " [ 0.44310822  0.52633942  0.10092061]\n",
      " [ 0.73718712  0.76219598  0.99805984]\n",
      " [ 0.81663538  0.94431276  0.88986353]\n",
      " [ 0.36024634  0.80734926  0.06308965]\n",
      " [ 0.85224126  0.34205486  0.51920429]\n",
      " [ 0.2525199   0.98637596  0.82436555]\n",
      " [ 0.2347742   0.94723789  0.22987008]]\n",
      "[[ 0.20267411  0.17092333  0.18821808]\n",
      " [ 0.16685261  0.41203513  0.3614508 ]\n",
      " [ 0.37126071  0.20362714  0.17026665]\n",
      " [ 0.05689178  0.02633942  0.39907939]\n",
      " [ 0.23718712  0.26219598  0.49805984]\n",
      " [ 0.31663538  0.44431276  0.38986353]\n",
      " [ 0.13975366  0.30734926  0.43691035]\n",
      " [ 0.35224126  0.15794514  0.01920429]\n",
      " [ 0.2474801   0.48637596  0.32436555]\n",
      " [ 0.2652258   0.44723789  0.27012992]]\n",
      "\n",
      "\n",
      "[1 2 0]\n",
      "curr_row 0\n",
      "[ 0.70267411  0.67092333  0.31178192]\n",
      "sorted_row\n",
      "[ 0.67092333  0.31178192  0.70267411]\n",
      "0.670923334511\n",
      "[0 2 1]\n",
      "curr_row 1\n",
      "[ 0.66685261  0.08796487  0.8614508 ]\n",
      "sorted_row\n",
      "[ 0.66685261  0.8614508   0.08796487]\n",
      "0.666852611819\n",
      "[2 1 0]\n",
      "curr_row 2\n",
      "[ 0.87126071  0.70362714  0.67026665]\n",
      "sorted_row\n",
      "[ 0.67026665  0.70362714  0.87126071]\n",
      "0.670266652131\n",
      "[1 0 2]\n",
      "curr_row 3\n",
      "[ 0.44310822  0.52633942  0.10092061]\n",
      "sorted_row\n",
      "[ 0.52633942  0.44310822  0.10092061]\n",
      "0.526339419808\n",
      "[0 1 2]\n",
      "curr_row 4\n",
      "[ 0.73718712  0.76219598  0.99805984]\n",
      "sorted_row\n",
      "[ 0.73718712  0.76219598  0.99805984]\n",
      "0.737187115146\n",
      "[0 2 1]\n",
      "curr_row 5\n",
      "[ 0.81663538  0.94431276  0.88986353]\n",
      "sorted_row\n",
      "[ 0.81663538  0.88986353  0.94431276]\n",
      "0.816635378745\n",
      "[0 1 2]\n",
      "curr_row 6\n",
      "[ 0.36024634  0.80734926  0.06308965]\n",
      "sorted_row\n",
      "[ 0.36024634  0.80734926  0.06308965]\n",
      "0.360246335197\n",
      "[2 1 0]\n",
      "curr_row 7\n",
      "[ 0.85224126  0.34205486  0.51920429]\n",
      "sorted_row\n",
      "[ 0.51920429  0.34205486  0.85224126]\n",
      "0.519204289631\n",
      "[0 2 1]\n",
      "curr_row 8\n",
      "[ 0.2525199   0.98637596  0.82436555]\n",
      "sorted_row\n",
      "[ 0.2525199   0.82436555  0.98637596]\n",
      "0.252519902826\n",
      "[0 2 1]\n",
      "curr_row 9\n",
      "[ 0.2347742   0.94723789  0.22987008]\n",
      "sorted_row\n",
      "[ 0.2347742   0.22987008  0.94723789]\n",
      "0.234774203245\n",
      "[0.67092333451069208, 0.66685261181864297, 0.67026665213062908, 0.52633941980819454, 0.73718711514631641, 0.81663537874507508, 0.36024633519690008, 0.51920428963062049, 0.25251990282580727, 0.23477420324456544]\n"
     ]
    }
   ],
   "source": [
    "import numpy as np\n",
    "\n",
    "def generate_array():\n",
    "    ### BEGIN SOLUTION\n",
    "    result = np.random.ranf((10,3))\n",
    "    ### END SOLUTION\n",
    "    return result\n",
    "\n",
    "\n",
    "\n",
    "def random_selection(from_array):\n",
    "    ### BEGIN SOLUTION\n",
    "    \n",
    "    mindif_list = []\n",
    "    minuspointfive = abs(from_array - .5)\n",
    "    rownum = 0 \n",
    "    \n",
    "    for i in minuspointfive:\n",
    "        row_index = np.argsort(i)\n",
    "        curr_row = from_array[rownum]\n",
    "        sorted_row = curr_row[row_index]\n",
    "        mindif_list.append(sorted_row[0])\n",
    "        rownum += 1 \n",
    "        \n",
    "    result = np.array(mindif_list)\n",
    "    \n",
    "    ### END SOLUTION\n",
    "    return result\n",
    "\n",
    "\n",
    "\n",
    "\n",
    "rand_zeroone = np.random.ranf((10,3))\n",
    "minuspointfive = abs(rand_zeroone - .5)\n",
    "print(rand_zeroone)\n",
    "print(minuspointfive)\n",
    "print('\\n')\n",
    "sort_intex = np.argsort(minuspointfive,0)\n",
    "#print(sort_intex)\n",
    "#print(minuspointfive[sort_intex])\n",
    "\n",
    "mindif_list = []\n",
    "rownum = 0 \n",
    "    \n",
    "for i in minuspointfive:\n",
    "    row_index = np.argsort(i)\n",
    "    print(row_index)\n",
    "    curr_row = rand_zeroone[rownum]\n",
    "    print('curr_row', rownum)\n",
    "    print(curr_row)\n",
    "    sorted_row = curr_row[row_index]\n",
    "    print('sorted_row')\n",
    "    print(sorted_row)\n",
    "    print(sorted_row[0])\n",
    "    mindif_list.append(sorted_row[0])\n",
    "    rownum += 1 \n",
    "    \n",
    "print(mindif_list)\n"
   ]
  },
  {
   "cell_type": "code",
   "execution_count": 57,
   "metadata": {
    "collapsed": false,
    "nbgrader": {
     "grade": true,
     "grade_id": "Q7B",
     "locked": true,
     "points": 4,
     "solution": false
    }
   },
   "outputs": [],
   "source": [
    "from numpy.testing import assert_array_equal\n",
    "rand_array = generate_array()\n",
    "r1 = np.apply_along_axis(lambda a: abs(a - 0.5), 0, rand_array)\n",
    "r2 = np.sort(np.apply_along_axis(min, 1, r1))\n",
    "res = np.sort(np.abs(random_selection(rand_array)-0.5))\n",
    "assert_array_equal(r2, res)"
   ]
  },
  {
   "cell_type": "markdown",
   "metadata": {},
   "source": [
    "(2.0 points) Write a function that computes the Mandelbrot fractal using the Mandelbrot iteration:\n",
    "\n",
    "```\n",
    "N_max = 50\n",
    "some_threshold = 50\n",
    "\n",
    "c = x + 1j*y\n",
    "\n",
    "z = c\n",
    "for v in range(N_max):\n",
    "  z = z**2 + c\n",
    "```\n",
    "\n",
    "A point `(x,y)` belongs to the Mandelbrot set if `abs(z) < some_threshold`\n",
    "\n",
    "Do this computation by:\n",
    "\n",
    "1. Constructing an array of `c = x + 1j*y` values in the range `x = [-2, 1], y = [-1.5, 1.5]`\n",
    "2. Do the iteration above\n",
    "3. Form a 2-D boolean mask indicating which points are in the set\n",
    " \n",
    "The function should return the 2-D boolean mask. Run the program and the one in the cell below to check your results.\n"
   ]
  },
  {
   "cell_type": "code",
   "execution_count": 1,
   "metadata": {
    "collapsed": false,
    "nbgrader": {
     "grade": true,
     "grade_id": "Q8",
     "locked": false,
     "points": 5,
     "solution": true
    }
   },
   "outputs": [
    {
     "name": "stderr",
     "output_type": "stream",
     "text": [
      "/Library/Frameworks/Python.framework/Versions/3.6/lib/python3.6/site-packages/ipykernel_launcher.py:21: RuntimeWarning: overflow encountered in square\n",
      "/Library/Frameworks/Python.framework/Versions/3.6/lib/python3.6/site-packages/ipykernel_launcher.py:21: RuntimeWarning: invalid value encountered in square\n",
      "/Library/Frameworks/Python.framework/Versions/3.6/lib/python3.6/site-packages/ipykernel_launcher.py:40: RuntimeWarning: invalid value encountered in less\n"
     ]
    },
    {
     "data": {
      "image/png": "[encoded data removed]",
      "text/plain": [
       "<matplotlib.figure.Figure at 0x104b8b860>"
      ]
     },
     "metadata": {},
     "output_type": "display_data"
    }
   ],
   "source": [
    "%matplotlib inline\n",
    "import numpy as np\n",
    "import matplotlib.pyplot as plt\n",
    "\n",
    "N_max = 50\n",
    "some_threshold = 50\n",
    "\n",
    "def mandelbrot_set():\n",
    "### BEGIN SOLUTION\n",
    "#\n",
    "# NOTE TO GRADERS\n",
    "#\n",
    "# Use of nested for loops, or other means of calculating the set is acceptable. \n",
    "# \n",
    "# Use your judgement to determine if the code should be acknowledged or not. Let me know if you think\n",
    "# there is an issue.\n",
    "#\n",
    "    def mandelbrot_iteration(c):\n",
    "        z = c\n",
    "        for v in range(N_max):\n",
    "            z = z**2 + c\n",
    "        return z\n",
    "\n",
    "    xpoints = 200\n",
    "    ypoints = 200\n",
    "    xv = np.linspace(-2, 1, xpoints)\n",
    "    yv = np.linspace(-1.5, 1.5, ypoints)\n",
    "    \n",
    "    # using for loops\n",
    "    #c = np.zeros((xpoints, ypoints), complex)\n",
    "    #for x in range(xpoints):\n",
    "    #    for y in range(ypoints):\n",
    "    #        c[x, y] = xv[x] + 1j * yv[y]\n",
    "    \n",
    "    # using arrays\n",
    "    c = xv[:,np.newaxis] + 1j*yv[np.newaxis,:]\n",
    "\n",
    "    z = mandelbrot_iteration(c)\n",
    "\n",
    "    mask = abs(z) < some_threshold\n",
    "### END SOLUTION\n",
    "    return mask\n",
    "\n",
    "mask = mandelbrot_set()\n",
    "plt.imshow(mask.T, extent=[-2, 1, -1.5, 1.5])\n",
    "plt.gray()\n",
    "plt.show()"
   ]
  },
  {
   "cell_type": "code",
   "execution_count": 2,
   "metadata": {
    "collapsed": false,
    "nbgrader": {
     "grade": false,
     "grade_id": "MB",
     "locked": true,
     "solution": false
    }
   },
   "outputs": [
    {
     "data": {
      "text/html": [
       "<img src=\"data:image/png;base64,iVBORw0KGgoAAAANSUhEUgAAAREAAAEACAYAAACUHkKwAAAABHNCSVQICAgIfAhkiAAAAAlwSFlzAAALEgAACxIB0t1+/AAAIABJREFUeJzt3XtUVOX6B/Dvw025K15AxSuWF9QA0bTsZ4WCpoKVmJqZeeqoWXm0OnrqZ1ZLV55adkfTMjvneMmyVEj4SZoXDE0CSTBFW4oIAt5LJWGA5/cH4xyQ++w98w7M81nrWcze8868D5uZh315997EzBBCCHM5qE5ACNG0SRERQmgiRUQIoYkUESGEJlJEhBCaSBERQmiiSxEhojVEVEhER2p5fjgRXSWiNGP8rx79CiHUc9LpfdYC+AjAv+tos4+ZI3XqTwhhI3RZE2Hm/QCu1NOM9OhLCGFbrLlPZCgRpRPRdiLqa8V+hRAWpNfmTH1SAXRh5iIiGg1gK4A7rdS3EMKCrFJEmPl6pccJRLSCiHyY+fLtbYlITuYRQhFmbvRuBz03Zwi17PcgIt9KjwcDoJoKiBCi6dFlTYSINgC4H0AbIsoBsBiACwBm5tUAJhDRbAAGAH8CeEyPfoUQ6pGtXQpANmeEUEf15owQwg5JERFCaCJFRAihiRQRIYQmUkSEEJpIERFCaCJFRAihiRQRIYQmUkSEEJpIERFCaCJFRAihiRQRIYQmUkSEEJpIERFCaCJFRAihiRQRIYQmUkSEEJpIERFCaCJFRAihiRQRIYQmUkSEEJpIERFCaCJFRAihiRQRIYQmUkSEEJpIERFCaCJFRAihiRQRIYQmuhQRIlpDRIVEdKSONh8S0UkiSieiID36FUKop9eayFoAEbU9SUSjAQQw8x0AZgL4RKd+hZ3p3LkzhgwZojoNUYkuRYSZ9wO4UkeTKAD/Nrb9CYA3Efnq0bewL8HBwZg2bZrqNEQlTlbqpxOAs5Wm84zzCq3Uv2gmYmNjERsbqzoNUYnsWBVCaGKtIpIHoHOlaX/jPCFEE6dnESFj1CQWwDQAIKIhAK4ys2zKCNEM6LJPhIg2ALgfQBsiygGwGIALAGbm1cwcT0QPEdFvAG4AeEqPfoUQ6hEzq86hCiKyrYSEsCPMXNvWRK1kx6oQQhMpIkIITaSICCE0sdZgMyF0R0Tw9/cHEeH8+fO4efOm6pTskqyJiCaHiODo6IhWrVrh6NGjOHPmDO69917VadktKSKiybnvvvuQm5uLY8eOwd3dXXU6dk+KiGhyDh8+jOeffx6+vr5wcJCPsGqyT0Q0CbNmzcKoUaNM056enlWef/PNN1FeXo7du3dbOzW7J4PNRJOwcuVKzJo1q842u3btQlZWFvbt24dNmzZZKbPmxZzBZrImImzaU089BT8/PwQHB9fbNiwsDGFhYQCAtLQ0DBs2DGvXrrV0inZPNiiFTevWrRtmz56Nu+++u8Gv6dWrF5599lnMmTPHgpmJW6SICJu2fft25ObmNuo1YWFhePzxx/HTTz9ZKCtRBTPbVABgCYlbkZqayubYtWsXd+3aVXn+TS3M+c7KmoiwWe7u7mYfwn3wwQfxzTff6JyRqInsWBU2ycnJCenp6ejevbvqVEQ9ZE1E2KTS0lKMGTMGWVlZZr1+9+7diI6O1jkrURMpIsJmnThxwuyT6q5duwZHR0ds3LhRRrVamCxdYdNef/11pKenm/XaK1euYOvWrbd22AtLUX00Ro7OSNQXsbGxjToyc/DgQY6Ojlaed1MMOTojbFrbtm3xxBNPgKhxI6sTEhJw9OjRBrU9dOgQ3n//fXz99dfmpCjMoXrNQ9ZE7CcCAgL4yy+/5MjISB47diy3bt3a9FyPHj04JCTENE1EHB4ezl5eXgyAZ8+ezbGxsXz48OFa10DS0tKqrYG0aNGCx4wZw66urgyAQ0JCuEePHtVyu70/ew2zvrOqi4YUEfsILy8v7tWrF/v6+rLBYGBm5unTp3OrVq0YAM+fP583btzI7u7uHBQUxKGhoXzp0iWePHkyBwUFmeK1116rtYgsWrSoStugoCAeMWIEGwwGHj16NLu7u/OmTZt43rx5VXJzcXEx9RccHKx8WakMKSISVg03Nzf29PSsNt/Hx4ednZ2rzIuIiODdu3dzYGCgqYgwMz/99NPcrl07fu211/jbb7/lsWPH1loktBozZgxv3bqV582bx66uruzl5cXOzs48cOBALi8v5/Pnz3P//v2VL1eVYdZ3Vu8ioDVUL0SJhsfChQt59erV1eYfOXKEH3zwwSrziIgHDx7MxcXFXF5ebvpiGwwGLi4uZoPBwKWlpVxSUqJb0bhdSUkJl5aW8rx583ju3Ln8n//8h++55x4uLi7mkpIS7tSpExsvRWG3YdZ3Vu8ioDVUL0SJhoe3tzfPmjWLT506xTt27GAPDw8+cuQIFxcXc1hYWLX2Li4uPGjQoCprIipcvHiRL168yNeuXeO8vDxmZi4vL+fs7GwODAxUvlxVBksRkbB2TJ8+nZmZb9y4wcnJyaYCkZGRwaNGjWIAPH78eE5KSuKkpCQ+ePBglTURW2EwGHjs2LHs7u7Oy5Yt46ioKOXLVkWwGd9ZOXdG6MLNzQ1Dhw41Tffr1w/t27fHxIkTERQUhAMHDuDll19WmGHdHBwcMGPGDGRmZqJv3744ffp0rW2XL1+Ojh07YuXKlfDz84OHhwfS09MxYcIEvPLKK1bM2jZIERFmefTRRzF06FAEBgbW2mbSpElo3bo1WrZsiezsbOslZwYHBwc8/PDDuH79Ovr27Yvt27dXed7X19dUBKdPnw4fHx94e3ubfr/t27c3eCxLs2PO6oslAzawSidRf0yYMIH3799f6+bB5s2b+ejRo2ZvXqj21Vdf8d/+9jceOXIkA+A+ffrU2X7btm3K/yZ6BKvanCGiUQDeR8W5OGuY+Z+3PT8cwDYAp4yzvmXmJXr0LdTYvHkzevXqVetNo3799Ve0bdvWylnpJzo6GtHR0di9ezeKi4tx4cIF1SnZLM1FhIgcAHwMIAzAOQApRLSNmY/f1nQfM0dq7U/YjtzcXCQnJ8Pb2xvdu3dHRkYGQkND4ejoiEWLFqlOTxcPPPAA3N3d8cEHH6hOxXaZs/rCVTc/hgBIqDS9EMCC29oMBxDXwPdTvkon0bgYMWIEnzhxggMDA/natWtmbkA0TZcvX+bs7Gz+9NNPlf8d9Ag2owbocQJeJwBnK03nGufdbigRpRPRdiLqq0O/QhEHBwc4OjrCwcHBdF/cO+64A5mZmfDw8FCdntWUlZXh7bffRrdu3fDMM8+oTkcZax2dSQXQhZmLiGg0gK0A7rRS30Jna9euRXh4ON5//31kZ2djxYoVqlNSYt68efj8889Vp6GcHkUkD0CXStP+xnkmzHy90uMEIlpBRD7MfFmH/oWVtW7dGn5+fpg7dy6Ki4vh4+OjOiWre/bZZ7Fp0ybcuHFDdSrK6VFEUgD0JKKuAPIBTAIwuXIDIvJl5kLj48GouH2nFJAmon379li9ejUAYP78+Vi6dCmcnZ2r3BvX3pw4cQKXL8tHGNDh8ojMXAbgOQCJAI4C+JKZjxHRTCL6q7HZBCLKJKLDqDgU/JjWfoVlhYWFYcaMGQgICMDy5csRFRWFqKgoeHt7Izg4GJ07d1adolIvvPACYmJiEBERoToV5XTZJ8LM/weg123zVlV6HAMgRo++hHXcvHkTN27cgJ+fH6ZOnVrluYceeqjOkar2IDKyYrRCXl4eduzYgTvuuMNu7/0rw95FjX788Ud069YNTz/9dJX5Y8eOhb+/v6KsbE9wcDCmTZuG4OBg3HfffXZZRIgrxmbYDOP1HIQNuP/++/HOO+8gMDAQycnJuO++++Di4qI6LZtz9uxZZGVl4cSJE03+JuLM3LgL4BpfZFMBGxhwI/HfCAkJ4T179nC/fv344sWLOgzPan7Wr1/PvXr1ahb3/mUzvrOyJiLq5OjoiD59+iAjI0N1KjYvNTUVoaGhqtPQhM1YE5FbRog6DRo0CD/++KPqNIQNkx2rwmTdunUIDg42TcfHx2Pr1q3w8vJSmFXT0bdv3yrXFJk6dSoOHz6sMCPrkM0ZYTJo0CC88847GD58OACgoKAAOTk5GDx4sOLMmqZDhw7h5ZdfRu/evQHANGDPlsnmjNAkJSUFr7/+Onbs2AEA8PPzkwKiwc6dO5GTk4PDhw836zUS2Zxpglq1aoUXX3wRALBixQrk5+fr9t579uzBuHHjZCSmGfLy8rBy5UrTtIuLCzw8PJCSkqIwK8uTItIEOTo6mq4a5uSk759wxIgRGDBggK7vaS9KS0uRk5ODdevWgZnx0ksv2cW4GtknYiN8fX1x5513Iikpqd62rq6uCAsLAwDs27cPf/zxh255bNq0CRMnTtTt/exNQUEB/P39UVZWpjoVs8g+kSZs8ODB+OSTTxAUFISgoCA4OztXeb5du3bo1q0b3N3d8eCDDyIuLg5xcXEICAio0s7Hx6favMY4ffo0zp8/b/br7Z2TkxOCg4Or/f2aNXNGqFkyYAOj9qwdrq6uPHXq1CqjIENCQtjZ2Zm9vLzqvFdtWFgYt2vXzhQvvPACJyYmmpVHq1atuF27drxy5Uozxm2Kyrp06aL8c2VOsDnfWXNeZMlQvRBVxMyZM6vdg7a4uJiHDh3K69evr/NetSUlJVxcXGwKg8FgdhHZvXs3FxcXc2lpqfnfHsHMUkSkiFg5PD09+emnn672QczLyzPrwsdFRUVV7o176tQpvvfee+vMISkpif/8889G9yWqOn/+PPfs2ZMdHR2Vf66sVUTk6IwNuHbtGgoLC6vN79ixo1nv5+rqimHDhiExMRF9+vTBk08+iczMzDpf07lzZ7Rs2dKs/sR/eXt744svvrj1DxEA8NFHH+Grr75SmJVlydEZG9GxY0dMmzYNb731lu7vHR8fjz/++AMrV67Evn37amyTnZ2Nrl276t63PVu8eDGysrKQnp6OrKws1ek0CJtxdEbWRBQbNWoU3NzccPz4cYtdLeyhhx4CUPFfMjIyEsnJyfj222+rtFmyZAleeeUVdO/e3SI52JslS5bgs88+w7lz51SnYnFyiFeRRx55BH369IGDgwOCgoIwb968apch1Nvo0aMxZMgQEFX/Z2MvH3hr+fTTT+1mecqaiCKzZ89GVlYW9u7diw4dOlS7DKGlnD17FqdPn642f8yYMWjTpo1VchDNjDl7Yy0ZsIE91JaOoKAgPnTokK5HBRrjm2++4d69e1fJKTs7W1k+zZE9HeKVNREFli9fjn79+inr/5FHHoGnpyemTZuGgoICZXk0R2VlZcjNzW2yw97NIftErMzR0RHh4eFITk5WmsfIkSPx3XffKc2huWFm5OfnIyAgAHl5efW/oJmQNREr8vDwwOHDh+Hh4YHWrVurTkfo7MiRIxg5cqRdrYUAsiaiG0dHRyQmJqJXr161tikqKkJ0dDRu3ryJFi1aWDE7YQ09e/bEunXr4OjoqDoVq5IiopPy8nIsX768zn0MLVq0wIIFC2zmKEhAQADWrl0LBwf5GGh16NAhTJkyBe+++y7Ky8tVp2NVsjmjE2Y2XVYQACZNmoQbN24gLi7ONK+0tBS7du3C/fffD09PTxVpVtGqVStMnDgRN2/ehI+Pj+p0mrSCggLExsaqTkMJKSI6e+qpp+Dn54eoqCgUFRWZjsJcvHgR//rXv+Dt7W1Tq7tubm6YNWuW6jSatNTUVHz99deq01DHnOPCtweAUQCOAzgBYEEtbT4EcBJAOoCgOt5L+bFyc4KIeOLEiXz69Okaxw3k5ubyzJkzuaioSPsgBGFTYmJilH/+9Ao24/uv+QQ8InJARfEIA3AOQAqAScx8vFKb0QCeY+YxRHQ3gA+YeUgt76ctIUWcnJyQl5eH9u3bq05FWMnRo0eRn5+P2NhYfPTRR6rT0QUrOgFvMICTzHwGAIjoSwBRqFgzuSUKwL+NSf5ERN5E5MvM1c9/14GzszN69OiB3377zSqH25ydndGrVy+b2kwRlpWTk4NXX30V27ZtU52Kcnrslu8E4Gyl6VzjvLra5NXQRjedOnVCRkaG1XYW3urPVo66CMubMWOGFBAjObYnhNBEjyKSB6BLpWl/47zb23Sup41u8vLycNddd+Hy5cuW6qLG/i5dumSV/oR6a9asQVRUlOo0bIIeO1YdAWShYsdqPoBDACYz87FKbR4CMMe4Y3UIgPdlx6po6jIzM3Hu3DnExcXh448/Vp2OLszZsap5TYSZywA8ByARwFEAXzLzMSKaSUR/NbaJB3CaiH4DsArAs1r7tTVlZWWYO3cuzpw5U+Pz586dw7PPPos///zTypkJS+nXrx/Cw8PRp08f1akopctgM2b+PwC9bpu36rbp5/Toy1YxM7788ku4u7vDz88PkZGRKCoqws6dOwFUDDZbu3YtPDw88PLLL6Ndu3aKMxZ6GTx4MB5//HGsX79edSpKyIhVna1ZswYAcOrUKdy4caPKUGhnZ2dcunTJps7yLCoqwrp16zB58mSbGIrfFIWGhmLixIl2W0Tk6IxOiAjh4eHw8vICAGzcuLHauRROTk6IiIiAh4eHihSruXr1KjZv3ozZs2dbbSd0c+Xr64uxY8di5MiRNV7DtlkzZ5irJQM2MPTXnHBycuKdO3dWu+xg5XBwcOABAwbwqVOntIyy1s3PP/9syk0uj6jdjRs3ODExscneuApmDnuXzRmdlJaWYsSIEXW2cXNzw5YtW+Du7o6SkhK4uLhYKTthDSdPnsTkyZNtanPVGmRzxoquX7+O3r17w9/fH0lJSarTETrr378/0tLS7O70BykiVmYwGBAfH4977rlHaR47d+5EZGSk0hyaGwcHB3Ts2BEnT540+xaoTZEUEQUWLFiAo0ePKut/y5YteOGFF+zm5krW5OTkhO7du8PJyX72FEgRUSAtLQ1Xr17FihUrMGnSJNNhYWvYtGkTli5dimPHjlWZ//zzzzeZ+8UK2yJFRJFVq1YhJiYGv//+O/Ly8vD5559bpd9OnTrVeOPuuLg4XLx40So5iOZFiogimzdvxq+//goHBwccOXIE7777rsUHK+3YsQMpKSk1jmOYMWOGXW3HW9pf/vIXdOjQQXUaVqH5BDy9NdUT8LTq2LEjnnjiCSxbtkz3905ISMC1a9cQExODffv21dgmOzu7xjUUYb5FixYhKysLv/zyC06cOKE6nQZhM07AkyJiI8aNG6fr1cKLioqQkZGB0NBQTJ06FQkJCfj9999rbS9FRB8lJSVITU1F5e/Vhx9+iE2bNinMquHMKSL2swvZhnl4eNR4CYGCggJ4enrC3d29Ue/3559/Ijk5GQ8//DAOHjyIZcuW4ezZs/jxxx9rfU1ubi58fX3RsmXLRucv/uvq1auYOnUqzpw5Yz+DzswZ5mrJgA0M/bV2zJw5k0tLS6sMoTYYDDx06FDesGEDGwwGLi0t5bKyMjYYDNXaVY7S0lJOTEw0K4+9e/eywWDgsrIys4Z9i//q0qWL8s+VOcHmfGfNeZElQ/VCVBGurq48bdq0Kh/CgQMHsrOzM3t7e7Ovry8vXryYt2zZwpGRkVXajRw5kn19fU0xd+5cs4uIj48P+/r68ieffGL+t0cwsxQRKSIKYty4cfzrr79ySEgIh4SEsIuLS5Xn27dvz927d2d3d3ceN26c6cMaHBxcpV2bNm34jjvuMDuPt956iwsKCnT7MtmbCxcu8KBBg6r9/ZpKsBnfWdmxaiN8fX3Ru3dv7N27t962bm5uppP99u7dW+cO08batGkTJk6cqNv72ZuCggL4+/s32f0hrOLyiEIfhYWFDSogAODq6oqIiAhERESYrl+ilzVr1mDXrl26vqe9yMnJwcKFC0039J4/fz5CQkIUZ2V5cnSmCSovL8fVq1cBQPf/eImJiYiIiEBYWJiu72sPHB0d0bFjRyxcuBBARbEvKSlRnJXlyeaMqOJ//ud/8I9//AOjRo1SnUqTt2TJEnz22Wem6+n+/PPPijOqn2zOCE1CQ0Px5ptvmgpIQUFBk/jg26qIiAh07doVAwcOxMCBA1WnYzGyJiJM1q9fX2UbPj4+Ht9++y3279+vMKum4+bNm8jOzjZNT5kyBYcPH1aXkBnMWRORIiLqNGTIEHz//fc2c3FpW5aamorQ0FDVaWgimzNCdykpKcqvwiZsmxQRUacBAwbgww8/lHsN12Hjxo3o27cvoqOjVaeihGzOiFoNHz4cb7/9Nvr374/9+/dj+PDhcoX6Gpw9exbHjh3DyZMn8dxzTftGj7I5I3SVk5ODnTt3wtXVFSNHjoSLiwtef/11pKenq07NZnzzzTd47bXXcOzYMQwZUuM96ps9KSKiRvfeey8GDRqE+Pj4KvNjY2Nx9uxZRVnZnrS0NHzxxReIiYnBihUrVKejhKYRq0TUGsAmAF0BZAOYyMzVTuQgomwAvwMoB2Bg5sFa+hWW5+rqCk9PTxQUFGD9+vV4/PHHTc8lJCSgR48eCAwMVJihWnFxccjLy0NaWhqAihtXnTx5UnFWiphz1t6tAPBPAH83Pl4AYFkt7U4BaN3A91R+JqNE1Wjfvj3HxsZybGws9+jRgwcNGsTx8fH6nfraBIWFhSn/u1gi2NqXAgBwHICv8bEfgOO1tDsNoE0D31P5gpSoO2JjY5mZOT8/327v4Ttz5kz28fFR/rfQO9iMOqB1n0h7Zi5ERe8FAKpf468CA/ieiFKI6BmNfQrFrl69ivPnz+ODDz7AwoULTScD2pNPPvkEU6ZMgZubm+pU1KuvygD4HsCRSpFh/BkJ4PJtbS/V8h4djD/bAUgHMKyO/pRXY4m6w8nJiZ2dndnR0ZEdHBx49OjRFvyfb7sMBgMvWLBA+d9Dz2BLrIkw80hmHlAp+ht/xgIoJCJfACAiPwDna3mPfOPPCwC2AJAdq01YaWkpDAYDysrKUF5eDoPBgJMnT2LAgAG4fv266vSsxsnJCX//+99x6tQprF69WnU6ymjdnIkFMN34+EkA225vQERuRORhfOwOIBxApsZ+hQ2YNm0akpKS8N5776FTp05YtWpVs7xafEpKCqZOnVrjcz4+PujevTt8fX2tnJXt0HpRon8C+IqIZgA4A2AiABBRBwCfMvNYAL4AthhHojoBWM/MiRr7FTagc+fOGDZsmGl66NChpsdLly7FsGHDMHz4cBWp6WbPnj144403UFhYqDoVm6WpiDDzZQAjapifD2Cs8fFpAEFa+hG259FHH63zwkV33nkn2rZta8WM9LV582YcOHAAR48exZ49e9CnTx/VKdksuTyiMAsRISUlBUVFRQgPD6/2fHR0NHbs2IHr16+jZcuWyM7ORlRUlIJMG2f9+vUYOnQodu7ciVWrVpnmX758Ge+99x4A4Mknn4SPjw927NiBVq1aoWXLlsjMzMSUKVOwYcMGVakrI0VEmGXz5s3YvHkzpk+fXmMRAYANGzaguLgYd911FxwdHa2cYeOUl5cjLi4OixYtwgcffFDt+cLCQsyfP9803alTJ8TExKBDhw7w8PBAeno6JkyYYM2UbYYUEaGLyvf+dXR0xNGjR3HhwgUkJCSgpKQEL730EpKTk+Hs7IzQ0FAQNfpkUYsqLy/H6tWrcf78eRw7dqzOfSCVi0llqamplkrPtplzXNiSARs4Vi7RsPDy8uJZs2ZxdnY2f//99+zh4cGZmZlcUlJS47BwFxcXHjhwYLVbgVrbpUuX+NKlS3z9+nXOz89nZuby8nLOycnhwMBA5ctVZbAZ31lZExFmmzNnDnr06IFu3bqZ5vXr1w8ZGRm3/iGYEBHuuusuJCcnV9m0KSsrAzODiEBEKC8vh5OTZT6WpaWlcHBwwJIlS8DMCA0NxYoVK7B3714wM+6++27k5+dbpO9mzZzKY8mADVRjiYaFu7s7e3l5VZvftm3bareRDA8P5127dnH//v2rrIk888wzdd5rWE/jxo3jbdu28bx589jNzY29vb3Z2dmZBw0axOXl5VxYWMj9+/dXvlxVhjnfWVkTEWa7ceNGjfMvXrxYbd5PP/2EOXPm4MqVK6Z5M2bMwNatW3HlyhVcu3YNN2/exK5duzBw4EA4OTkhISEBzz//PI4fP256TWRkJBYvXlxjv4sXL8Z3331XZV6bNm0QHx+P8ePHY8+ePaZBY0VFRaY2v/zyC4YMGYKEhASLrQU1a3qvSWgN2EA1lrBMBAQE8MaNG3n8+PEcGRlZ5SzYgIAAHjhwoGmaiDgiIoK9vb0ZAM+aNYu3bt3KaWlpta5ppKam8oQJE6r02aJFCx43bhy7uroyAA4NDeWAgIBqud3en72GWd9Z1UVDioj9RLt27fjJJ59k4+jlBsesWbM4MzOz1uJR2cGDB/mxxx5T/rs21ZAiItEs49b1SxrqwIED1dZIJBoW5nxn5RqrwqaNHTsW/v7+jXrNkCFD8MQTT8DHxwfR0dE2NyaluZEiImzaG2+8geDgYLNe26ZNG0yYMEGKiIXJrmhhs3r27IkWLVqY9VoPDw+UlJTgscce0zkrcTu5eZWwSU5OTsjKykLXrl3NPu+mOdwb19pYbl4lmovS0lIEBQUhM1OuX2XrpIgIm3Xt2jWUlZWZ9drdu3fb7b1xrU2KiLBpc+bMwcGDBxv9usDAQLz44osWyEjcTnasCpsWERGBjh07Nuo1P/zwAzIyMqpculFYjqyJCJuWm5uL1atX49ChQw1+zfHjx+363rjWJmsiwqatWbMGAODv74/Bg+u+08gPP/yAEydOICkpyb7vjWtlUkREk3DkyBHExcWZpj08PPDAAw+Ypg8cOIClS5fihx9+UJGefVN9roycOyPR2PD09ORHHnmkyvkyzfUG29YOOXdG2IXg4GCsXLkSFy5cQHl5uep07J4UEdHkJCUlwd/fH3369Kn1wkjCemTYu2iyiAhdunQBEaGgoAA3b95UnVKTZ86wdykiQggTOXdGCGF1UkSEEJpoKiJENIGIMomojIhC6mg3ioiOE9EJIlqgpU8hhG3RuiaSAeBhAHtra0BEDgA+BhABIBDAZCLqrbFfIYS40azyAAAFW0lEQVSN0DRilZmzAIDqvv7cYAAnmfmMse2XAKIAHK/jNUKIJsIa+0Q6AThbaTrXOE8I0QzUuyZCRN8D8K08CxVDZF9l5riaXyWEsBf1FhFmHqmxjzwAXSpN+xvnCSGaAT03Z2rbL5ICoCcRdSUiFwCTAMTq2K+wI+PGjUNMTIzqNEQlmnasEtF4AB8BaAvgOyJKZ+bRRNQBwKfMPJaZy4joOQCJqChaa5j5mObMhV1KT0+v8YbhQh0Z9i6EMJFh70IIq5MiIoTQRIqIEEITKSJCCE2kiAghNJEiIoTQRIqIEEITKSJCCE2kiAghNJEiIoTQRIqIEEITKSJCCE2kiAghNJEiIoTQRIqIEEITKSJCCE2kiAghNJEiIoTQRIqIEEITKSJCCE2kiAghNJEiIoTQRIqIEEITKSJCCE2kiAghNJEiIoTQRIqIEEITKSJCCE00FREimkBEmURURkQhdbTLJqJfiOgwER3S0qcQwrY4aXx9BoCHAayqp105gPuZ+YrG/oQQNkZTEWHmLAAgIqqnKUE2nYRolqz1xWYA3xNRChE9Y6U+hRBWUO+aCBF9D8C38ixUFIVXmTmugf3cy8z5RNQOFcXkGDPvb3y6QghbU28RYeaRWjth5nzjzwtEtAXAYABSRIRoBrTuWK2sxv0iROQGwIGZrxORO4BwAG/U9ibMXN/+FSGEDdF6iHc8EZ0FMATAd0SUYJzfgYi+MzbzBbCfiA4DOAggjpkTtfQrhLAdxMyqcxBCNGFKD7sS0dtEdIyI0onoGyLyqqXdKCI6TkQniGiBFfKyuUF0jcjJasuKiFoTUSIRZRHRDiLyrqWdxZdTQ35vIvqQiE4aP29BlsijMTkR0XAiukpEacb4XyvktIaIConoSB1tGrecmFlZABiBiv0lALAMwFs1tHEA8BuArgCcAaQD6G3hvHoBuAPADwBC6mh3CkBrKy2renOy9rIC8E8Afzc+XgBgmYrl1JDfG8BoANuNj+8GcNDCf6+G5DQcQKw1Pj+V+hwGIAjAkVqeb/RyUromwsw7mbncOHkQgH8NzQYDOMnMZ5jZAOBLAFEWziuLmU+ilp3FlVhtEF0Dc7L2sooC8C/j438BGF9LO0svp4b83lEA/g0AzPwTAG8i8oXlNPRvYdUDCVwxtKKukeONXk62NIp0BoCEGuZ3AnC20nSucZ4tsLVBdNZeVu2ZuRAAmLkAQPta2ll6OTXk9769TV4NbaydEwAMNW42bCeivhbMp6EavZz0PMRbo4YMViOiVwEYmHmDpfNpTF4NoOsgOp1y0lUdOdW0/V7bXnoZbFizVABdmLmIiEYD2ArgTsU5NZrFiwjXM1iNiKYDeAjAg7U0yQPQpdK0v3GeRfNq4HvoOohOh5x0X1Z15WTcQefLzIVE5AfgfC3vYenBhg35vfMAdK6njZ7qzYmZr1d6nEBEK4jIh5kvWzCv+jR6Oak+OjMKwMsAIpm5uJZmKQB6ElFXInIBMAlArLVyRB2D6IjIw/j41iC6TJU5wfrLKhbAdOPjJwFsu72BlZZTQ37vWADTjHkMAXD11qaYhdSbU+V9DUQ0GBVDLqxRQAi1f4Yav5ysuWe4hj3BJwGcAZBmjBXG+R0AfFep3SgAWcb2C62Q13hUbBf+CSAfQMLteQHojoo97odRcUkEi+bVkJysvawA+ADYaewvEUArVcuppt8bwEwAf63U5mNUHDH5BXUcdbNWTgDmoKKgHgaQDOBuK+S0AcA5AMUAcgA8pXU5yWAzIYQmtnR0RgjRBEkREUJoIkVECKGJFBEhhCZSRIQQmkgREUJoIkVECKGJFBEhhCb/DweJednonvJIAAAAAElFTkSuQmCC\">"
      ],
      "text/plain": [
       "<IPython.core.display.HTML object>"
      ]
     },
     "metadata": {},
     "output_type": "display_data"
    }
   ],
   "source": [
    "from IPython.display import display, HTML\n",
    "display(HTML('''<img src=\"data:image/png;base64,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\">'''))"
   ]
  },
  {
   "cell_type": "code",
   "execution_count": null,
   "metadata": {
    "collapsed": true
   },
   "outputs": [],
   "source": []
  }
 ],
 "metadata": {
  "anaconda-cloud": {},
  "celltoolbar": "Create Assignment",
  "kernelspec": {
   "display_name": "Python 3",
   "language": "python",
   "name": "python3"
  },
  "language_info": {
   "codemirror_mode": {
    "name": "ipython",
    "version": 3
   },
   "file_extension": ".py",
   "mimetype": "text/x-python",
   "name": "python",
   "nbconvert_exporter": "python",
   "pygments_lexer": "ipython3",
   "version": "3.6.0"
  }
 },
 "nbformat": 4,
 "nbformat_minor": 1
}

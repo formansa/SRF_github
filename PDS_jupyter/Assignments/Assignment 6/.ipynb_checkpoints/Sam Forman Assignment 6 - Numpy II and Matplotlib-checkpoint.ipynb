{
 "cells": [
  {
   "cell_type": "markdown",
   "metadata": {},
   "source": [
    "# Assignment 6: Numpy II and Matplotlib\n",
    "\n",
    "***\n",
    "\n",
    "__Question 1:__ (2.0 points) \n",
    "\n",
    "1. (0.5 point) Create a two-dimensional numpy array called <font color='blue'>A</font> with six rows and three columns by broadcasting the array [1 2 3 4 5 6].\n",
    "2. (0.5 point) Create arrays <font color='blue'>B</font> and <font color='blue'>C</font> where <font color='blue'>B</font> is copy and <font color='blue'>C</font> is a view of <font color='blue'>A</font>, respectively. Use the method \"id()\" to make sure <font color='blue'>B</font> and <font color='blue'>C</font> do not reference to the same location as <font color='blue'>A</font>. \n",
    "3. (1.0 point) Reshape <font color='blue'>C</font> to have nine rows and two columns and create a new variable <font color='blue'>D</font> by copying the rows 3,6, and 8 from <font color='blue'>D</font>. "
   ]
  },
  {
   "cell_type": "code",
   "execution_count": 1,
   "metadata": {
    "collapsed": false
   },
   "outputs": [
    {
     "name": "stdout",
     "output_type": "stream",
     "text": [
      "array a:\n",
      " [[ 1.  1.  1.]\n",
      " [ 2.  2.  2.]\n",
      " [ 3.  3.  3.]\n",
      " [ 4.  4.  4.]\n",
      " [ 5.  5.  5.]\n",
      " [ 6.  6.  6.]]\n",
      "\n",
      "id(A):  4582960464 id(B):  4583064240 id(C):  4668280144\n",
      "array C:\n",
      " [[ 1.  1.]\n",
      " [ 1.  2.]\n",
      " [ 2.  2.]\n",
      " [ 3.  3.]\n",
      " [ 3.  4.]\n",
      " [ 4.  4.]\n",
      " [ 5.  5.]\n",
      " [ 5.  6.]\n",
      " [ 6.  6.]]\n"
     ]
    },
    {
     "data": {
      "text/plain": [
       "array([[ 2.,  2.],\n",
       "       [ 4.,  4.],\n",
       "       [ 5.,  6.]])"
      ]
     },
     "execution_count": 1,
     "metadata": {},
     "output_type": "execute_result"
    }
   ],
   "source": [
    "# solution \n",
    "\n",
    "import numpy as np\n",
    "\n",
    "pre_a = np.array(np.arange(1,7))\n",
    "A = np.zeros((6,3))\n",
    "A[:] = pre_a[:,np.newaxis]\n",
    "print('array a:\\n',A)\n",
    "\n",
    "C = A.view()\n",
    "B = C[:]\n",
    "\n",
    "\n",
    "\n",
    "print('\\nid(A): ',id(A),'id(B): ',id(B),'id(C): ',id(C),)\n",
    "\n",
    "C = C.reshape((9,2))\n",
    "print('array C:\\n',C)\n",
    "\n",
    "# rows 3,6,8 correspond with 2,5,7 \n",
    "D = C[[2,5,7],:]\n",
    "D"
   ]
  },
  {
   "cell_type": "markdown",
   "metadata": {},
   "source": [
    "***\n",
    "\n",
    "__Question 2:__ (2.0 points) Consider an $n\\times n,\\, n\\geq 2$ array <font color='blue'>A</font>. For instance, with $n=4$:\n",
    "$$\n",
    "A=\\left(\\begin{array}[cccc]\\\\\n",
    "1 & 3 & 2 & 6 \\\\\n",
    "3 & 5 & 1 & {7} \\\\\n",
    "{0} & 4 & {2} & {6} \\\\\n",
    "6 & 1 & 3 & {1} \n",
    "\\end{array}\\right)\n",
    "$$\n",
    "Create a 2$\\times$2 array <font color='blue'>B</font> where the first row corresponds to the minimal and maximal elements in the upper triangluar part of <font color='blue'>A</font> and the second row corresponds to the minimal and maximal elements in the lower triangluar part of <font color='blue'>A</font>. The main diagonal should be considered as belonging to both the upper and lower triangular part of <font color='blue'>A</font>. In the above example the solution would be \n",
    "$$\n",
    "B=\\left(\\begin{array}[cc]\\\\\n",
    "1 & 7  \\\\\n",
    "0 & 6  \n",
    "\\end{array}\\right)\n",
    "$$\n",
    "Your solution (the python code) should work for any $n\\times n,\\, n\\geq 2$ array.<br>\n",
    "__Hint__: Use the numpy methods \"triu_indices\" and \"tril_indices\" combined with \"max\" and \"min\"."
   ]
  },
  {
   "cell_type": "code",
   "execution_count": 2,
   "metadata": {
    "collapsed": false
   },
   "outputs": [
    {
     "name": "stdout",
     "output_type": "stream",
     "text": [
      "[[ 0  1  2  3  4]\n",
      " [ 5  6  7  8  9]\n",
      " [10 11 12 13 14]\n",
      " [15 16 17 18 19]\n",
      " [20 21 22 23 24]]\n",
      "max: 24\n",
      "[[ 0.45025811  0.97263318  0.03074517  0.63360678  0.92120689]\n",
      " [ 0.52809043  0.76034247  0.5378023   0.75418042  0.19998359]\n",
      " [ 0.95785802  0.46560755  0.28134973  0.04904463  0.1292082 ]\n",
      " [ 0.60684063  0.77274513  0.90695241  0.62252341  0.54895321]\n",
      " [ 0.2147402   0.88056368  0.13972644  0.98343676  0.91893652]]\n",
      "[[ 0.03074517  0.97263318]\n",
      " [ 0.13972644  0.98343676]]\n"
     ]
    }
   ],
   "source": [
    "# solution\n",
    "\n",
    "# Run you code in the example to make sure it is working. \n",
    "\n",
    "#n = 4\n",
    "A = np.array([[1,3,2,6],[3,5,1,7],[0,4,2,6],[6,1,3,1]])\n",
    "\n",
    "zer = np.zeros((5,5))\n",
    "lower5 = np.tril_indices(5)\n",
    "upper5 = np.triu_indices(5)\n",
    "\n",
    "\n",
    "test_arr = np.arange(0,25).reshape((5,5))\n",
    "print(test_arr)\n",
    "print('max:',max(test_arr[upper5]))\n",
    "#output = np.array([min(test_arr[upper5]),max(test_arr[upper5])],[min(test_arr[lower5]),max(test_arr[lower5])])\n",
    "#test = np.array([[min(test_arr[upper5]),max(test_arr[upper5])],[min(test_arr[lower5]),max(test_arr[lower5])]])\n",
    "#print(type(test))\n",
    "\n",
    "\n",
    "# function below performs the operations required in the question\n",
    "def maxminsrq(arr_input):\n",
    "    leng = arr_input.shape[0]\n",
    "    upper = np.triu_indices(leng)\n",
    "    lower = np.tril_indices(leng)\n",
    "    output = np.array([[min(arr_input[upper]),max(arr_input[upper])],[min(arr_input[lower]),max(arr_input[lower])]])\n",
    "    return output\n",
    "\n",
    "n = 5\n",
    "A = np.random.rand(n,n)\n",
    "print(A)\n",
    "\n",
    "print(maxminsrq(A))\n"
   ]
  },
  {
   "cell_type": "markdown",
   "metadata": {
    "collapsed": true
   },
   "source": [
    "__Question 3:__ (3.0 points) Given a set of points $(x_0,y_0),(x_1,y_1),\\ldots,(x_n,y_n)$, we can fit a line $y=\\alpha_0+\\alpha_1 x$ to the points by solving a linear system of the form:\n",
    "\n",
    "$$\n",
    "A^\\top A\\alpha = A^\\top b\n",
    "$$\n",
    "\n",
    "where $A^\\top$ is the transpose of $A$ and \n",
    "\n",
    "$$\n",
    "A=\\left(\\begin{array}{cc}\n",
    "1 & x_0 \\\\\n",
    "1 & x_1 \\\\\n",
    "\\vdots & \\vdots \\\\\n",
    "1 & x_n \n",
    "\\end{array}\\right),\n",
    "\\qquad\n",
    "\\alpha = \\left(\\begin{array}{c}\n",
    "\\alpha_0 \\\\\n",
    "\\alpha_1 \n",
    "\\end{array}\\right),\n",
    "\\qquad\n",
    "b = \\left(\\begin{array}{c}\n",
    "y_0 \\\\\n",
    "y_1 \\\\\n",
    "\\vdots \\\\\n",
    "y_n\n",
    "\\end{array}\\right)\n",
    "$$\n",
    "\n",
    "Supposing the points $(x_i,y_i)$ are generated by the code:\n",
    "\n",
    "```python\n",
    "x = np.random.uniform(0,1,100)\n",
    "y = 1.0-x+np.random.uniform(-0.3,0.3,100)\n",
    "```\n",
    "\n",
    "1. (1.5 points) Build the matrix (array) $A$\n",
    "2. (1.5 points) Solve the linear system $A^\\top A\\alpha = A^\\top b$ using \"numpy.linalg.solve\" and print the value of $\\alpha_0$ and $\\alpha_1$.\n"
   ]
  },
  {
   "cell_type": "code",
   "execution_count": 9,
   "metadata": {
    "collapsed": false
   },
   "outputs": [
    {
     "name": "stdout",
     "output_type": "stream",
     "text": [
      "[ 0.9790704  -0.98270266]\n"
     ]
    }
   ],
   "source": [
    "# Solution\n",
    "x = np.random.uniform(0,1,100)\n",
    "y = 1.0-x+np.random.uniform(-0.3,0.3,100)\n",
    "# above creates np.arrays of shape (100,)\n",
    "\n",
    "A = np.empty((100,2),dtype=float)\n",
    "A[:,0] = 1\n",
    "for ea in np.arange(0,100): A[ea,1] = x[ea]\n",
    "A_transp  =  A.transpose()\n",
    "#print(A_transp)\n",
    "\n",
    "sol =  np.linalg.solve(np.dot(A_transp,A),np.dot(A_transp,y))\n",
    "\n",
    "print(sol)\n"
   ]
  },
  {
   "cell_type": "markdown",
   "metadata": {},
   "source": [
    "__Question 4:__ (1.5 points) Using the result from question 3, plot the points $(x_i,y_i)$ and the fitted line. Your code should produce a figure like this:\n",
    "\n",
    "![title](linefit.png)"
   ]
  },
  {
   "cell_type": "code",
   "execution_count": 27,
   "metadata": {
    "collapsed": false
   },
   "outputs": [
    {
     "data": {
      "text/plain": [
       "<matplotlib.legend.Legend at 0x11c3b2c18>"
      ]
     },
     "execution_count": 27,
     "metadata": {},
     "output_type": "execute_result"
    },
    {
     "data": {
      "image/png": "[encoded data removed]",
      "text/plain": [
       "<matplotlib.figure.Figure at 0x11bfc0cc0>"
      ]
     },
     "metadata": {},
     "output_type": "display_data"
    }
   ],
   "source": [
    "# Solution\n",
    "#print line based on alpha0 and alpha1 \n",
    "#plot points for all x,y\n",
    "import matplotlib.pyplot as plt\n",
    "% matplotlib inline\n",
    "\n",
    "line_empty = np.ones((100,))\n",
    "line_y = line_empty*x*sol[1]+sol[0]\n",
    "\n",
    "plt.plot(A_transp[1,:],y,marker='*',ls='',label='points')\n",
    "plt.plot(A_transp[1,:],line_y,marker='',lw=2,color='orange',label='fitted line')\n",
    "plt.legend()"
   ]
  },
  {
   "cell_type": "markdown",
   "metadata": {},
   "source": [
    "__Question 5:__ (1.5 points) Enrich the plot genereted in question 4 by incorporating a legend and an annotation indicating the fitted line, similar to the following figure:\n",
    "\n",
    "![title](annotation.png)"
   ]
  },
  {
   "cell_type": "code",
   "execution_count": 28,
   "metadata": {
    "collapsed": false
   },
   "outputs": [],
   "source": [
    "# Solution\n",
    "\n",
    "#see above for solution!! "
   ]
  }
 ],
 "metadata": {
  "kernelspec": {
   "display_name": "Python 3",
   "language": "python",
   "name": "python3"
  },
  "language_info": {
   "codemirror_mode": {
    "name": "ipython",
    "version": 3
   },
   "file_extension": ".py",
   "mimetype": "text/x-python",
   "name": "python",
   "nbconvert_exporter": "python",
   "pygments_lexer": "ipython3",
   "version": "3.6.0"
  }
 },
 "nbformat": 4,
 "nbformat_minor": 2
}

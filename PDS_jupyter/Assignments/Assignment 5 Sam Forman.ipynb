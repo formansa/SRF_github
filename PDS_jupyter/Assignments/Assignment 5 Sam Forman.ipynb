{
 "cells": [
  {
   "cell_type": "markdown",
   "metadata": {},
   "source": [
    "# Assignment 5: Reference, Dictionaries, Comprehensions, File I/O, and Unit Tests\n",
    "\n",
    "***\n",
    "\n",
    "__Question 1:__ (1.0 point) \n",
    "- Write a python code that creates a list called _listN_ with the numbers 0,1,2,3,4,5,6,7,8,9. \n",
    "- Make a copy of the content of _listN_ to a new list called _listM_ and append the numbers 10,11,12,13 to the ende of _listM_. \n",
    "- Creat another variable called _listO_ that is a reference to _listM_ and remove the number 4 from _listO_.\n",
    "- Print the content of the three lists and explain what you are observing."
   ]
  },
  {
   "cell_type": "code",
   "execution_count": 11,
   "metadata": {
    "collapsed": false
   },
   "outputs": [
    {
     "name": "stdout",
     "output_type": "stream",
     "text": [
      "listN: [0, 1, 2, 3, 4, 5, 6, 7, 8, 9]\n",
      "listM: [0, 1, 2, 3, 4, 5, 6, 7, 8, 9, 10, 11, 12, 13]\n",
      "listO: [0, 1, 2, 3, 5, 6, 7, 8, 9, 10, 11, 12, 13]\n"
     ]
    }
   ],
   "source": [
    "# Solution\n",
    "\n",
    "listN = list(range(0,10))\n",
    "\n",
    "listM = listN[:]\n",
    "listM.extend(list(range(10,14)))\n",
    "\n",
    "listO = listM[:]\n",
    "listO.remove(4)\n",
    "\n",
    "print('listN:', listN)\n",
    "print('listM:', listM)\n",
    "print('listO:', listO)"
   ]
  },
  {
   "cell_type": "markdown",
   "metadata": {},
   "source": [
    "Printed above you see the content of the three lists created in the code above. Each list is created as a copy of the previous list that is then tweaked to achieve the desired result. "
   ]
  },
  {
   "cell_type": "markdown",
   "metadata": {},
   "source": [
    "***\n",
    "\n",
    "__Question 2:__ (3.0 points) Each row in the file \"careerXskills.txt\" (available in NYU Classes) contains a pair  _career_ and _skill_. A particular career can be associate to several different skills. For instances, a 'computer_scientist' can have the set of skills 'programming', 'math', 'statistic', 'data_base'. Therefore, a single career can show up multiple times in the file \"careerXskills.txt\", each associate to a particular skill.\n",
    "\n",
    "- Build a dictionary from the file \"careerXskills.txt\", using the career name as the _keys_ and setting the list of skills associate to each career as the _value_ associated to the key. In other words, each _key_ has a list associate to it.\n",
    "- The list of skills associated to a key should not have duplicate entries, that is, a particular skill should not appear multiple times in the list of skills associated to a key.\n",
    "- Your code should print the list of careers and associate skills in the following format:\n",
    "\n",
    "-> computer_scientist: <br>\n",
    "&nbsp; &nbsp; programming, math, statistic, data_base\n",
    "\n",
    "-> engineer: <br>\n",
    "&nbsp; &nbsp; math, design, structural_calculus"
   ]
  },
  {
   "cell_type": "code",
   "execution_count": 69,
   "metadata": {
    "collapsed": false
   },
   "outputs": [
    {
     "name": "stdout",
     "output_type": "stream",
     "text": [
      "->  Computer_scientist :\n",
      "project_management, accurate_communication, math, innovative_thinking, statistic, programming, technologial_knowledge, resilience \n",
      "\n",
      "->  Accountant :\n",
      "teamworking, innovative_thinking, business_acumen, project_management, technologial_knowledge, IT, manage_deadlines, numeracy \n",
      "\n",
      "->  Medical_physicist :\n",
      "physical_fitness, work_under_pressure, resilience, communication, intuitive_reasoning, teamworking \n",
      "\n",
      "->  Aeronautical_engineer :\n",
      "accurate_communication, project_management, statistic, innovative_thinking, technologial_knowledge, programming, math \n",
      "\n",
      "->  Sports_coach :\n",
      "resilience, accurate_communication, statistic, teamworking, programming, communication, intuitive_reasoning, numeracy, project_management, technologial_knowledge \n",
      "\n"
     ]
    }
   ],
   "source": [
    "# solution\n",
    "\n",
    "\n",
    "file_contents = open('careerXskills.txt', 'r')\n",
    "career_skills_list = file_contents.readlines()\n",
    "career_list = []\n",
    "skills_list = []\n",
    "\n",
    "career_skills_dict = {}\n",
    "\n",
    "#print(career_skills_list)\n",
    "\n",
    "for i in career_skills_list:\n",
    "    x,y = i.split()\n",
    "    career_list.append(x)\n",
    "\n",
    "career_list_unique = set(career_list)\n",
    "\n",
    "for c in career_list_unique: career_skills_dict.update({c:[]})\n",
    "\n",
    "for i in career_skills_list:\n",
    "    x,y = i.split()\n",
    "    if y not in career_skills_dict[x]:\n",
    "        career_skills_dict[x].append(y)\n",
    "    else:\n",
    "        pass\n",
    "    \n",
    "#print(career_skills_dict)\n",
    "\n",
    "for i in career_skills_dict:\n",
    "    print('-> ', i,':')\n",
    "    \n",
    "    skills_string = ''\n",
    "    \n",
    "    for j in career_skills_dict[i]:\n",
    "        #print(j)\n",
    "        skills_string += str(j)\n",
    "        skills_string += ', '\n",
    "        \n",
    "        \n",
    "    print(skills_string[0:len(skills_string)-2], '\\n')    \n",
    "\n",
    "\n",
    "\n",
    "    \n"
   ]
  },
  {
   "cell_type": "markdown",
   "metadata": {},
   "source": [
    "***\n",
    "\n",
    "__Question 3:__ (2.0 points) Write a function called <font color='blue'> format_person_info</font> that receives the two mandatory parameters <font color='blue'>_name_</font> and <font color='blue'>_age_</font> and returns a string containing the first and last name (disregarding middle names) followed by the the phrase \"is <font color='blue'>_age_</font> years old\". For instance, \n",
    "\n",
    "```python\n",
    "print(format_person_info('Luis Gustavo Nonato',48))\n",
    "```\n",
    "should result in:\n",
    "\n",
    "Luis Nonato is 48 years old\n",
    "\n",
    "A third, optional parameter, can also be provided, which specify the job position. For instance,  \n",
    "\n",
    "```python\n",
    "print(format_person_info('Luis Gustavo Nonato',48,'Data Scientist'))\n",
    "```\n",
    "should result in:\n",
    "\n",
    "Luis Nonato, Data Scientis, is 48 years old\n",
    " "
   ]
  },
  {
   "cell_type": "code",
   "execution_count": 74,
   "metadata": {
    "collapsed": false
   },
   "outputs": [
    {
     "name": "stdout",
     "output_type": "stream",
     "text": [
      "Luis Nonato, Data Scientist, is 48 years old\n",
      "Luis Nonato is 48 years old\n"
     ]
    }
   ],
   "source": [
    "# Solution\n",
    "\n",
    "def format_person_info(name_input, age_input, job_input=None):\n",
    "    name_split = name_input.split()\n",
    "    \n",
    "    if job_input == None:\n",
    "        return('%s %s is %d years old' %(name_split[0], name_split[len(name_split) -1], age_input))\n",
    "    else:\n",
    "        return('%s %s, %s, is %d years old' %(name_split[0], name_split[len(name_split) -1],job_input, age_input))\n",
    "\n",
    "\n",
    "\n",
    "print(format_person_info('Luis Gustavo Nonato',48,'Data Scientist'))\n",
    "print(format_person_info('Luis Gustavo Nonato',48))"
   ]
  },
  {
   "cell_type": "markdown",
   "metadata": {},
   "source": [
    "***\n",
    "\n",
    "__Question 4:__ (2.0 points) Write a unit test for the function <font color='blue'> format_person_info</font> you implemented in question 3. Your unit test should assert the function correctness when two or three parameters are provided."
   ]
  },
  {
   "cell_type": "code",
   "execution_count": 94,
   "metadata": {
    "collapsed": false
   },
   "outputs": [
    {
     "name": "stderr",
     "output_type": "stream",
     "text": [
      ".\n",
      "----------------------------------------------------------------------\n",
      "Ran 1 test in 0.002s\n",
      "\n",
      "OK\n"
     ]
    },
    {
     "data": {
      "text/plain": [
       "<unittest.runner.TextTestResult run=1 errors=0 failures=0>"
      ]
     },
     "execution_count": 94,
     "metadata": {},
     "output_type": "execute_result"
    }
   ],
   "source": [
    "# Solution\n",
    "import unittest\n",
    "\n",
    "class NameAgeJob_Test_Class(unittest.TestCase):\n",
    "    \n",
    "    def test_inputs(self):\n",
    "        self.assertEqual('A B is 44 years old',format_person_info('A B', 44))\n",
    "        self.assertEqual('A B, hacker, is 44 years old',format_person_info('A B', 44, 'hacker'))\n",
    "\n",
    "# the code below run the unit test\n",
    "t = NameAgeJob_Test_Class()\n",
    "suite = unittest.TestLoader().loadTestsFromModule(t)\n",
    "unittest.TextTestRunner().run(suite)"
   ]
  },
  {
   "cell_type": "markdown",
   "metadata": {},
   "source": [
    "***\n",
    "\n",
    "__Question 5:__ (2.0 points) Write a python code the does exactly the same as \n",
    "\n",
    "```python\n",
    "import random\n",
    "print([x for x in list(map(lambda i: random.randint(-i,i),10*[10])) if x>0])\n",
    "```\n",
    "\n",
    "but without using comprehension."
   ]
  },
  {
   "cell_type": "code",
   "execution_count": 90,
   "metadata": {
    "collapsed": false
   },
   "outputs": [
    {
     "name": "stdout",
     "output_type": "stream",
     "text": [
      "[8, 5, 4, 5, 10, 2]\n",
      "[8, 5, 4, 5, 10, 2]\n"
     ]
    }
   ],
   "source": [
    "# solution\n",
    "import random\n",
    "random.seed(a=1) # this is only necessary to make sure both codes will produce the same set of random numbers\n",
    "\n",
    "res_list = []\n",
    "fcn = lambda j: random.randint(-j,j)\n",
    "for y in 10*[10]:\n",
    "    intr = fcn(y)\n",
    "    if intr > 0:\n",
    "        res_list.append(intr)\n",
    "\n",
    "print(res_list)       \n",
    "\n",
    "random.seed(a=1) # this is only necessary to make sure both codes will produce the same set of random numbers\n",
    "print([x for x in list(map(lambda i: random.randint(-i,i),10*[10])) if x>0])\n",
    "\n",
    "\n"
   ]
  },
  {
   "cell_type": "code",
   "execution_count": null,
   "metadata": {
    "collapsed": true
   },
   "outputs": [],
   "source": []
  }
 ],
 "metadata": {
  "kernelspec": {
   "display_name": "Python 3",
   "language": "python",
   "name": "python3"
  },
  "language_info": {
   "codemirror_mode": {
    "name": "ipython",
    "version": 3
   },
   "file_extension": ".py",
   "mimetype": "text/x-python",
   "name": "python",
   "nbconvert_exporter": "python",
   "pygments_lexer": "ipython3",
   "version": "3.6.0"
  }
 },
 "nbformat": 4,
 "nbformat_minor": 2
}

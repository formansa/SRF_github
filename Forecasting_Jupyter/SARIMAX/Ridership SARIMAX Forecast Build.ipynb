{
 "cells": [
  {
   "cell_type": "markdown",
   "metadata": {},
   "source": [
    "### Citi Bike Ridership SARIMAX Forecast Build\n",
    "\n",
    "[Looker Ridership Download](https://motivate.looker.com/explore/nyc/rental_details?qid=GMjolCqGOBTtP6CGgUMina)\n",
    "\n",
    "[SARIMAX example](https://www.digitalocean.com/community/tutorials/a-guide-to-time-series-forecasting-with-arima-in-python-3)"
   ]
  },
  {
   "cell_type": "code",
   "execution_count": 3,
   "metadata": {
    "collapsed": false
   },
   "outputs": [
    {
     "name": "stderr",
     "output_type": "stream",
     "text": [
      "/Users/Sam_I_Am/anaconda/lib/python3.6/site-packages/statsmodels/compat/pandas.py:56: FutureWarning: The pandas.core.datetools module is deprecated and will be removed in a future version. Please use the pandas.tseries module instead.\n",
      "  from pandas.core import datetools\n"
     ]
    }
   ],
   "source": [
    "from statsmodels import api as smi\n",
    "from statsmodels import graphics as smg\n",
    "from statsmodels import tsa as tsa \n",
    "\n",
    "import numpy as np\n",
    "from scipy import stats as SPstats\n",
    "from time import strptime\n",
    "import pandas as pd\n",
    "import matplotlib.pyplot as plt\n",
    "import matplotlib.lines as mlines\n",
    "# import pygal as pg\n",
    "import itertools as it\n",
    "import math\n",
    "import datetime\n",
    "%matplotlib inline"
   ]
  },
  {
   "cell_type": "code",
   "execution_count": 4,
   "metadata": {
    "collapsed": false
   },
   "outputs": [
    {
     "name": "stderr",
     "output_type": "stream",
     "text": [
      "/Users/Sam_I_Am/anaconda/lib/python3.6/site-packages/ipykernel/__main__.py:19: SettingWithCopyWarning: \n",
      "A value is trying to be set on a copy of a slice from a DataFrame\n",
      "\n",
      "See the caveats in the documentation: http://pandas.pydata.org/pandas-docs/stable/indexing.html#indexing-view-versus-copy\n"
     ]
    },
    {
     "data": {
      "text/plain": [
       "(1591, 7)"
      ]
     },
     "execution_count": 4,
     "metadata": {},
     "output_type": "execute_result"
    }
   ],
   "source": [
    "rentalDat_initial = pd.read_csv('nyc rental_details 2018-05-19.csv')\n",
    "rentalDat_initial.columns = ['Date', 'RentalCount']\n",
    "\n",
    "rentalDat_initial['DoW'] = pd.to_datetime(rentalDat_initial['Date']).apply(datetime.date.weekday)\n",
    "rentalDat_initial['MoY'] = pd.to_datetime(rentalDat_initial['Date']).apply(lambda x: x.month)\n",
    "rentalDat_initial['LogRental'] = rentalDat_initial['RentalCount'].apply(math.log)\n",
    "rentalDat_initial['Lag1 LogRental'] = rentalDat_initial['LogRental'].shift()\n",
    "rentalDat_initial['Diff1 LogRental'] = rentalDat_initial['LogRental'] - rentalDat_initial['Lag1 LogRental']\n",
    "rentalDat_initial['Date'] = pd.to_datetime(rentalDat_initial['Date'])\n",
    "rentalDat_initial.sort_values('Date', inplace=True, ascending=False)\n",
    "\n",
    "\n",
    "# set cutoff for startdate below\n",
    "startDate = pd.to_datetime('2014-01-01')\n",
    "\n",
    "rentalDat = rentalDat_initial[pd.to_datetime(rentalDat_initial['Date']) >= startDate]\n",
    "rentalDat.set_index('Date', drop=False, inplace=True)\n",
    "\n",
    "rentalDat.dropna(inplace=True)\n",
    "rentalDat.shape"
   ]
  },
  {
   "cell_type": "markdown",
   "metadata": {},
   "source": [
    "#### DeSeasonalize"
   ]
  },
  {
   "cell_type": "code",
   "execution_count": 5,
   "metadata": {
    "collapsed": true
   },
   "outputs": [],
   "source": [
    "DOWavg = pd.DataFrame(rentalDat.groupby('DoW')['LogRental'].mean())\n",
    "DOWavg.columns = ['DoW avg']\n",
    "MOYavg = pd.DataFrame(rentalDat.groupby('MoY')['LogRental'].mean())\n",
    "MOYavg.columns = ['MoY avg']\n",
    "\n",
    "rentalDat = rentalDat.merge(DOWavg, how='left', left_on='DoW', right_index=True)\n",
    "rentalDat = rentalDat.merge(MOYavg, how='left', left_on='MoY', right_index=True)\n",
    "\n",
    "rentalDat['LogRental_desea'] = rentalDat['LogRental'] - rentalDat['MoY avg'] - rentalDat['DoW avg']\n",
    "rentalDat['LogRental_deseaMO'] = rentalDat['LogRental'] - rentalDat['MoY avg'] "
   ]
  },
  {
   "cell_type": "markdown",
   "metadata": {},
   "source": [
    "#### Select ARIMA (p, d, q)"
   ]
  },
  {
   "cell_type": "code",
   "execution_count": null,
   "metadata": {
    "collapsed": true
   },
   "outputs": [],
   "source": [
    "# use function below to calculate AICc for different combinations \n",
    "\n",
    "def calcAICc(observations, constant):\n",
    "    \n",
    "    trendVal = str(constant)\n",
    "    # below is for all combinations of (p,q) <= 2\n",
    "    combos = list(it.product(range(8),repeat=2))\n",
    "    result_li = []\n",
    "    \n",
    "    \n",
    "    for ea in combos: \n",
    "        ARMAaiccCalc = tsa.arima_model.ARMA(observations,order=ea) \n",
    "        # trend= indicates whether to use constant('c') or not ('nc'). \n",
    "        try:\n",
    "            ARMAaiccCalc = ARMAaiccCalc.fit(trend=trendVal)\n",
    "            logLikeli = ARMAaiccCalc.llf\n",
    "            n_obs = ARMAaiccCalc.nobs\n",
    "            #AICc calc\n",
    "            AICc =  -2*logLikeli + 2*(sum(ea) + 1)*(n_obs/(n_obs-sum(ea)-2))\n",
    "        except (ValueError, Exception): \n",
    "            AICc = 0\n",
    "            pass\n",
    "\n",
    "    \n",
    "        result_li.append([ea, AICc])\n",
    "        \n",
    "    res_DF = pd.DataFrame(result_li)\n",
    "    res_DF.columns = ['(p,q)','AICc']\n",
    "    # res_DF['Abs AICc'] = abs(res_DF['AICc'])\n",
    "    res_DF.sort_values('AICc', ascending=True, inplace=True)\n",
    "    \n",
    "    return res_DF\n",
    "        \n",
    "\n"
   ]
  },
  {
   "cell_type": "code",
   "execution_count": null,
   "metadata": {
    "collapsed": false
   },
   "outputs": [],
   "source": [
    "# run AICc both with and without constant added\n",
    "aicsNC = calcAICc(rentalDat['LogRental_deseaMO'],'nc')\n",
    "aicsC = calcAICc(rentalDat['LogRental_deseaMO'],'c')\n",
    "\n",
    "aicsNC['Constant'] = 'NC'\n",
    "aicsC['Constant'] = 'C'\n",
    "allAICC = pd.concat([aicsNC, aicsC])\n",
    "\n",
    "allAICC[allAICC['AICc'] != 0].sort_values('AICc')"
   ]
  },
  {
   "cell_type": "markdown",
   "metadata": {},
   "source": [
    "#### Fit ARMA(5,5) Model"
   ]
  },
  {
   "cell_type": "code",
   "execution_count": null,
   "metadata": {
    "collapsed": false
   },
   "outputs": [],
   "source": [
    "# fit an ARMA(5,5) model with constant. \n",
    "rentalDeSea_ARMA55 = tsa.arima_model.ARMA(rentalDat['LogRental_deseaMO'],order=(5,5))\n",
    "# trend='nc' removes constant \n",
    "rentalDeSea_ARMA55 = rentalDeSea_ARMA55.fit(trend='c')\n",
    "rentalDeSea_ARMA55.summary()"
   ]
  },
  {
   "cell_type": "markdown",
   "metadata": {},
   "source": [
    "#### Select Seasonal (P, D, Q, S)"
   ]
  },
  {
   "cell_type": "code",
   "execution_count": 6,
   "metadata": {
    "collapsed": false
   },
   "outputs": [],
   "source": [
    "p = d = q = range(0, 8)\n",
    "\n",
    "# Generate all different combinations of p, q and q triplets\n",
    "pdq = list(it.product(p, d, q))\n",
    "\n",
    "# Generate all different combinations of seasonal p, q and q triplets\n",
    "seasonal_pdq = [(x[0], x[1], x[2], 7) for x in list(it.product(p, d, q))]"
   ]
  },
  {
   "cell_type": "code",
   "execution_count": null,
   "metadata": {
    "collapsed": false
   },
   "outputs": [],
   "source": [
    "pdqTest = seasonal_pdq[5]\n",
    "(pdqTest[0] + pdqTest[3] )"
   ]
  },
  {
   "cell_type": "code",
   "execution_count": 7,
   "metadata": {
    "collapsed": false
   },
   "outputs": [],
   "source": [
    "# use function below to calculate AICc for different Seasonal PDQS combinations \n",
    "\n",
    "def calcSARIMA_AICc(observations, seasonalPeriod):\n",
    "    \n",
    "    s = int(seasonalPeriod)\n",
    "    nonSeasonalOrd = (5,0,5)\n",
    "    p = d = q = range(0, 3)\n",
    "\n",
    "    # Generate all different combinations of p, q and q triplets\n",
    "    pdq = list(it.product(p, d, q))\n",
    "\n",
    "    # Generate all different combinations of seasonal p, q and q triplets\n",
    "    seasonal_pdq = [(x[0], x[1], x[2], s) for x in list(it.product(p, d, q))]\n",
    "    \n",
    "\n",
    "    result_li = []\n",
    "    \n",
    "    \n",
    "    for ea in seasonal_pdq: \n",
    "        SARMAaiccCalc = tsa.statespace.sarimax.SARIMAX(observations, \n",
    "                                                       order=nonSeasonalOrd, \n",
    "                                                      seasonal_order=(ea[0],ea[1],ea[2],ea[3]), \n",
    "                                                      enforce_stationarity=False, \n",
    "                                                      enforce_invertibility=False)\n",
    "\n",
    "        try:\n",
    "            SARMAaiccCalc = SARMAaiccCalc.fit()\n",
    "            logLikeli = SARMAaiccCalc.llf\n",
    "            n_obs = SARMAaiccCalc.nobs\n",
    "            #AICc calc\n",
    "            AICc =  n_obs*logLikeli + 2*(nonSeasonalOrd[0] + nonSeasonalOrd[2] + ea[0] + ea[2] + 1)*(n_obs/(n_obs - nonSeasonalOrd[0] - nonSeasonalOrd[2] - ea[0] - ea[2] - 2))\n",
    "        except (ValueError, Exception): \n",
    "            AICc = 0\n",
    "            pass\n",
    "\n",
    "    \n",
    "        result_li.append([ea, AICc])\n",
    "        \n",
    "    res_DF = pd.DataFrame(result_li)\n",
    "    res_DF.columns = ['(P,D,Q,S)','AICc']\n",
    "    # res_DF['Abs AICc'] = abs(res_DF['AICc'])\n",
    "    res_DF.sort_values('AICc', ascending=True, inplace=True)\n",
    "    \n",
    "    return res_DF\n",
    "        \n",
    "\n",
    "\n"
   ]
  },
  {
   "cell_type": "code",
   "execution_count": 8,
   "metadata": {
    "collapsed": false
   },
   "outputs": [
    {
     "name": "stderr",
     "output_type": "stream",
     "text": [
      "/Users/Sam_I_Am/anaconda/lib/python3.6/site-packages/statsmodels/base/model.py:496: ConvergenceWarning: Maximum Likelihood optimization failed to converge. Check mle_retvals\n",
      "  \"Check mle_retvals\", ConvergenceWarning)\n",
      "/Users/Sam_I_Am/anaconda/lib/python3.6/site-packages/statsmodels/base/model.py:496: ConvergenceWarning: Maximum Likelihood optimization failed to converge. Check mle_retvals\n",
      "  \"Check mle_retvals\", ConvergenceWarning)\n",
      "/Users/Sam_I_Am/anaconda/lib/python3.6/site-packages/statsmodels/base/model.py:496: ConvergenceWarning: Maximum Likelihood optimization failed to converge. Check mle_retvals\n",
      "  \"Check mle_retvals\", ConvergenceWarning)\n",
      "/Users/Sam_I_Am/anaconda/lib/python3.6/site-packages/statsmodels/base/model.py:496: ConvergenceWarning: Maximum Likelihood optimization failed to converge. Check mle_retvals\n",
      "  \"Check mle_retvals\", ConvergenceWarning)\n",
      "/Users/Sam_I_Am/anaconda/lib/python3.6/site-packages/statsmodels/base/model.py:496: ConvergenceWarning: Maximum Likelihood optimization failed to converge. Check mle_retvals\n",
      "  \"Check mle_retvals\", ConvergenceWarning)\n",
      "/Users/Sam_I_Am/anaconda/lib/python3.6/site-packages/statsmodels/base/model.py:496: ConvergenceWarning: Maximum Likelihood optimization failed to converge. Check mle_retvals\n",
      "  \"Check mle_retvals\", ConvergenceWarning)\n",
      "/Users/Sam_I_Am/anaconda/lib/python3.6/site-packages/statsmodels/base/model.py:496: ConvergenceWarning: Maximum Likelihood optimization failed to converge. Check mle_retvals\n",
      "  \"Check mle_retvals\", ConvergenceWarning)\n",
      "/Users/Sam_I_Am/anaconda/lib/python3.6/site-packages/statsmodels/base/model.py:496: ConvergenceWarning: Maximum Likelihood optimization failed to converge. Check mle_retvals\n",
      "  \"Check mle_retvals\", ConvergenceWarning)\n",
      "/Users/Sam_I_Am/anaconda/lib/python3.6/site-packages/statsmodels/base/model.py:496: ConvergenceWarning: Maximum Likelihood optimization failed to converge. Check mle_retvals\n",
      "  \"Check mle_retvals\", ConvergenceWarning)\n",
      "/Users/Sam_I_Am/anaconda/lib/python3.6/site-packages/statsmodels/base/model.py:496: ConvergenceWarning: Maximum Likelihood optimization failed to converge. Check mle_retvals\n",
      "  \"Check mle_retvals\", ConvergenceWarning)\n",
      "/Users/Sam_I_Am/anaconda/lib/python3.6/site-packages/statsmodels/base/model.py:496: ConvergenceWarning: Maximum Likelihood optimization failed to converge. Check mle_retvals\n",
      "  \"Check mle_retvals\", ConvergenceWarning)\n",
      "/Users/Sam_I_Am/anaconda/lib/python3.6/site-packages/statsmodels/base/model.py:496: ConvergenceWarning: Maximum Likelihood optimization failed to converge. Check mle_retvals\n",
      "  \"Check mle_retvals\", ConvergenceWarning)\n",
      "/Users/Sam_I_Am/anaconda/lib/python3.6/site-packages/statsmodels/base/model.py:496: ConvergenceWarning: Maximum Likelihood optimization failed to converge. Check mle_retvals\n",
      "  \"Check mle_retvals\", ConvergenceWarning)\n",
      "/Users/Sam_I_Am/anaconda/lib/python3.6/site-packages/statsmodels/base/model.py:496: ConvergenceWarning: Maximum Likelihood optimization failed to converge. Check mle_retvals\n",
      "  \"Check mle_retvals\", ConvergenceWarning)\n",
      "/Users/Sam_I_Am/anaconda/lib/python3.6/site-packages/statsmodels/base/model.py:496: ConvergenceWarning: Maximum Likelihood optimization failed to converge. Check mle_retvals\n",
      "  \"Check mle_retvals\", ConvergenceWarning)\n",
      "/Users/Sam_I_Am/anaconda/lib/python3.6/site-packages/statsmodels/base/model.py:496: ConvergenceWarning: Maximum Likelihood optimization failed to converge. Check mle_retvals\n",
      "  \"Check mle_retvals\", ConvergenceWarning)\n",
      "/Users/Sam_I_Am/anaconda/lib/python3.6/site-packages/statsmodels/base/model.py:496: ConvergenceWarning: Maximum Likelihood optimization failed to converge. Check mle_retvals\n",
      "  \"Check mle_retvals\", ConvergenceWarning)\n",
      "/Users/Sam_I_Am/anaconda/lib/python3.6/site-packages/statsmodels/base/model.py:496: ConvergenceWarning: Maximum Likelihood optimization failed to converge. Check mle_retvals\n",
      "  \"Check mle_retvals\", ConvergenceWarning)\n",
      "/Users/Sam_I_Am/anaconda/lib/python3.6/site-packages/statsmodels/base/model.py:496: ConvergenceWarning: Maximum Likelihood optimization failed to converge. Check mle_retvals\n",
      "  \"Check mle_retvals\", ConvergenceWarning)\n",
      "/Users/Sam_I_Am/anaconda/lib/python3.6/site-packages/statsmodels/base/model.py:496: ConvergenceWarning: Maximum Likelihood optimization failed to converge. Check mle_retvals\n",
      "  \"Check mle_retvals\", ConvergenceWarning)\n",
      "/Users/Sam_I_Am/anaconda/lib/python3.6/site-packages/statsmodels/base/model.py:496: ConvergenceWarning: Maximum Likelihood optimization failed to converge. Check mle_retvals\n",
      "  \"Check mle_retvals\", ConvergenceWarning)\n",
      "/Users/Sam_I_Am/anaconda/lib/python3.6/site-packages/statsmodels/base/model.py:496: ConvergenceWarning: Maximum Likelihood optimization failed to converge. Check mle_retvals\n",
      "  \"Check mle_retvals\", ConvergenceWarning)\n",
      "/Users/Sam_I_Am/anaconda/lib/python3.6/site-packages/statsmodels/base/model.py:496: ConvergenceWarning: Maximum Likelihood optimization failed to converge. Check mle_retvals\n",
      "  \"Check mle_retvals\", ConvergenceWarning)\n",
      "/Users/Sam_I_Am/anaconda/lib/python3.6/site-packages/statsmodels/base/model.py:496: ConvergenceWarning: Maximum Likelihood optimization failed to converge. Check mle_retvals\n",
      "  \"Check mle_retvals\", ConvergenceWarning)\n",
      "/Users/Sam_I_Am/anaconda/lib/python3.6/site-packages/statsmodels/base/model.py:496: ConvergenceWarning: Maximum Likelihood optimization failed to converge. Check mle_retvals\n",
      "  \"Check mle_retvals\", ConvergenceWarning)\n"
     ]
    },
    {
     "data": {
      "text/html": [
       "<div>\n",
       "<style scoped>\n",
       "    .dataframe tbody tr th:only-of-type {\n",
       "        vertical-align: middle;\n",
       "    }\n",
       "\n",
       "    .dataframe tbody tr th {\n",
       "        vertical-align: top;\n",
       "    }\n",
       "\n",
       "    .dataframe thead th {\n",
       "        text-align: right;\n",
       "    }\n",
       "</style>\n",
       "<table border=\"1\" class=\"dataframe\">\n",
       "  <thead>\n",
       "    <tr style=\"text-align: right;\">\n",
       "      <th></th>\n",
       "      <th>(P,D,Q,S)</th>\n",
       "      <th>AICc</th>\n",
       "    </tr>\n",
       "  </thead>\n",
       "  <tbody>\n",
       "    <tr>\n",
       "      <th>6</th>\n",
       "      <td>(0, 2, 0, 7)</td>\n",
       "      <td>-2.410155e+06</td>\n",
       "    </tr>\n",
       "    <tr>\n",
       "      <th>15</th>\n",
       "      <td>(1, 2, 0, 7)</td>\n",
       "      <td>-1.952924e+06</td>\n",
       "    </tr>\n",
       "    <tr>\n",
       "      <th>24</th>\n",
       "      <td>(2, 2, 0, 7)</td>\n",
       "      <td>-1.759628e+06</td>\n",
       "    </tr>\n",
       "    <tr>\n",
       "      <th>7</th>\n",
       "      <td>(0, 2, 1, 7)</td>\n",
       "      <td>-1.429248e+06</td>\n",
       "    </tr>\n",
       "    <tr>\n",
       "      <th>16</th>\n",
       "      <td>(1, 2, 1, 7)</td>\n",
       "      <td>-1.404336e+06</td>\n",
       "    </tr>\n",
       "    <tr>\n",
       "      <th>3</th>\n",
       "      <td>(0, 1, 0, 7)</td>\n",
       "      <td>-1.392690e+06</td>\n",
       "    </tr>\n",
       "    <tr>\n",
       "      <th>25</th>\n",
       "      <td>(2, 2, 1, 7)</td>\n",
       "      <td>-1.343037e+06</td>\n",
       "    </tr>\n",
       "    <tr>\n",
       "      <th>12</th>\n",
       "      <td>(1, 1, 0, 7)</td>\n",
       "      <td>-1.310801e+06</td>\n",
       "    </tr>\n",
       "    <tr>\n",
       "      <th>21</th>\n",
       "      <td>(2, 1, 0, 7)</td>\n",
       "      <td>-1.300219e+06</td>\n",
       "    </tr>\n",
       "    <tr>\n",
       "      <th>0</th>\n",
       "      <td>(0, 0, 0, 7)</td>\n",
       "      <td>-1.131378e+06</td>\n",
       "    </tr>\n",
       "    <tr>\n",
       "      <th>26</th>\n",
       "      <td>(2, 2, 2, 7)</td>\n",
       "      <td>-1.122015e+06</td>\n",
       "    </tr>\n",
       "    <tr>\n",
       "      <th>17</th>\n",
       "      <td>(1, 2, 2, 7)</td>\n",
       "      <td>-1.118040e+06</td>\n",
       "    </tr>\n",
       "    <tr>\n",
       "      <th>1</th>\n",
       "      <td>(0, 0, 1, 7)</td>\n",
       "      <td>-1.117900e+06</td>\n",
       "    </tr>\n",
       "    <tr>\n",
       "      <th>9</th>\n",
       "      <td>(1, 0, 0, 7)</td>\n",
       "      <td>-1.115288e+06</td>\n",
       "    </tr>\n",
       "    <tr>\n",
       "      <th>8</th>\n",
       "      <td>(0, 2, 2, 7)</td>\n",
       "      <td>-1.112533e+06</td>\n",
       "    </tr>\n",
       "    <tr>\n",
       "      <th>2</th>\n",
       "      <td>(0, 0, 2, 7)</td>\n",
       "      <td>-1.107444e+06</td>\n",
       "    </tr>\n",
       "    <tr>\n",
       "      <th>18</th>\n",
       "      <td>(2, 0, 0, 7)</td>\n",
       "      <td>-1.103350e+06</td>\n",
       "    </tr>\n",
       "    <tr>\n",
       "      <th>13</th>\n",
       "      <td>(1, 1, 1, 7)</td>\n",
       "      <td>-1.075285e+06</td>\n",
       "    </tr>\n",
       "    <tr>\n",
       "      <th>4</th>\n",
       "      <td>(0, 1, 1, 7)</td>\n",
       "      <td>-1.072429e+06</td>\n",
       "    </tr>\n",
       "    <tr>\n",
       "      <th>22</th>\n",
       "      <td>(2, 1, 1, 7)</td>\n",
       "      <td>-1.071569e+06</td>\n",
       "    </tr>\n",
       "    <tr>\n",
       "      <th>5</th>\n",
       "      <td>(0, 1, 2, 7)</td>\n",
       "      <td>-1.070043e+06</td>\n",
       "    </tr>\n",
       "    <tr>\n",
       "      <th>23</th>\n",
       "      <td>(2, 1, 2, 7)</td>\n",
       "      <td>-1.069093e+06</td>\n",
       "    </tr>\n",
       "    <tr>\n",
       "      <th>10</th>\n",
       "      <td>(1, 0, 1, 7)</td>\n",
       "      <td>-1.068290e+06</td>\n",
       "    </tr>\n",
       "    <tr>\n",
       "      <th>14</th>\n",
       "      <td>(1, 1, 2, 7)</td>\n",
       "      <td>-1.067709e+06</td>\n",
       "    </tr>\n",
       "    <tr>\n",
       "      <th>11</th>\n",
       "      <td>(1, 0, 2, 7)</td>\n",
       "      <td>-1.066481e+06</td>\n",
       "    </tr>\n",
       "    <tr>\n",
       "      <th>19</th>\n",
       "      <td>(2, 0, 1, 7)</td>\n",
       "      <td>-1.065956e+06</td>\n",
       "    </tr>\n",
       "    <tr>\n",
       "      <th>20</th>\n",
       "      <td>(2, 0, 2, 7)</td>\n",
       "      <td>-1.063981e+06</td>\n",
       "    </tr>\n",
       "  </tbody>\n",
       "</table>\n",
       "</div>"
      ],
      "text/plain": [
       "       (P,D,Q,S)          AICc\n",
       "6   (0, 2, 0, 7) -2.410155e+06\n",
       "15  (1, 2, 0, 7) -1.952924e+06\n",
       "24  (2, 2, 0, 7) -1.759628e+06\n",
       "7   (0, 2, 1, 7) -1.429248e+06\n",
       "16  (1, 2, 1, 7) -1.404336e+06\n",
       "3   (0, 1, 0, 7) -1.392690e+06\n",
       "25  (2, 2, 1, 7) -1.343037e+06\n",
       "12  (1, 1, 0, 7) -1.310801e+06\n",
       "21  (2, 1, 0, 7) -1.300219e+06\n",
       "0   (0, 0, 0, 7) -1.131378e+06\n",
       "26  (2, 2, 2, 7) -1.122015e+06\n",
       "17  (1, 2, 2, 7) -1.118040e+06\n",
       "1   (0, 0, 1, 7) -1.117900e+06\n",
       "9   (1, 0, 0, 7) -1.115288e+06\n",
       "8   (0, 2, 2, 7) -1.112533e+06\n",
       "2   (0, 0, 2, 7) -1.107444e+06\n",
       "18  (2, 0, 0, 7) -1.103350e+06\n",
       "13  (1, 1, 1, 7) -1.075285e+06\n",
       "4   (0, 1, 1, 7) -1.072429e+06\n",
       "22  (2, 1, 1, 7) -1.071569e+06\n",
       "5   (0, 1, 2, 7) -1.070043e+06\n",
       "23  (2, 1, 2, 7) -1.069093e+06\n",
       "10  (1, 0, 1, 7) -1.068290e+06\n",
       "14  (1, 1, 2, 7) -1.067709e+06\n",
       "11  (1, 0, 2, 7) -1.066481e+06\n",
       "19  (2, 0, 1, 7) -1.065956e+06\n",
       "20  (2, 0, 2, 7) -1.063981e+06"
      ]
     },
     "execution_count": 8,
     "metadata": {},
     "output_type": "execute_result"
    }
   ],
   "source": [
    "calcSARIMA_AICc(rentalDat['LogRental_deseaMO'], 7)"
   ]
  },
  {
   "cell_type": "code",
   "execution_count": null,
   "metadata": {
    "collapsed": false
   },
   "outputs": [],
   "source": [
    "SARMAaiccCalc = tsa.statespace.sarimax.SARIMAX(rentalDat['LogRental_deseaMO'], order=(5,0,5), \n",
    "                                                      seasonal_order=(pdqTest[0],pdqTest[1],pdqTest[2],pdqTest[3]), \n",
    "                                                      enforce_stationarity=False, \n",
    "                                                      enforce_invertibility=False)\n",
    "SARMAaiccCalc = SARMAaiccCalc.fit()\n",
    "logLikeli = SARMAaiccCalc.llf\n",
    "n_obs = SARMAaiccCalc.nobs\n",
    "#AICc calc\n",
    "AICc =  -2*logLikeli + 2*(sum(ea) + 1)*(n_obs/(n_obs-sum(ea)-2))"
   ]
  },
  {
   "cell_type": "code",
   "execution_count": null,
   "metadata": {
    "collapsed": false
   },
   "outputs": [],
   "source": [
    "AICc"
   ]
  },
  {
   "cell_type": "code",
   "execution_count": null,
   "metadata": {
    "collapsed": true
   },
   "outputs": [],
   "source": []
  }
 ],
 "metadata": {
  "kernelspec": {
   "display_name": "Python 3",
   "language": "python",
   "name": "python3"
  },
  "language_info": {
   "codemirror_mode": {
    "name": "ipython",
    "version": 3
   },
   "file_extension": ".py",
   "mimetype": "text/x-python",
   "name": "python",
   "nbconvert_exporter": "python",
   "pygments_lexer": "ipython3",
   "version": "3.6.0"
  }
 },
 "nbformat": 4,
 "nbformat_minor": 2
}

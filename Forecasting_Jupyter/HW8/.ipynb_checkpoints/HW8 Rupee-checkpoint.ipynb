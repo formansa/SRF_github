{
 "cells": [
  {
   "cell_type": "markdown",
   "metadata": {},
   "source": [
    "[ARCH Documentation](https://media.readthedocs.org/pdf/arch/stable/arch.pdf)\n",
    "\n",
    "[ARCH Docs web](http://arch.readthedocs.io/en/latest/univariate/univariate_volatility_modeling.html#volatility-processes)\n",
    "\n",
    "[ARCH Forecasting](http://arch.readthedocs.io/en/latest/univariate/univariate_volatility_forecasting.html)"
   ]
  },
  {
   "cell_type": "code",
   "execution_count": 1,
   "metadata": {
    "collapsed": false
   },
   "outputs": [
    {
     "name": "stderr",
     "output_type": "stream",
     "text": [
      "/Users/Sam_I_Am/anaconda/lib/python3.6/site-packages/statsmodels/compat/pandas.py:56: FutureWarning: The pandas.core.datetools module is deprecated and will be removed in a future version. Please use the pandas.tseries module instead.\n",
      "  from pandas.core import datetools\n"
     ]
    }
   ],
   "source": [
    "import pandas as pd\n",
    "import statsmodels as sm\n",
    "from statsmodels import api as smi\n",
    "from statsmodels import graphics as smg\n",
    "from statsmodels import tsa as tsa \n",
    "import matplotlib.pyplot as plt\n",
    "import matplotlib.lines as mlines\n",
    "import math\n",
    "import itertools as it\n",
    "from arch import arch_model\n",
    "from arch.univariate import ARCH\n",
    "from arch.univariate import GARCH\n",
    "\n",
    "%matplotlib inline"
   ]
  },
  {
   "cell_type": "code",
   "execution_count": 2,
   "metadata": {
    "collapsed": true
   },
   "outputs": [],
   "source": [
    "import warnings\n",
    "#warnings.simplefilter('ignore')\n",
    "#warnings.filterwarnings('error')"
   ]
  },
  {
   "cell_type": "code",
   "execution_count": 3,
   "metadata": {
    "collapsed": true
   },
   "outputs": [],
   "source": [
    "rupeeInitial = pd.read_csv('Rupee.csv')\n",
    "rupeeInitial['LogRup'] = rupeeInitial['Rupee'].apply(math.log)\n",
    "rupeeInitial['LagLogRup'] = rupeeInitial['LogRup'] - rupeeInitial['LogRup'].shift()\n",
    "rupeeInitial['Lag2LogRup'] = rupeeInitial['LagLogRup'] - rupeeInitial['LagLogRup'].shift()\n",
    "rupeeInitial.set_index('Date', drop=False, inplace=True)\n"
   ]
  },
  {
   "cell_type": "code",
   "execution_count": 4,
   "metadata": {
    "collapsed": false
   },
   "outputs": [
    {
     "data": {
      "text/html": [
       "<div>\n",
       "<style scoped>\n",
       "    .dataframe tbody tr th:only-of-type {\n",
       "        vertical-align: middle;\n",
       "    }\n",
       "\n",
       "    .dataframe tbody tr th {\n",
       "        vertical-align: top;\n",
       "    }\n",
       "\n",
       "    .dataframe thead th {\n",
       "        text-align: right;\n",
       "    }\n",
       "</style>\n",
       "<table border=\"1\" class=\"dataframe\">\n",
       "  <thead>\n",
       "    <tr style=\"text-align: right;\">\n",
       "      <th></th>\n",
       "      <th>Date</th>\n",
       "      <th>Rupee</th>\n",
       "      <th>LogRup</th>\n",
       "      <th>LagLogRup</th>\n",
       "      <th>Lag2LogRup</th>\n",
       "    </tr>\n",
       "    <tr>\n",
       "      <th>Date</th>\n",
       "      <th></th>\n",
       "      <th></th>\n",
       "      <th></th>\n",
       "      <th></th>\n",
       "      <th></th>\n",
       "    </tr>\n",
       "  </thead>\n",
       "  <tbody>\n",
       "    <tr>\n",
       "      <th>11/4/2011</th>\n",
       "      <td>11/4/2011</td>\n",
       "      <td>48.99</td>\n",
       "      <td>3.891616</td>\n",
       "      <td>NaN</td>\n",
       "      <td>NaN</td>\n",
       "    </tr>\n",
       "    <tr>\n",
       "      <th>11/7/2011</th>\n",
       "      <td>11/7/2011</td>\n",
       "      <td>48.94</td>\n",
       "      <td>3.890595</td>\n",
       "      <td>-0.001021</td>\n",
       "      <td>NaN</td>\n",
       "    </tr>\n",
       "    <tr>\n",
       "      <th>11/8/2011</th>\n",
       "      <td>11/8/2011</td>\n",
       "      <td>49.39</td>\n",
       "      <td>3.899748</td>\n",
       "      <td>0.009153</td>\n",
       "      <td>0.010174</td>\n",
       "    </tr>\n",
       "    <tr>\n",
       "      <th>11/9/2011</th>\n",
       "      <td>11/9/2011</td>\n",
       "      <td>50.05</td>\n",
       "      <td>3.913023</td>\n",
       "      <td>0.013275</td>\n",
       "      <td>0.004122</td>\n",
       "    </tr>\n",
       "    <tr>\n",
       "      <th>11/10/2011</th>\n",
       "      <td>11/10/2011</td>\n",
       "      <td>49.98</td>\n",
       "      <td>3.911623</td>\n",
       "      <td>-0.001400</td>\n",
       "      <td>-0.014674</td>\n",
       "    </tr>\n",
       "    <tr>\n",
       "      <th>11/14/2011</th>\n",
       "      <td>11/14/2011</td>\n",
       "      <td>50.37</td>\n",
       "      <td>3.919396</td>\n",
       "      <td>0.007773</td>\n",
       "      <td>0.009172</td>\n",
       "    </tr>\n",
       "    <tr>\n",
       "      <th>11/15/2011</th>\n",
       "      <td>11/15/2011</td>\n",
       "      <td>50.62</td>\n",
       "      <td>3.924347</td>\n",
       "      <td>0.004951</td>\n",
       "      <td>-0.002822</td>\n",
       "    </tr>\n",
       "    <tr>\n",
       "      <th>11/16/2011</th>\n",
       "      <td>11/16/2011</td>\n",
       "      <td>50.66</td>\n",
       "      <td>3.925137</td>\n",
       "      <td>0.000790</td>\n",
       "      <td>-0.004161</td>\n",
       "    </tr>\n",
       "    <tr>\n",
       "      <th>11/17/2011</th>\n",
       "      <td>11/17/2011</td>\n",
       "      <td>50.95</td>\n",
       "      <td>3.930845</td>\n",
       "      <td>0.005708</td>\n",
       "      <td>0.004918</td>\n",
       "    </tr>\n",
       "    <tr>\n",
       "      <th>11/18/2011</th>\n",
       "      <td>11/18/2011</td>\n",
       "      <td>51.23</td>\n",
       "      <td>3.936325</td>\n",
       "      <td>0.005481</td>\n",
       "      <td>-0.000228</td>\n",
       "    </tr>\n",
       "    <tr>\n",
       "      <th>11/21/2011</th>\n",
       "      <td>11/21/2011</td>\n",
       "      <td>52.06</td>\n",
       "      <td>3.952397</td>\n",
       "      <td>0.016072</td>\n",
       "      <td>0.010591</td>\n",
       "    </tr>\n",
       "    <tr>\n",
       "      <th>11/22/2011</th>\n",
       "      <td>11/22/2011</td>\n",
       "      <td>52.48</td>\n",
       "      <td>3.960432</td>\n",
       "      <td>0.008035</td>\n",
       "      <td>-0.008036</td>\n",
       "    </tr>\n",
       "    <tr>\n",
       "      <th>11/23/2011</th>\n",
       "      <td>11/23/2011</td>\n",
       "      <td>52.26</td>\n",
       "      <td>3.956231</td>\n",
       "      <td>-0.004201</td>\n",
       "      <td>-0.012236</td>\n",
       "    </tr>\n",
       "    <tr>\n",
       "      <th>11/25/2011</th>\n",
       "      <td>11/25/2011</td>\n",
       "      <td>52.23</td>\n",
       "      <td>3.955657</td>\n",
       "      <td>-0.000574</td>\n",
       "      <td>0.003627</td>\n",
       "    </tr>\n",
       "    <tr>\n",
       "      <th>11/28/2011</th>\n",
       "      <td>11/28/2011</td>\n",
       "      <td>51.94</td>\n",
       "      <td>3.950089</td>\n",
       "      <td>-0.005568</td>\n",
       "      <td>-0.004994</td>\n",
       "    </tr>\n",
       "    <tr>\n",
       "      <th>11/29/2011</th>\n",
       "      <td>11/29/2011</td>\n",
       "      <td>51.90</td>\n",
       "      <td>3.949319</td>\n",
       "      <td>-0.000770</td>\n",
       "      <td>0.004797</td>\n",
       "    </tr>\n",
       "    <tr>\n",
       "      <th>11/30/2011</th>\n",
       "      <td>11/30/2011</td>\n",
       "      <td>52.12</td>\n",
       "      <td>3.953549</td>\n",
       "      <td>0.004230</td>\n",
       "      <td>0.005000</td>\n",
       "    </tr>\n",
       "    <tr>\n",
       "      <th>12/1/2011</th>\n",
       "      <td>12/1/2011</td>\n",
       "      <td>51.36</td>\n",
       "      <td>3.938860</td>\n",
       "      <td>-0.014689</td>\n",
       "      <td>-0.018919</td>\n",
       "    </tr>\n",
       "    <tr>\n",
       "      <th>12/2/2011</th>\n",
       "      <td>12/2/2011</td>\n",
       "      <td>50.50</td>\n",
       "      <td>3.921973</td>\n",
       "      <td>-0.016886</td>\n",
       "      <td>-0.002197</td>\n",
       "    </tr>\n",
       "    <tr>\n",
       "      <th>12/5/2011</th>\n",
       "      <td>12/5/2011</td>\n",
       "      <td>51.31</td>\n",
       "      <td>3.937886</td>\n",
       "      <td>0.015912</td>\n",
       "      <td>0.032799</td>\n",
       "    </tr>\n",
       "    <tr>\n",
       "      <th>12/6/2011</th>\n",
       "      <td>12/6/2011</td>\n",
       "      <td>51.23</td>\n",
       "      <td>3.936325</td>\n",
       "      <td>-0.001560</td>\n",
       "      <td>-0.017473</td>\n",
       "    </tr>\n",
       "    <tr>\n",
       "      <th>12/7/2011</th>\n",
       "      <td>12/7/2011</td>\n",
       "      <td>51.62</td>\n",
       "      <td>3.943909</td>\n",
       "      <td>0.007584</td>\n",
       "      <td>0.009144</td>\n",
       "    </tr>\n",
       "    <tr>\n",
       "      <th>12/8/2011</th>\n",
       "      <td>12/8/2011</td>\n",
       "      <td>51.70</td>\n",
       "      <td>3.945458</td>\n",
       "      <td>0.001549</td>\n",
       "      <td>-0.006035</td>\n",
       "    </tr>\n",
       "    <tr>\n",
       "      <th>12/9/2011</th>\n",
       "      <td>12/9/2011</td>\n",
       "      <td>51.87</td>\n",
       "      <td>3.948741</td>\n",
       "      <td>0.003283</td>\n",
       "      <td>0.001734</td>\n",
       "    </tr>\n",
       "    <tr>\n",
       "      <th>12/12/2011</th>\n",
       "      <td>12/12/2011</td>\n",
       "      <td>52.60</td>\n",
       "      <td>3.962716</td>\n",
       "      <td>0.013976</td>\n",
       "      <td>0.010693</td>\n",
       "    </tr>\n",
       "    <tr>\n",
       "      <th>12/13/2011</th>\n",
       "      <td>12/13/2011</td>\n",
       "      <td>53.09</td>\n",
       "      <td>3.971989</td>\n",
       "      <td>0.009272</td>\n",
       "      <td>-0.004703</td>\n",
       "    </tr>\n",
       "    <tr>\n",
       "      <th>12/14/2011</th>\n",
       "      <td>12/14/2011</td>\n",
       "      <td>53.71</td>\n",
       "      <td>3.983599</td>\n",
       "      <td>0.011611</td>\n",
       "      <td>0.002338</td>\n",
       "    </tr>\n",
       "    <tr>\n",
       "      <th>12/15/2011</th>\n",
       "      <td>12/15/2011</td>\n",
       "      <td>53.55</td>\n",
       "      <td>3.980616</td>\n",
       "      <td>-0.002983</td>\n",
       "      <td>-0.014594</td>\n",
       "    </tr>\n",
       "    <tr>\n",
       "      <th>12/16/2011</th>\n",
       "      <td>12/16/2011</td>\n",
       "      <td>52.49</td>\n",
       "      <td>3.960623</td>\n",
       "      <td>-0.019993</td>\n",
       "      <td>-0.017010</td>\n",
       "    </tr>\n",
       "    <tr>\n",
       "      <th>12/19/2011</th>\n",
       "      <td>12/19/2011</td>\n",
       "      <td>52.69</td>\n",
       "      <td>3.964426</td>\n",
       "      <td>0.003803</td>\n",
       "      <td>0.023796</td>\n",
       "    </tr>\n",
       "    <tr>\n",
       "      <th>...</th>\n",
       "      <td>...</td>\n",
       "      <td>...</td>\n",
       "      <td>...</td>\n",
       "      <td>...</td>\n",
       "      <td>...</td>\n",
       "    </tr>\n",
       "    <tr>\n",
       "      <th>9/29/2016</th>\n",
       "      <td>9/29/2016</td>\n",
       "      <td>66.72</td>\n",
       "      <td>4.200505</td>\n",
       "      <td>0.003303</td>\n",
       "      <td>0.003303</td>\n",
       "    </tr>\n",
       "    <tr>\n",
       "      <th>9/30/2016</th>\n",
       "      <td>9/30/2016</td>\n",
       "      <td>66.58</td>\n",
       "      <td>4.198404</td>\n",
       "      <td>-0.002101</td>\n",
       "      <td>-0.005403</td>\n",
       "    </tr>\n",
       "    <tr>\n",
       "      <th>10/3/2016</th>\n",
       "      <td>10/3/2016</td>\n",
       "      <td>66.52</td>\n",
       "      <td>4.197503</td>\n",
       "      <td>-0.000902</td>\n",
       "      <td>0.001199</td>\n",
       "    </tr>\n",
       "    <tr>\n",
       "      <th>10/4/2016</th>\n",
       "      <td>10/4/2016</td>\n",
       "      <td>66.49</td>\n",
       "      <td>4.197052</td>\n",
       "      <td>-0.000451</td>\n",
       "      <td>0.000450</td>\n",
       "    </tr>\n",
       "    <tr>\n",
       "      <th>10/5/2016</th>\n",
       "      <td>10/5/2016</td>\n",
       "      <td>66.53</td>\n",
       "      <td>4.197653</td>\n",
       "      <td>0.000601</td>\n",
       "      <td>0.001053</td>\n",
       "    </tr>\n",
       "    <tr>\n",
       "      <th>10/6/2016</th>\n",
       "      <td>10/6/2016</td>\n",
       "      <td>66.70</td>\n",
       "      <td>4.200205</td>\n",
       "      <td>0.002552</td>\n",
       "      <td>0.001951</td>\n",
       "    </tr>\n",
       "    <tr>\n",
       "      <th>10/7/2016</th>\n",
       "      <td>10/7/2016</td>\n",
       "      <td>66.61</td>\n",
       "      <td>4.198855</td>\n",
       "      <td>-0.001350</td>\n",
       "      <td>-0.003902</td>\n",
       "    </tr>\n",
       "    <tr>\n",
       "      <th>10/11/2016</th>\n",
       "      <td>10/11/2016</td>\n",
       "      <td>66.81</td>\n",
       "      <td>4.201853</td>\n",
       "      <td>0.002998</td>\n",
       "      <td>0.004348</td>\n",
       "    </tr>\n",
       "    <tr>\n",
       "      <th>10/12/2016</th>\n",
       "      <td>10/12/2016</td>\n",
       "      <td>66.85</td>\n",
       "      <td>4.202451</td>\n",
       "      <td>0.000599</td>\n",
       "      <td>-0.002400</td>\n",
       "    </tr>\n",
       "    <tr>\n",
       "      <th>10/13/2016</th>\n",
       "      <td>10/13/2016</td>\n",
       "      <td>66.84</td>\n",
       "      <td>4.202302</td>\n",
       "      <td>-0.000150</td>\n",
       "      <td>-0.000748</td>\n",
       "    </tr>\n",
       "    <tr>\n",
       "      <th>10/14/2016</th>\n",
       "      <td>10/14/2016</td>\n",
       "      <td>66.69</td>\n",
       "      <td>4.200055</td>\n",
       "      <td>-0.002247</td>\n",
       "      <td>-0.002097</td>\n",
       "    </tr>\n",
       "    <tr>\n",
       "      <th>10/17/2016</th>\n",
       "      <td>10/17/2016</td>\n",
       "      <td>66.80</td>\n",
       "      <td>4.201703</td>\n",
       "      <td>0.001648</td>\n",
       "      <td>0.003895</td>\n",
       "    </tr>\n",
       "    <tr>\n",
       "      <th>10/18/2016</th>\n",
       "      <td>10/18/2016</td>\n",
       "      <td>66.71</td>\n",
       "      <td>4.200355</td>\n",
       "      <td>-0.001348</td>\n",
       "      <td>-0.002996</td>\n",
       "    </tr>\n",
       "    <tr>\n",
       "      <th>10/19/2016</th>\n",
       "      <td>10/19/2016</td>\n",
       "      <td>66.64</td>\n",
       "      <td>4.199305</td>\n",
       "      <td>-0.001050</td>\n",
       "      <td>0.000298</td>\n",
       "    </tr>\n",
       "    <tr>\n",
       "      <th>10/20/2016</th>\n",
       "      <td>10/20/2016</td>\n",
       "      <td>66.83</td>\n",
       "      <td>4.202152</td>\n",
       "      <td>0.002847</td>\n",
       "      <td>0.003897</td>\n",
       "    </tr>\n",
       "    <tr>\n",
       "      <th>10/21/2016</th>\n",
       "      <td>10/21/2016</td>\n",
       "      <td>66.94</td>\n",
       "      <td>4.203797</td>\n",
       "      <td>0.001645</td>\n",
       "      <td>-0.001202</td>\n",
       "    </tr>\n",
       "    <tr>\n",
       "      <th>10/24/2016</th>\n",
       "      <td>10/24/2016</td>\n",
       "      <td>66.89</td>\n",
       "      <td>4.203049</td>\n",
       "      <td>-0.000747</td>\n",
       "      <td>-0.002392</td>\n",
       "    </tr>\n",
       "    <tr>\n",
       "      <th>10/25/2016</th>\n",
       "      <td>10/25/2016</td>\n",
       "      <td>66.80</td>\n",
       "      <td>4.201703</td>\n",
       "      <td>-0.001346</td>\n",
       "      <td>-0.000599</td>\n",
       "    </tr>\n",
       "    <tr>\n",
       "      <th>10/26/2016</th>\n",
       "      <td>10/26/2016</td>\n",
       "      <td>66.83</td>\n",
       "      <td>4.202152</td>\n",
       "      <td>0.000449</td>\n",
       "      <td>0.001795</td>\n",
       "    </tr>\n",
       "    <tr>\n",
       "      <th>10/27/2016</th>\n",
       "      <td>10/27/2016</td>\n",
       "      <td>66.85</td>\n",
       "      <td>4.202451</td>\n",
       "      <td>0.000299</td>\n",
       "      <td>-0.000150</td>\n",
       "    </tr>\n",
       "    <tr>\n",
       "      <th>10/28/2016</th>\n",
       "      <td>10/28/2016</td>\n",
       "      <td>66.78</td>\n",
       "      <td>4.201404</td>\n",
       "      <td>-0.001048</td>\n",
       "      <td>-0.001347</td>\n",
       "    </tr>\n",
       "    <tr>\n",
       "      <th>10/31/2016</th>\n",
       "      <td>10/31/2016</td>\n",
       "      <td>66.72</td>\n",
       "      <td>4.200505</td>\n",
       "      <td>-0.000899</td>\n",
       "      <td>0.000149</td>\n",
       "    </tr>\n",
       "    <tr>\n",
       "      <th>11/1/2016</th>\n",
       "      <td>11/1/2016</td>\n",
       "      <td>66.70</td>\n",
       "      <td>4.200205</td>\n",
       "      <td>-0.000300</td>\n",
       "      <td>0.000599</td>\n",
       "    </tr>\n",
       "    <tr>\n",
       "      <th>11/2/2016</th>\n",
       "      <td>11/2/2016</td>\n",
       "      <td>66.66</td>\n",
       "      <td>4.199605</td>\n",
       "      <td>-0.000600</td>\n",
       "      <td>-0.000300</td>\n",
       "    </tr>\n",
       "    <tr>\n",
       "      <th>11/3/2016</th>\n",
       "      <td>11/3/2016</td>\n",
       "      <td>66.68</td>\n",
       "      <td>4.199905</td>\n",
       "      <td>0.000300</td>\n",
       "      <td>0.000900</td>\n",
       "    </tr>\n",
       "    <tr>\n",
       "      <th>11/4/2016</th>\n",
       "      <td>11/4/2016</td>\n",
       "      <td>66.75</td>\n",
       "      <td>4.200954</td>\n",
       "      <td>0.001049</td>\n",
       "      <td>0.000749</td>\n",
       "    </tr>\n",
       "    <tr>\n",
       "      <th>11/7/2016</th>\n",
       "      <td>11/7/2016</td>\n",
       "      <td>66.74</td>\n",
       "      <td>4.200804</td>\n",
       "      <td>-0.000150</td>\n",
       "      <td>-0.001199</td>\n",
       "    </tr>\n",
       "    <tr>\n",
       "      <th>11/8/2016</th>\n",
       "      <td>11/8/2016</td>\n",
       "      <td>66.22</td>\n",
       "      <td>4.192983</td>\n",
       "      <td>-0.007822</td>\n",
       "      <td>-0.007672</td>\n",
       "    </tr>\n",
       "    <tr>\n",
       "      <th>11/9/2016</th>\n",
       "      <td>11/9/2016</td>\n",
       "      <td>66.51</td>\n",
       "      <td>4.197352</td>\n",
       "      <td>0.004370</td>\n",
       "      <td>0.012192</td>\n",
       "    </tr>\n",
       "    <tr>\n",
       "      <th>11/10/2016</th>\n",
       "      <td>11/10/2016</td>\n",
       "      <td>67.24</td>\n",
       "      <td>4.208268</td>\n",
       "      <td>0.010916</td>\n",
       "      <td>0.006546</td>\n",
       "    </tr>\n",
       "  </tbody>\n",
       "</table>\n",
       "<p>1259 rows × 5 columns</p>\n",
       "</div>"
      ],
      "text/plain": [
       "                  Date  Rupee    LogRup  LagLogRup  Lag2LogRup\n",
       "Date                                                          \n",
       "11/4/2011    11/4/2011  48.99  3.891616        NaN         NaN\n",
       "11/7/2011    11/7/2011  48.94  3.890595  -0.001021         NaN\n",
       "11/8/2011    11/8/2011  49.39  3.899748   0.009153    0.010174\n",
       "11/9/2011    11/9/2011  50.05  3.913023   0.013275    0.004122\n",
       "11/10/2011  11/10/2011  49.98  3.911623  -0.001400   -0.014674\n",
       "11/14/2011  11/14/2011  50.37  3.919396   0.007773    0.009172\n",
       "11/15/2011  11/15/2011  50.62  3.924347   0.004951   -0.002822\n",
       "11/16/2011  11/16/2011  50.66  3.925137   0.000790   -0.004161\n",
       "11/17/2011  11/17/2011  50.95  3.930845   0.005708    0.004918\n",
       "11/18/2011  11/18/2011  51.23  3.936325   0.005481   -0.000228\n",
       "11/21/2011  11/21/2011  52.06  3.952397   0.016072    0.010591\n",
       "11/22/2011  11/22/2011  52.48  3.960432   0.008035   -0.008036\n",
       "11/23/2011  11/23/2011  52.26  3.956231  -0.004201   -0.012236\n",
       "11/25/2011  11/25/2011  52.23  3.955657  -0.000574    0.003627\n",
       "11/28/2011  11/28/2011  51.94  3.950089  -0.005568   -0.004994\n",
       "11/29/2011  11/29/2011  51.90  3.949319  -0.000770    0.004797\n",
       "11/30/2011  11/30/2011  52.12  3.953549   0.004230    0.005000\n",
       "12/1/2011    12/1/2011  51.36  3.938860  -0.014689   -0.018919\n",
       "12/2/2011    12/2/2011  50.50  3.921973  -0.016886   -0.002197\n",
       "12/5/2011    12/5/2011  51.31  3.937886   0.015912    0.032799\n",
       "12/6/2011    12/6/2011  51.23  3.936325  -0.001560   -0.017473\n",
       "12/7/2011    12/7/2011  51.62  3.943909   0.007584    0.009144\n",
       "12/8/2011    12/8/2011  51.70  3.945458   0.001549   -0.006035\n",
       "12/9/2011    12/9/2011  51.87  3.948741   0.003283    0.001734\n",
       "12/12/2011  12/12/2011  52.60  3.962716   0.013976    0.010693\n",
       "12/13/2011  12/13/2011  53.09  3.971989   0.009272   -0.004703\n",
       "12/14/2011  12/14/2011  53.71  3.983599   0.011611    0.002338\n",
       "12/15/2011  12/15/2011  53.55  3.980616  -0.002983   -0.014594\n",
       "12/16/2011  12/16/2011  52.49  3.960623  -0.019993   -0.017010\n",
       "12/19/2011  12/19/2011  52.69  3.964426   0.003803    0.023796\n",
       "...                ...    ...       ...        ...         ...\n",
       "9/29/2016    9/29/2016  66.72  4.200505   0.003303    0.003303\n",
       "9/30/2016    9/30/2016  66.58  4.198404  -0.002101   -0.005403\n",
       "10/3/2016    10/3/2016  66.52  4.197503  -0.000902    0.001199\n",
       "10/4/2016    10/4/2016  66.49  4.197052  -0.000451    0.000450\n",
       "10/5/2016    10/5/2016  66.53  4.197653   0.000601    0.001053\n",
       "10/6/2016    10/6/2016  66.70  4.200205   0.002552    0.001951\n",
       "10/7/2016    10/7/2016  66.61  4.198855  -0.001350   -0.003902\n",
       "10/11/2016  10/11/2016  66.81  4.201853   0.002998    0.004348\n",
       "10/12/2016  10/12/2016  66.85  4.202451   0.000599   -0.002400\n",
       "10/13/2016  10/13/2016  66.84  4.202302  -0.000150   -0.000748\n",
       "10/14/2016  10/14/2016  66.69  4.200055  -0.002247   -0.002097\n",
       "10/17/2016  10/17/2016  66.80  4.201703   0.001648    0.003895\n",
       "10/18/2016  10/18/2016  66.71  4.200355  -0.001348   -0.002996\n",
       "10/19/2016  10/19/2016  66.64  4.199305  -0.001050    0.000298\n",
       "10/20/2016  10/20/2016  66.83  4.202152   0.002847    0.003897\n",
       "10/21/2016  10/21/2016  66.94  4.203797   0.001645   -0.001202\n",
       "10/24/2016  10/24/2016  66.89  4.203049  -0.000747   -0.002392\n",
       "10/25/2016  10/25/2016  66.80  4.201703  -0.001346   -0.000599\n",
       "10/26/2016  10/26/2016  66.83  4.202152   0.000449    0.001795\n",
       "10/27/2016  10/27/2016  66.85  4.202451   0.000299   -0.000150\n",
       "10/28/2016  10/28/2016  66.78  4.201404  -0.001048   -0.001347\n",
       "10/31/2016  10/31/2016  66.72  4.200505  -0.000899    0.000149\n",
       "11/1/2016    11/1/2016  66.70  4.200205  -0.000300    0.000599\n",
       "11/2/2016    11/2/2016  66.66  4.199605  -0.000600   -0.000300\n",
       "11/3/2016    11/3/2016  66.68  4.199905   0.000300    0.000900\n",
       "11/4/2016    11/4/2016  66.75  4.200954   0.001049    0.000749\n",
       "11/7/2016    11/7/2016  66.74  4.200804  -0.000150   -0.001199\n",
       "11/8/2016    11/8/2016  66.22  4.192983  -0.007822   -0.007672\n",
       "11/9/2016    11/9/2016  66.51  4.197352   0.004370    0.012192\n",
       "11/10/2016  11/10/2016  67.24  4.208268   0.010916    0.006546\n",
       "\n",
       "[1259 rows x 5 columns]"
      ]
     },
     "execution_count": 4,
     "metadata": {},
     "output_type": "execute_result"
    }
   ],
   "source": [
    "rupeeDat = rupeeInitial\n",
    "rupeeDat"
   ]
  },
  {
   "cell_type": "code",
   "execution_count": 5,
   "metadata": {
    "collapsed": false
   },
   "outputs": [
    {
     "data": {
      "text/plain": [
       "[<matplotlib.lines.Line2D at 0x10f5afc88>]"
      ]
     },
     "execution_count": 5,
     "metadata": {},
     "output_type": "execute_result"
    },
    {
     "data": {
      "image/png": "[encoded data removed]",
      "text/plain": [
       "<matplotlib.figure.Figure at 0x109e2c2b0>"
      ]
     },
     "metadata": {},
     "output_type": "display_data"
    }
   ],
   "source": [
    "#plot log rupee\n",
    "\n",
    "fig, RupeePlot = plt.subplots(nrows=1, ncols=1, figsize=(14,5))\n",
    "legLine0 = mlines.Line2D([],[],color='b',markersize=15, label='Chaos 1') \n",
    "legLine1 = mlines.Line2D([],[],color='m',markersize=15, label='Chaos 2')\n",
    "\n",
    "RupeePlot.set_title('Log Rupee')\n",
    "RupeePlot.plot(pd.to_datetime(rupeeDat['Date']), rupeeDat['LogRup'],  color='g', linestyle='-', linewidth=2)"
   ]
  },
  {
   "cell_type": "code",
   "execution_count": 6,
   "metadata": {
    "collapsed": false
   },
   "outputs": [
    {
     "data": {
      "text/plain": [
       "[<matplotlib.lines.Line2D at 0x10f822470>]"
      ]
     },
     "execution_count": 6,
     "metadata": {},
     "output_type": "execute_result"
    },
    {
     "data": {
      "image/png": "[encoded data removed]",
      "text/plain": [
       "<matplotlib.figure.Figure at 0x10f641da0>"
      ]
     },
     "metadata": {},
     "output_type": "display_data"
    }
   ],
   "source": [
    "#plot differenced log rupee\n",
    "\n",
    "fig, RupeePlot = plt.subplots(nrows=1, ncols=1, figsize=(14,5))\n",
    "legLine0 = mlines.Line2D([],[],color='b',markersize=15, label='Chaos 1') \n",
    "legLine1 = mlines.Line2D([],[],color='m',markersize=15, label='Chaos 2')\n",
    "\n",
    "RupeePlot.set_title('Differenced Log Rupee')\n",
    "RupeePlot.plot(pd.to_datetime(rupeeDat['Date'][1:]), rupeeDat['LagLogRup'][1:],  color='g', linestyle='-', linewidth=2)"
   ]
  },
  {
   "cell_type": "markdown",
   "metadata": {},
   "source": [
    "### Model Selection"
   ]
  },
  {
   "cell_type": "code",
   "execution_count": null,
   "metadata": {
    "collapsed": false
   },
   "outputs": [],
   "source": [
    "# Log Rupee ACF, PACF\n",
    "#print(type(rupeeDat['LogUnEmp']))\n",
    "smg.tsaplots.plot_acf(rupeeDat['LogRup'], zero=False, lags=50)\n",
    "plt.title('Log Rupee ACF')\n",
    "smg.tsaplots.plot_pacf(rupeeDat['LogRup'],zero=False, lags=50)\n",
    "plt.title('Log Rupee PACF')"
   ]
  },
  {
   "cell_type": "code",
   "execution_count": null,
   "metadata": {
    "collapsed": false
   },
   "outputs": [],
   "source": [
    "# Log Rupee ACF, PACF\n",
    "#print(type(rupeeDat['LogUnEmp']))\n",
    "smg.tsaplots.plot_acf(rupeeDat['Lag2LogRup'][2:], zero=False, lags=50)\n",
    "plt.title('Differenced Log Rupee ACF')\n",
    "smg.tsaplots.plot_pacf(rupeeDat['Lag2LogRup'][2:],zero=False, lags=50)\n",
    "plt.title('Differenced Log Rupee PACF')"
   ]
  },
  {
   "cell_type": "code",
   "execution_count": null,
   "metadata": {
    "collapsed": false
   },
   "outputs": [],
   "source": [
    "# use function below to calculate AICc for different combinations \n",
    "\n",
    "def calcAICc(observations, constant):\n",
    "    \n",
    "    trendVal = str(constant)\n",
    "    # below is for all combinations of (p,q) <= 2\n",
    "    combos = list(it.product(range(8),repeat=2))\n",
    "    result_li = []\n",
    "    \n",
    "    \n",
    "    for ea in combos: \n",
    "        # below changed to accomodate ARIMA\n",
    "        ARMAaiccCalc = tsa.arima_model.ARMA(observations,order=[ea[0],1,ea[1]]) \n",
    "        # trend= indicates whether to use constant('c') or not ('nc'). \n",
    "        try:\n",
    "            ARMAaiccCalc = ARMAaiccCalc.fit(trend=trendVal)\n",
    "            logLikeli = ARMAaiccCalc.llf\n",
    "            n_obs = ARMAaiccCalc.nobs\n",
    "            #AICc calc\n",
    "            AICc =  -2*logLikeli + 2*(sum(ea) + 1)*(n_obs/(n_obs-sum(ea)-2))\n",
    "        except (ValueError, Exception): \n",
    "            AICc = 0\n",
    "            pass\n",
    "\n",
    "    \n",
    "        result_li.append([[ea[0],1,ea[1]], AICc])\n",
    "        \n",
    "    res_DF = pd.DataFrame(result_li)\n",
    "    res_DF.columns = ['(p,1,q)','AICc']\n",
    "    # res_DF['Abs AICc'] = abs(res_DF['AICc'])\n",
    "    res_DF.sort_values('AICc', ascending=True, inplace=True)\n",
    "    \n",
    "    return res_DF\n",
    "        \n",
    "    \n",
    "\n"
   ]
  },
  {
   "cell_type": "code",
   "execution_count": null,
   "metadata": {
    "collapsed": false
   },
   "outputs": [],
   "source": [
    "# run AICc both with and without constant added\n",
    "aicsNC = calcAICc(rupeeDat['LagLogRup'][1:],'nc')\n",
    "aicsC = calcAICc(rupeeDat['LagLogRup'][1:],'c')\n"
   ]
  },
  {
   "cell_type": "code",
   "execution_count": null,
   "metadata": {
    "collapsed": false
   },
   "outputs": [],
   "source": [
    "aicsNC['Constant'] = 'NC'\n",
    "aicsC['Constant'] = 'C'\n",
    "aiccResults2 = pd.concat([aicsNC, aicsC])"
   ]
  },
  {
   "cell_type": "code",
   "execution_count": null,
   "metadata": {
    "collapsed": false
   },
   "outputs": [],
   "source": [
    "aiccResults2.sort_values('AICc')"
   ]
  },
  {
   "cell_type": "markdown",
   "metadata": {},
   "source": [
    "### Model Fitting"
   ]
  },
  {
   "cell_type": "code",
   "execution_count": 7,
   "metadata": {
    "collapsed": false
   },
   "outputs": [
    {
     "name": "stderr",
     "output_type": "stream",
     "text": [
      "/Users/Sam_I_Am/anaconda/lib/python3.6/site-packages/statsmodels/tsa/kalmanf/kalmanfilter.py:646: FutureWarning: Conversion of the second argument of issubdtype from `float` to `np.floating` is deprecated. In future, it will be treated as `np.float64 == np.dtype(float).type`.\n",
      "  if issubdtype(paramsdtype, float):\n",
      "/Users/Sam_I_Am/anaconda/lib/python3.6/site-packages/statsmodels/tsa/kalmanf/kalmanfilter.py:650: FutureWarning: Conversion of the second argument of issubdtype from `complex` to `np.complexfloating` is deprecated. In future, it will be treated as `np.complex128 == np.dtype(complex).type`.\n",
      "  elif issubdtype(paramsdtype, complex):\n"
     ]
    },
    {
     "data": {
      "text/html": [
       "<table class=\"simpletable\">\n",
       "<caption>ARMA Model Results</caption>\n",
       "<tr>\n",
       "  <th>Dep. Variable:</th>     <td>LagLogRup</td>    <th>  No. Observations:  </th>   <td>1258</td>   \n",
       "</tr>\n",
       "<tr>\n",
       "  <th>Model:</th>            <td>ARMA(2, 1)</td>    <th>  Log Likelihood     </th> <td>4748.934</td> \n",
       "</tr>\n",
       "<tr>\n",
       "  <th>Method:</th>             <td>css-mle</td>     <th>  S.D. of innovations</th>   <td>0.006</td>  \n",
       "</tr>\n",
       "<tr>\n",
       "  <th>Date:</th>          <td>Tue, 01 May 2018</td> <th>  AIC                </th> <td>-9489.869</td>\n",
       "</tr>\n",
       "<tr>\n",
       "  <th>Time:</th>              <td>00:36:10</td>     <th>  BIC                </th> <td>-9469.320</td>\n",
       "</tr>\n",
       "<tr>\n",
       "  <th>Sample:</th>           <td>11-07-2011</td>    <th>  HQIC               </th> <td>-9482.146</td>\n",
       "</tr>\n",
       "<tr>\n",
       "  <th></th>                 <td>- 11-10-2016</td>   <th>                     </th>     <td> </td>    \n",
       "</tr>\n",
       "</table>\n",
       "<table class=\"simpletable\">\n",
       "<tr>\n",
       "         <td></td>            <th>coef</th>     <th>std err</th>      <th>z</th>      <th>P>|z|</th>  <th>[0.025</th>    <th>0.975]</th>  \n",
       "</tr>\n",
       "<tr>\n",
       "  <th>ar.L1.LagLogRup</th> <td>   -0.1693</td> <td>    0.173</td> <td>   -0.980</td> <td> 0.327</td> <td>   -0.508</td> <td>    0.169</td>\n",
       "</tr>\n",
       "<tr>\n",
       "  <th>ar.L2.LagLogRup</th> <td>   -0.1316</td> <td>    0.028</td> <td>   -4.695</td> <td> 0.000</td> <td>   -0.187</td> <td>   -0.077</td>\n",
       "</tr>\n",
       "<tr>\n",
       "  <th>ma.L1.LagLogRup</th> <td>    0.1420</td> <td>    0.173</td> <td>    0.819</td> <td> 0.413</td> <td>   -0.198</td> <td>    0.482</td>\n",
       "</tr>\n",
       "</table>\n",
       "<table class=\"simpletable\">\n",
       "<caption>Roots</caption>\n",
       "<tr>\n",
       "    <td></td>   <th>           Real</th> <th>         Imaginary</th> <th>         Modulus</th> <th>        Frequency</th>\n",
       "</tr>\n",
       "<tr>\n",
       "  <th>AR.1</th>              -0.6433                    -2.6807j                    2.7568                   -0.2875     \n",
       "</tr>\n",
       "<tr>\n",
       "  <th>AR.2</th>              -0.6433                    +2.6807j                    2.7568                    0.2875     \n",
       "</tr>\n",
       "<tr>\n",
       "  <th>MA.1</th>              -7.0431                    +0.0000j                    7.0431                    0.5000     \n",
       "</tr>\n",
       "</table>"
      ],
      "text/plain": [
       "<class 'statsmodels.iolib.summary.Summary'>\n",
       "\"\"\"\n",
       "                              ARMA Model Results                              \n",
       "==============================================================================\n",
       "Dep. Variable:              LagLogRup   No. Observations:                 1258\n",
       "Model:                     ARMA(2, 1)   Log Likelihood                4748.934\n",
       "Method:                       css-mle   S.D. of innovations              0.006\n",
       "Date:                Tue, 01 May 2018   AIC                          -9489.869\n",
       "Time:                        00:36:10   BIC                          -9469.320\n",
       "Sample:                    11-07-2011   HQIC                         -9482.146\n",
       "                         - 11-10-2016                                         \n",
       "===================================================================================\n",
       "                      coef    std err          z      P>|z|      [0.025      0.975]\n",
       "-----------------------------------------------------------------------------------\n",
       "ar.L1.LagLogRup    -0.1693      0.173     -0.980      0.327      -0.508       0.169\n",
       "ar.L2.LagLogRup    -0.1316      0.028     -4.695      0.000      -0.187      -0.077\n",
       "ma.L1.LagLogRup     0.1420      0.173      0.819      0.413      -0.198       0.482\n",
       "                                    Roots                                    \n",
       "=============================================================================\n",
       "                 Real           Imaginary           Modulus         Frequency\n",
       "-----------------------------------------------------------------------------\n",
       "AR.1           -0.6433           -2.6807j            2.7568           -0.2875\n",
       "AR.2           -0.6433           +2.6807j            2.7568            0.2875\n",
       "MA.1           -7.0431           +0.0000j            7.0431            0.5000\n",
       "-----------------------------------------------------------------------------\n",
       "\"\"\""
      ]
     },
     "execution_count": 7,
     "metadata": {},
     "output_type": "execute_result"
    }
   ],
   "source": [
    "# fit an ARIMA (2,1,0) model.\n",
    "LagLogRUP_ARIMA210 = tsa.arima_model.ARMA(rupeeDat['LagLogRup'][1:],order=(2,1,0))\n",
    "# trend='nc' removes constant \n",
    "LagLogRUP_ARIMA210 = LagLogRUP_ARIMA210.fit(trend='nc')\n",
    "LagLogRUP_ARIMA210.summary()"
   ]
  },
  {
   "cell_type": "code",
   "execution_count": 8,
   "metadata": {
    "collapsed": false
   },
   "outputs": [
    {
     "name": "stderr",
     "output_type": "stream",
     "text": [
      "/Users/Sam_I_Am/anaconda/lib/python3.6/site-packages/statsmodels/tsa/kalmanf/kalmanfilter.py:646: FutureWarning: Conversion of the second argument of issubdtype from `float` to `np.floating` is deprecated. In future, it will be treated as `np.float64 == np.dtype(float).type`.\n",
      "  if issubdtype(paramsdtype, float):\n",
      "/Users/Sam_I_Am/anaconda/lib/python3.6/site-packages/statsmodels/tsa/kalmanf/kalmanfilter.py:650: FutureWarning: Conversion of the second argument of issubdtype from `complex` to `np.complexfloating` is deprecated. In future, it will be treated as `np.complex128 == np.dtype(complex).type`.\n",
      "  elif issubdtype(paramsdtype, complex):\n"
     ]
    },
    {
     "data": {
      "text/html": [
       "<table class=\"simpletable\">\n",
       "<caption>ARMA Model Results</caption>\n",
       "<tr>\n",
       "  <th>Dep. Variable:</th>      <td>LogRup</td>      <th>  No. Observations:  </th>   <td>1259</td>   \n",
       "</tr>\n",
       "<tr>\n",
       "  <th>Model:</th>            <td>ARMA(2, 1)</td>    <th>  Log Likelihood     </th> <td>4741.108</td> \n",
       "</tr>\n",
       "<tr>\n",
       "  <th>Method:</th>             <td>css-mle</td>     <th>  S.D. of innovations</th>   <td>0.006</td>  \n",
       "</tr>\n",
       "<tr>\n",
       "  <th>Date:</th>          <td>Tue, 01 May 2018</td> <th>  AIC                </th> <td>-9472.217</td>\n",
       "</tr>\n",
       "<tr>\n",
       "  <th>Time:</th>              <td>00:36:13</td>     <th>  BIC                </th> <td>-9446.526</td>\n",
       "</tr>\n",
       "<tr>\n",
       "  <th>Sample:</th>           <td>11-04-2011</td>    <th>  HQIC               </th> <td>-9462.562</td>\n",
       "</tr>\n",
       "<tr>\n",
       "  <th></th>                 <td>- 11-10-2016</td>   <th>                     </th>     <td> </td>    \n",
       "</tr>\n",
       "</table>\n",
       "<table class=\"simpletable\">\n",
       "<tr>\n",
       "        <td></td>          <th>coef</th>     <th>std err</th>      <th>z</th>      <th>P>|z|</th>  <th>[0.025</th>    <th>0.975]</th>  \n",
       "</tr>\n",
       "<tr>\n",
       "  <th>const</th>        <td>    4.0646</td> <td>    0.109</td> <td>   37.127</td> <td> 0.000</td> <td>    3.850</td> <td>    4.279</td>\n",
       "</tr>\n",
       "<tr>\n",
       "  <th>ar.L1.LogRup</th> <td>    1.4002</td> <td>    0.024</td> <td>   58.616</td> <td> 0.000</td> <td>    1.353</td> <td>    1.447</td>\n",
       "</tr>\n",
       "<tr>\n",
       "  <th>ar.L2.LogRup</th> <td>   -0.4006</td> <td>    0.024</td> <td>  -16.786</td> <td> 0.000</td> <td>   -0.447</td> <td>   -0.354</td>\n",
       "</tr>\n",
       "<tr>\n",
       "  <th>ma.L1.LogRup</th> <td>   -0.4573</td> <td>    0.034</td> <td>  -13.564</td> <td> 0.000</td> <td>   -0.523</td> <td>   -0.391</td>\n",
       "</tr>\n",
       "</table>\n",
       "<table class=\"simpletable\">\n",
       "<caption>Roots</caption>\n",
       "<tr>\n",
       "    <td></td>   <th>           Real</th> <th>         Imaginary</th> <th>         Modulus</th> <th>        Frequency</th>\n",
       "</tr>\n",
       "<tr>\n",
       "  <th>AR.1</th>               1.0007                    +0.0000j                    1.0007                    0.0000     \n",
       "</tr>\n",
       "<tr>\n",
       "  <th>AR.2</th>               2.4942                    +0.0000j                    2.4942                    0.0000     \n",
       "</tr>\n",
       "<tr>\n",
       "  <th>MA.1</th>               2.1866                    +0.0000j                    2.1866                    0.0000     \n",
       "</tr>\n",
       "</table>"
      ],
      "text/plain": [
       "<class 'statsmodels.iolib.summary.Summary'>\n",
       "\"\"\"\n",
       "                              ARMA Model Results                              \n",
       "==============================================================================\n",
       "Dep. Variable:                 LogRup   No. Observations:                 1259\n",
       "Model:                     ARMA(2, 1)   Log Likelihood                4741.108\n",
       "Method:                       css-mle   S.D. of innovations              0.006\n",
       "Date:                Tue, 01 May 2018   AIC                          -9472.217\n",
       "Time:                        00:36:13   BIC                          -9446.526\n",
       "Sample:                    11-04-2011   HQIC                         -9462.562\n",
       "                         - 11-10-2016                                         \n",
       "================================================================================\n",
       "                   coef    std err          z      P>|z|      [0.025      0.975]\n",
       "--------------------------------------------------------------------------------\n",
       "const            4.0646      0.109     37.127      0.000       3.850       4.279\n",
       "ar.L1.LogRup     1.4002      0.024     58.616      0.000       1.353       1.447\n",
       "ar.L2.LogRup    -0.4006      0.024    -16.786      0.000      -0.447      -0.354\n",
       "ma.L1.LogRup    -0.4573      0.034    -13.564      0.000      -0.523      -0.391\n",
       "                                    Roots                                    \n",
       "=============================================================================\n",
       "                 Real           Imaginary           Modulus         Frequency\n",
       "-----------------------------------------------------------------------------\n",
       "AR.1            1.0007           +0.0000j            1.0007            0.0000\n",
       "AR.2            2.4942           +0.0000j            2.4942            0.0000\n",
       "MA.1            2.1866           +0.0000j            2.1866            0.0000\n",
       "-----------------------------------------------------------------------------\n",
       "\"\"\""
      ]
     },
     "execution_count": 8,
     "metadata": {},
     "output_type": "execute_result"
    }
   ],
   "source": [
    "# fit an ARIMA (2,1,0) model.\n",
    "LogRUP_ARIMA210 = tsa.arima_model.ARMA(rupeeDat['LogRup'],order=(2,1,0))\n",
    "# trend='nc' removes constant \n",
    "LogRUP_ARIMA210 = LogRUP_ARIMA210.fit(trend='c')\n",
    "LogRUP_ARIMA210.summary()"
   ]
  },
  {
   "cell_type": "code",
   "execution_count": 9,
   "metadata": {
    "collapsed": false
   },
   "outputs": [
    {
     "name": "stderr",
     "output_type": "stream",
     "text": [
      "/Users/Sam_I_Am/anaconda/lib/python3.6/site-packages/statsmodels/tsa/kalmanf/kalmanfilter.py:577: FutureWarning: Conversion of the second argument of issubdtype from `float` to `np.floating` is deprecated. In future, it will be treated as `np.float64 == np.dtype(float).type`.\n",
      "  if issubdtype(paramsdtype, float):\n"
     ]
    }
   ],
   "source": [
    "resids = LogRUP_ARIMA210.resid\n",
    "fitVals = LogRUP_ARIMA210.fittedvalues\n",
    "forecast_1step = LogRUP_ARIMA210.forecast(steps=1)\n",
    "residSquared = resids**2"
   ]
  },
  {
   "cell_type": "markdown",
   "metadata": {},
   "source": [
    "### Plot & Analyze Residuals"
   ]
  },
  {
   "cell_type": "code",
   "execution_count": null,
   "metadata": {
    "collapsed": false
   },
   "outputs": [],
   "source": [
    "#plot Residuals from ARIMA(2,1,0)\n",
    "\n",
    "fig, RupeePlot = plt.subplots(nrows=1, ncols=1, figsize=(14,5))\n",
    "legLine0 = mlines.Line2D([],[],color='b',markersize=15, label='Chaos 1') \n",
    "legLine1 = mlines.Line2D([],[],color='m',markersize=15, label='Chaos 2')\n",
    "\n",
    "RupeePlot.set_title('Residuals ARIMA(2,1,0)')\n",
    "RupeePlot.plot(pd.to_datetime(resids.index)[1:], resids[1:],  color='k', linestyle='-', linewidth=2)"
   ]
  },
  {
   "cell_type": "code",
   "execution_count": null,
   "metadata": {
    "collapsed": false
   },
   "outputs": [],
   "source": [
    "#plot Residuals from ARIMA(2,1,0)\n",
    "\n",
    "fig, RupeePlot = plt.subplots(nrows=1, ncols=1, figsize=(14,5))\n",
    "legLine0 = mlines.Line2D([],[],color='b',markersize=15, label='Chaos 1') \n",
    "legLine1 = mlines.Line2D([],[],color='m',markersize=15, label='Chaos 2')\n",
    "\n",
    "RupeePlot.set_title('Squared Residuals ARIMA(2,1,0)')\n",
    "RupeePlot.plot(pd.to_datetime(residSquared.index)[1:], residSquared[1:],  color='k', linestyle='-', linewidth=2)"
   ]
  },
  {
   "cell_type": "code",
   "execution_count": null,
   "metadata": {
    "collapsed": false
   },
   "outputs": [],
   "source": [
    "# ARIMA(2,1,0) residuals ACF, PACF\n",
    "smg.tsaplots.plot_acf(resids[1:], zero=False, lags=150)\n",
    "plt.title('Residuals ACF')\n",
    "smg.tsaplots.plot_pacf(resids[1:],zero=False, lags=150)\n",
    "plt.title('Residuals PACF')"
   ]
  },
  {
   "cell_type": "code",
   "execution_count": null,
   "metadata": {
    "collapsed": false
   },
   "outputs": [],
   "source": [
    "# ARIMA(2,1,0) residuals ACF, PACF\n",
    "smg.tsaplots.plot_acf(residSquared[1:], zero=False, lags=50)\n",
    "plt.title('Squared Residuals ACF')\n",
    "smg.tsaplots.plot_pacf(residSquared[1:],zero=False, lags=50)\n",
    "plt.title('Squared Residuals PACF')"
   ]
  },
  {
   "cell_type": "code",
   "execution_count": 19,
   "metadata": {
    "collapsed": false
   },
   "outputs": [
    {
     "data": {
      "text/html": [
       "<table class=\"simpletable\">\n",
       "<caption>Constant Mean - ARCH Model Results</caption>\n",
       "<tr>\n",
       "  <th>Dep. Variable:</th>        <td>None</td>        <th>  R-squared:         </th>  <td>  -0.000</td> \n",
       "</tr>\n",
       "<tr>\n",
       "  <th>Mean Model:</th>       <td>Constant Mean</td>   <th>  Adj. R-squared:    </th>  <td>  -0.000</td> \n",
       "</tr>\n",
       "<tr>\n",
       "  <th>Vol Model:</th>            <td>ARCH</td>        <th>  Log-Likelihood:    </th> <td>   4868.57</td>\n",
       "</tr>\n",
       "<tr>\n",
       "  <th>Distribution:</th>        <td>Normal</td>       <th>  AIC:               </th> <td>  -9719.14</td>\n",
       "</tr>\n",
       "<tr>\n",
       "  <th>Method:</th>        <td>Maximum Likelihood</td> <th>  BIC:               </th> <td>  -9672.90</td>\n",
       "</tr>\n",
       "<tr>\n",
       "  <th></th>                        <td></td>          <th>  No. Observations:  </th>    <td>1259</td>   \n",
       "</tr>\n",
       "<tr>\n",
       "  <th>Date:</th>           <td>Tue, May 01 2018</td>  <th>  Df Residuals:      </th>    <td>1250</td>   \n",
       "</tr>\n",
       "<tr>\n",
       "  <th>Time:</th>               <td>00:38:08</td>      <th>  Df Model:          </th>      <td>9</td>    \n",
       "</tr>\n",
       "</table>\n",
       "<table class=\"simpletable\">\n",
       "<caption>Mean Model</caption>\n",
       "<tr>\n",
       "   <td></td>     <th>coef</th>     <th>std err</th>      <th>t</th>       <th>P>|t|</th>     <th>95.0% Conf. Int.</th>   \n",
       "</tr>\n",
       "<tr>\n",
       "  <th>mu</th> <td>3.0763e-04</td> <td>1.346e-04</td> <td>    2.285</td> <td>2.233e-02</td> <td>[4.372e-05,5.715e-04]</td>\n",
       "</tr>\n",
       "</table>\n",
       "<table class=\"simpletable\">\n",
       "<caption>Volatility Model</caption>\n",
       "<tr>\n",
       "      <td></td>        <th>coef</th>     <th>std err</th>      <th>t</th>       <th>P>|t|</th>     <th>95.0% Conf. Int.</th>   \n",
       "</tr>\n",
       "<tr>\n",
       "  <th>omega</th>    <td>8.2361e-06</td> <td>5.506e-14</td> <td>1.496e+08</td>   <td>0.000</td>   <td>[8.236e-06,8.236e-06]</td>\n",
       "</tr>\n",
       "<tr>\n",
       "  <th>alpha[1]</th> <td>    0.1214</td> <td>1.547e-03</td> <td>   78.509</td>   <td>0.000</td>     <td>[  0.118,  0.124]</td>  \n",
       "</tr>\n",
       "<tr>\n",
       "  <th>alpha[2]</th> <td>    0.1214</td> <td>5.991e-02</td> <td>    2.027</td> <td>4.268e-02</td>  <td>[4.008e-03,  0.239]</td> \n",
       "</tr>\n",
       "<tr>\n",
       "  <th>alpha[3]</th> <td>    0.1214</td> <td>    0.152</td> <td>    0.797</td> <td>    0.426</td>   <td>[ -0.177,  0.420]</td>  \n",
       "</tr>\n",
       "<tr>\n",
       "  <th>alpha[4]</th> <td>    0.1214</td> <td>5.838e-02</td> <td>    2.080</td> <td>3.752e-02</td>  <td>[7.011e-03,  0.236]</td> \n",
       "</tr>\n",
       "<tr>\n",
       "  <th>alpha[5]</th> <td>    0.1214</td> <td>7.599e-02</td> <td>    1.598</td> <td>    0.110</td> <td>[-2.752e-02,  0.270]</td> \n",
       "</tr>\n",
       "<tr>\n",
       "  <th>alpha[6]</th> <td>    0.1214</td> <td>    0.103</td> <td>    1.180</td> <td>    0.238</td> <td>[-8.031e-02,  0.323]</td> \n",
       "</tr>\n",
       "<tr>\n",
       "  <th>alpha[7]</th> <td>    0.1214</td> <td>7.328e-02</td> <td>    1.657</td> <td>9.750e-02</td> <td>[-2.219e-02,  0.265]</td> \n",
       "</tr>\n",
       "</table>"
      ],
      "text/plain": [
       "<class 'statsmodels.iolib.summary.Summary'>\n",
       "\"\"\"\n",
       "                      Constant Mean - ARCH Model Results                      \n",
       "==============================================================================\n",
       "Dep. Variable:                   None   R-squared:                      -0.000\n",
       "Mean Model:             Constant Mean   Adj. R-squared:                 -0.000\n",
       "Vol Model:                       ARCH   Log-Likelihood:                4868.57\n",
       "Distribution:                  Normal   AIC:                          -9719.14\n",
       "Method:            Maximum Likelihood   BIC:                          -9672.90\n",
       "                                        No. Observations:                 1259\n",
       "Date:                Tue, May 01 2018   Df Residuals:                     1250\n",
       "Time:                        00:38:08   Df Model:                            9\n",
       "                                 Mean Model                                 \n",
       "============================================================================\n",
       "                 coef    std err          t      P>|t|      95.0% Conf. Int.\n",
       "----------------------------------------------------------------------------\n",
       "mu         3.0763e-04  1.346e-04      2.285  2.233e-02 [4.372e-05,5.715e-04]\n",
       "                              Volatility Model                              \n",
       "============================================================================\n",
       "                 coef    std err          t      P>|t|      95.0% Conf. Int.\n",
       "----------------------------------------------------------------------------\n",
       "omega      8.2361e-06  5.506e-14  1.496e+08      0.000 [8.236e-06,8.236e-06]\n",
       "alpha[1]       0.1214  1.547e-03     78.509      0.000     [  0.118,  0.124]\n",
       "alpha[2]       0.1214  5.991e-02      2.027  4.268e-02   [4.008e-03,  0.239]\n",
       "alpha[3]       0.1214      0.152      0.797      0.426     [ -0.177,  0.420]\n",
       "alpha[4]       0.1214  5.838e-02      2.080  3.752e-02   [7.011e-03,  0.236]\n",
       "alpha[5]       0.1214  7.599e-02      1.598      0.110  [-2.752e-02,  0.270]\n",
       "alpha[6]       0.1214      0.103      1.180      0.238  [-8.031e-02,  0.323]\n",
       "alpha[7]       0.1214  7.328e-02      1.657  9.750e-02  [-2.219e-02,  0.265]\n",
       "============================================================================\n",
       "\n",
       "Covariance estimator: robust\n",
       "\"\"\""
      ]
     },
     "execution_count": 19,
     "metadata": {},
     "output_type": "execute_result"
    }
   ],
   "source": [
    "am = arch_model(resids, mean='Constant', power=2.0 )\n",
    "am.volatility = ARCH(p=7)\n",
    "#res = am.fit(update_freq=10, disp='off')\n",
    "res = am.fit(update_freq=5, disp='off')\n",
    "res.summary()"
   ]
  },
  {
   "cell_type": "code",
   "execution_count": null,
   "metadata": {
    "collapsed": false
   },
   "outputs": [],
   "source": [
    "am = arch_model(rupeeDat['LagLogRup'][1:], mean='Constant', p=2,o=1, q=0, power=2.0 )\n",
    "am.volatility = ARCH(p=11)\n",
    "#res = am.fit(update_freq=10, disp='off')\n",
    "res = am.fit(update_freq=5, disp='off')\n",
    "print(res.loglikelihood, res.nobs)"
   ]
  },
  {
   "cell_type": "code",
   "execution_count": 11,
   "metadata": {
    "collapsed": true
   },
   "outputs": [],
   "source": [
    "# use function below to calculate AICc for different combinations \n",
    "\n",
    "def calcARCH_AICc(observations):\n",
    "    \n",
    "    combos = list(range(11))[1:]\n",
    "    result_li = []\n",
    "    \n",
    "    \n",
    "    for ea in combos: \n",
    "        try:\n",
    "            model = arch_model(observations, mean='Constant', p=2,o=1, q=0, power=2.0 )\n",
    "            model.volatility = ARCH(p=ea)\n",
    "            results = model.fit(update_freq=5, disp='off')\n",
    "            logLikeli = results.loglikelihood\n",
    "            n_obs = results.nobs\n",
    "            #AICc calc\n",
    "            AICc =  (-2*logLikeli) + 2*(ea + 1)*(n_obs/(n_obs-ea-2))\n",
    "        except (ValueError, Exception, Warning): \n",
    "            AICc = 0\n",
    "            pass\n",
    "\n",
    "    \n",
    "        result_li.append(['ARCH(%r)'%ea, AICc])\n",
    "        \n",
    "    res_DF = pd.DataFrame(result_li)\n",
    "    res_DF.columns = ['ARCH(q)','AICc']\n",
    "    # res_DF['Abs AICc'] = abs(res_DF['AICc'])\n",
    "    res_DF.sort_values('AICc', ascending=True, inplace=True)\n",
    "    \n",
    "    return res_DF\n",
    "        \n",
    "    \n",
    "\n",
    "\n"
   ]
  },
  {
   "cell_type": "code",
   "execution_count": 12,
   "metadata": {
    "collapsed": false
   },
   "outputs": [
    {
     "name": "stderr",
     "output_type": "stream",
     "text": [
      "/Users/Sam_I_Am/anaconda/lib/python3.6/site-packages/arch/univariate/base.py:524: ConvergenceWarning: \n",
      "The optimizer returned code 8. The message is:\n",
      "Positive directional derivative for linesearch\n",
      "See scipy.optimize.fmin_slsqp for code meaning.\n",
      "\n",
      "  ConvergenceWarning)\n",
      "/Users/Sam_I_Am/anaconda/lib/python3.6/site-packages/arch/univariate/base.py:524: ConvergenceWarning: \n",
      "The optimizer returned code 8. The message is:\n",
      "Positive directional derivative for linesearch\n",
      "See scipy.optimize.fmin_slsqp for code meaning.\n",
      "\n",
      "  ConvergenceWarning)\n"
     ]
    },
    {
     "data": {
      "text/html": [
       "<div>\n",
       "<style scoped>\n",
       "    .dataframe tbody tr th:only-of-type {\n",
       "        vertical-align: middle;\n",
       "    }\n",
       "\n",
       "    .dataframe tbody tr th {\n",
       "        vertical-align: top;\n",
       "    }\n",
       "\n",
       "    .dataframe thead th {\n",
       "        text-align: right;\n",
       "    }\n",
       "</style>\n",
       "<table border=\"1\" class=\"dataframe\">\n",
       "  <thead>\n",
       "    <tr style=\"text-align: right;\">\n",
       "      <th></th>\n",
       "      <th>ARCH(q)</th>\n",
       "      <th>AICc</th>\n",
       "    </tr>\n",
       "  </thead>\n",
       "  <tbody>\n",
       "    <tr>\n",
       "      <th>6</th>\n",
       "      <td>ARCH(7)</td>\n",
       "      <td>-9760.339111</td>\n",
       "    </tr>\n",
       "    <tr>\n",
       "      <th>7</th>\n",
       "      <td>ARCH(8)</td>\n",
       "      <td>-9752.200996</td>\n",
       "    </tr>\n",
       "    <tr>\n",
       "      <th>8</th>\n",
       "      <td>ARCH(9)</td>\n",
       "      <td>-9749.663764</td>\n",
       "    </tr>\n",
       "    <tr>\n",
       "      <th>5</th>\n",
       "      <td>ARCH(6)</td>\n",
       "      <td>-9741.244228</td>\n",
       "    </tr>\n",
       "    <tr>\n",
       "      <th>4</th>\n",
       "      <td>ARCH(5)</td>\n",
       "      <td>-9739.351092</td>\n",
       "    </tr>\n",
       "    <tr>\n",
       "      <th>9</th>\n",
       "      <td>ARCH(10)</td>\n",
       "      <td>-9739.159161</td>\n",
       "    </tr>\n",
       "    <tr>\n",
       "      <th>3</th>\n",
       "      <td>ARCH(4)</td>\n",
       "      <td>-9687.013797</td>\n",
       "    </tr>\n",
       "    <tr>\n",
       "      <th>2</th>\n",
       "      <td>ARCH(3)</td>\n",
       "      <td>-9668.326681</td>\n",
       "    </tr>\n",
       "    <tr>\n",
       "      <th>1</th>\n",
       "      <td>ARCH(2)</td>\n",
       "      <td>-9660.788870</td>\n",
       "    </tr>\n",
       "    <tr>\n",
       "      <th>0</th>\n",
       "      <td>ARCH(1)</td>\n",
       "      <td>-9600.792977</td>\n",
       "    </tr>\n",
       "  </tbody>\n",
       "</table>\n",
       "</div>"
      ],
      "text/plain": [
       "    ARCH(q)         AICc\n",
       "6   ARCH(7) -9760.339111\n",
       "7   ARCH(8) -9752.200996\n",
       "8   ARCH(9) -9749.663764\n",
       "5   ARCH(6) -9741.244228\n",
       "4   ARCH(5) -9739.351092\n",
       "9  ARCH(10) -9739.159161\n",
       "3   ARCH(4) -9687.013797\n",
       "2   ARCH(3) -9668.326681\n",
       "1   ARCH(2) -9660.788870\n",
       "0   ARCH(1) -9600.792977"
      ]
     },
     "execution_count": 12,
     "metadata": {},
     "output_type": "execute_result"
    }
   ],
   "source": [
    "ARCH_aiccs = calcARCH_AICc(rupeeDat['LagLogRup'][1:])\n",
    "ARCH_aiccs"
   ]
  },
  {
   "cell_type": "code",
   "execution_count": 16,
   "metadata": {
    "collapsed": false
   },
   "outputs": [
    {
     "name": "stderr",
     "output_type": "stream",
     "text": [
      "/Users/Sam_I_Am/anaconda/lib/python3.6/site-packages/arch/univariate/base.py:524: ConvergenceWarning: \n",
      "The optimizer returned code 8. The message is:\n",
      "Positive directional derivative for linesearch\n",
      "See scipy.optimize.fmin_slsqp for code meaning.\n",
      "\n",
      "  ConvergenceWarning)\n"
     ]
    },
    {
     "data": {
      "text/html": [
       "<table class=\"simpletable\">\n",
       "<caption>Constant Mean - GARCH Model Results</caption>\n",
       "<tr>\n",
       "  <th>Dep. Variable:</th>        <td>None</td>        <th>  R-squared:         </th>  <td>  -3.812</td> \n",
       "</tr>\n",
       "<tr>\n",
       "  <th>Mean Model:</th>       <td>Constant Mean</td>   <th>  Adj. R-squared:    </th>  <td>  -3.812</td> \n",
       "</tr>\n",
       "<tr>\n",
       "  <th>Vol Model:</th>            <td>GARCH</td>       <th>  Log-Likelihood:    </th> <td>   3419.26</td>\n",
       "</tr>\n",
       "<tr>\n",
       "  <th>Distribution:</th>        <td>Normal</td>       <th>  AIC:               </th> <td>  -6830.51</td>\n",
       "</tr>\n",
       "<tr>\n",
       "  <th>Method:</th>        <td>Maximum Likelihood</td> <th>  BIC:               </th> <td>  -6809.96</td>\n",
       "</tr>\n",
       "<tr>\n",
       "  <th></th>                        <td></td>          <th>  No. Observations:  </th>    <td>1259</td>   \n",
       "</tr>\n",
       "<tr>\n",
       "  <th>Date:</th>           <td>Tue, May 01 2018</td>  <th>  Df Residuals:      </th>    <td>1255</td>   \n",
       "</tr>\n",
       "<tr>\n",
       "  <th>Time:</th>               <td>00:37:37</td>      <th>  Df Model:          </th>      <td>4</td>    \n",
       "</tr>\n",
       "</table>\n",
       "<table class=\"simpletable\">\n",
       "<caption>Mean Model</caption>\n",
       "<tr>\n",
       "   <td></td>     <th>coef</th>     <th>std err</th>      <th>t</th>     <th>P>|t|</th>   <th>95.0% Conf. Int.</th>   \n",
       "</tr>\n",
       "<tr>\n",
       "  <th>mu</th> <td>    0.0146</td> <td>2.624e-04</td> <td>   55.766</td> <td>0.000</td> <td>[1.412e-02,1.515e-02]</td>\n",
       "</tr>\n",
       "</table>\n",
       "<table class=\"simpletable\">\n",
       "<caption>Volatility Model</caption>\n",
       "<tr>\n",
       "      <td></td>        <th>coef</th>     <th>std err</th>      <th>t</th>       <th>P>|t|</th>     <th>95.0% Conf. Int.</th>   \n",
       "</tr>\n",
       "<tr>\n",
       "  <th>omega</th>    <td>1.7445e-06</td> <td>2.594e-11</td> <td>6.726e+04</td>   <td>0.000</td>   <td>[1.744e-06,1.745e-06]</td>\n",
       "</tr>\n",
       "<tr>\n",
       "  <th>alpha[1]</th> <td>    0.3617</td> <td>5.844e-02</td> <td>    6.189</td> <td>6.071e-10</td>   <td>[  0.247,  0.476]</td>  \n",
       "</tr>\n",
       "<tr>\n",
       "  <th>beta[1]</th>  <td>    0.6311</td> <td>6.069e-02</td> <td>   10.399</td> <td>2.501e-25</td>   <td>[  0.512,  0.750]</td>  \n",
       "</tr>\n",
       "</table>"
      ],
      "text/plain": [
       "<class 'statsmodels.iolib.summary.Summary'>\n",
       "\"\"\"\n",
       "                     Constant Mean - GARCH Model Results                      \n",
       "==============================================================================\n",
       "Dep. Variable:                   None   R-squared:                      -3.812\n",
       "Mean Model:             Constant Mean   Adj. R-squared:                 -3.812\n",
       "Vol Model:                      GARCH   Log-Likelihood:                3419.26\n",
       "Distribution:                  Normal   AIC:                          -6830.51\n",
       "Method:            Maximum Likelihood   BIC:                          -6809.96\n",
       "                                        No. Observations:                 1259\n",
       "Date:                Tue, May 01 2018   Df Residuals:                     1255\n",
       "Time:                        00:37:37   Df Model:                            4\n",
       "                                 Mean Model                                 \n",
       "============================================================================\n",
       "                 coef    std err          t      P>|t|      95.0% Conf. Int.\n",
       "----------------------------------------------------------------------------\n",
       "mu             0.0146  2.624e-04     55.766      0.000 [1.412e-02,1.515e-02]\n",
       "                              Volatility Model                              \n",
       "============================================================================\n",
       "                 coef    std err          t      P>|t|      95.0% Conf. Int.\n",
       "----------------------------------------------------------------------------\n",
       "omega      1.7445e-06  2.594e-11  6.726e+04      0.000 [1.744e-06,1.745e-06]\n",
       "alpha[1]       0.3617  5.844e-02      6.189  6.071e-10     [  0.247,  0.476]\n",
       "beta[1]        0.6311  6.069e-02     10.399  2.501e-25     [  0.512,  0.750]\n",
       "============================================================================\n",
       "\n",
       "Covariance estimator: robust\n",
       "\n",
       "WARNING: The optimizer did not indicate successful convergence. The message was\n",
       "Positive directional derivative for linesearch. See convergence_flag.\n",
       "\"\"\""
      ]
     },
     "execution_count": 16,
     "metadata": {},
     "output_type": "execute_result"
    }
   ],
   "source": [
    "amG = arch_model(resids, mean='Constant',  power=2.0 )\n",
    "amG.volatility = GARCH(1,0,1)\n",
    "#res = am.fit(update_freq=10, disp='off')\n",
    "resG = amG.fit(update_freq=15, disp='off')\n",
    "resG.summary()"
   ]
  },
  {
   "cell_type": "code",
   "execution_count": null,
   "metadata": {
    "collapsed": false
   },
   "outputs": [],
   "source": [
    "#GARCH(1,1)\n",
    "AICc =  (-2*resG.loglikelihood) + 2*(2 + 1)*(resG.nobs/(resG.nobs-2-2))\n",
    "AICc"
   ]
  },
  {
   "cell_type": "code",
   "execution_count": null,
   "metadata": {
    "collapsed": false
   },
   "outputs": [],
   "source": [
    "# check \n",
    "ARMA23_resids = resG.resid\n",
    "\n",
    "ljb_lags = list(range(12,72,12))\n",
    "ARMA23_ljb = sm.stats.diagnostic.acorr_ljungbox(ARMA23_resids, lags=ljb_lags)\n",
    "ARMA23_ljb\n",
    "ljbDf = pd.DataFrame(ARMA23_ljb[1])\n",
    "ljbDf['Lag'] = ljb_lags\n",
    "ljbDf.columns = ['Lj-B Pvalue','Lag']\n",
    "ljbDf"
   ]
  },
  {
   "cell_type": "markdown",
   "metadata": {},
   "source": [
    "## Forecast Intervals etc"
   ]
  },
  {
   "cell_type": "code",
   "execution_count": null,
   "metadata": {
    "collapsed": false
   },
   "outputs": [],
   "source": [
    "forecast_1step\n",
    "print(\"ARIMA 1 Step Forecast: %r \\nARIMA 1 Step CI: %r, %r\" %(forecast_1step[0][0], forecast_1step[2][0][0], forecast_1step[2][0][1]))"
   ]
  },
  {
   "cell_type": "code",
   "execution_count": null,
   "metadata": {
    "collapsed": false
   },
   "outputs": [],
   "source": [
    "ARCH_forecast = res.forecast(horizon=20,  method='simulation')\n",
    "ARCHsim = ARCH_forecast.simulations"
   ]
  },
  {
   "cell_type": "code",
   "execution_count": null,
   "metadata": {
    "collapsed": false
   },
   "outputs": [],
   "source": [
    "CondVolDF = pd.DataFrame(res.conditional_volatility)\n",
    "CondVolDF[\"Date\"] = pd.to_datetime(CondVolDF.index)\n",
    "CondVolDF"
   ]
  },
  {
   "cell_type": "code",
   "execution_count": null,
   "metadata": {
    "collapsed": false
   },
   "outputs": [],
   "source": [
    "len(CondVolDF['cond_vol'])"
   ]
  },
  {
   "cell_type": "code",
   "execution_count": null,
   "metadata": {
    "collapsed": false
   },
   "outputs": [],
   "source": [
    "fig, SimPlot = plt.subplots(nrows=1, ncols=1, figsize=(14,5))\n",
    "# plt.plot(pd.to_datetime(res.conditional_volatility.index), res.conditional_volatility,  color='k', linestyle='-', linewidth=2)\n",
    "lines = plt.plot(ARCHsim.residual_variances[-1,::10].T, color='#9cb2d6')\n",
    "lines[0].set_label('Simulated path')\n",
    "SimPlot.hold('on')\n",
    "line = plt.plot(ARCH_forecast.variance.iloc[-1].values, color='#002868')\n",
    "line[0].set_label('Expected variance')\n",
    "SimPlot.set_title('Forecasted Variance')\n",
    "lines2 = plt.plot(CondVolDF['Date'], CondVolDF['cond_vol'], color='#9cb2d6')\n",
    "legend = plt.legend()"
   ]
  },
  {
   "cell_type": "code",
   "execution_count": null,
   "metadata": {
    "collapsed": false
   },
   "outputs": [],
   "source": [
    "# calculate one step forecast interval\n",
    "#z value is 1.96\n",
    "def FI(fcast_val):\n",
    "    fcast_val + (1.96*math.sqrt())"
   ]
  },
  {
   "cell_type": "code",
   "execution_count": null,
   "metadata": {
    "collapsed": false
   },
   "outputs": [],
   "source": [
    "#plot Residuals from ARIMA(2,1,0)\n",
    "\n",
    "fig, RupeePlot = plt.subplots(nrows=1, ncols=1, figsize=(14,5))\n",
    "RupeePlot.set_title('Conditional Variances ARCH(7)')\n",
    "RupeePlot.plot(pd.to_datetime(res.conditional_volatility.index), res.conditional_volatility,  color='k', linestyle='-', linewidth=2)"
   ]
  },
  {
   "cell_type": "markdown",
   "metadata": {
    "collapsed": true
   },
   "source": [
    "### Plot Attempt"
   ]
  },
  {
   "cell_type": "code",
   "execution_count": 24,
   "metadata": {
    "collapsed": false
   },
   "outputs": [
    {
     "data": {
      "text/html": [
       "<div>\n",
       "<style scoped>\n",
       "    .dataframe tbody tr th:only-of-type {\n",
       "        vertical-align: middle;\n",
       "    }\n",
       "\n",
       "    .dataframe tbody tr th {\n",
       "        vertical-align: top;\n",
       "    }\n",
       "\n",
       "    .dataframe thead th {\n",
       "        text-align: right;\n",
       "    }\n",
       "</style>\n",
       "<table border=\"1\" class=\"dataframe\">\n",
       "  <thead>\n",
       "    <tr style=\"text-align: right;\">\n",
       "      <th></th>\n",
       "      <th>cond_vol</th>\n",
       "      <th>ARMAfits</th>\n",
       "      <th>95FI</th>\n",
       "      <th>05FI</th>\n",
       "    </tr>\n",
       "    <tr>\n",
       "      <th>Date</th>\n",
       "      <th></th>\n",
       "      <th></th>\n",
       "      <th></th>\n",
       "      <th></th>\n",
       "    </tr>\n",
       "  </thead>\n",
       "  <tbody>\n",
       "  </tbody>\n",
       "</table>\n",
       "</div>"
      ],
      "text/plain": [
       "Empty DataFrame\n",
       "Columns: [cond_vol, ARMAfits, 95FI, 05FI]\n",
       "Index: []"
      ]
     },
     "execution_count": 24,
     "metadata": {},
     "output_type": "execute_result"
    }
   ],
   "source": [
    "ARCH_ht = pd.DataFrame(resG.conditional_volatility)\n",
    "ARCH_ht = ARCH_ht.merge(pd.DataFrame(LogRUP_ARIMA210.fittedvalues).shift(), how='left', left_index=True, right_index=True)\n",
    "ARCH_ht.columns = ['cond_vol', 'ARMAfits']\n",
    "ARCH_ht['95FI'] = ARCH_ht.apply(lambda x: x['ARMAfits'] + 1.96*math.sqrt(x['cond_vol']), axis=1)\n",
    "ARCH_ht['05FI'] = ARCH_ht.apply(lambda x: x['ARMAfits'] - 1.96*math.sqrt(x['cond_vol']), axis=1)\n",
    "ARCH_ht[(ARCH_ht['ARMAfits'] > ARCH_ht['95FI']) | (ARCH_ht['ARMAfits'] < ARCH_ht['05FI'])]"
   ]
  },
  {
   "cell_type": "code",
   "execution_count": 25,
   "metadata": {
    "collapsed": false
   },
   "outputs": [
    {
     "data": {
      "text/plain": [
       "[<matplotlib.lines.Line2D at 0x10f879c18>]"
      ]
     },
     "execution_count": 25,
     "metadata": {},
     "output_type": "execute_result"
    },
    {
     "data": {
      "image/png": "[encoded data removed]",
      "text/plain": [
       "<matplotlib.figure.Figure at 0x10fb0a438>"
      ]
     },
     "metadata": {},
     "output_type": "display_data"
    }
   ],
   "source": [
    "#plot forecast intervals \n",
    "\n",
    "fig, RupeePlot = plt.subplots(nrows=1, ncols=1, figsize=(14,5))\n",
    "legLine0 = mlines.Line2D([],[],color='b',markersize=15, label='Chaos 1') \n",
    "legLine1 = mlines.Line2D([],[],color='m',markersize=15, label='Chaos 2')\n",
    "\n",
    "RupeePlot.set_title('Conditional Volatility ARCH(13)')\n",
    "RupeePlot.plot(pd.to_datetime(ARCH_ht.index),ARCH_ht['95FI'],  color='r', linestyle='-', linewidth=2)\n",
    "RupeePlot.plot(pd.to_datetime(ARCH_ht.index),ARCH_ht['05FI'],  color='r', linestyle='-', linewidth=2)\n",
    "RupeePlot.plot(pd.to_datetime(ARCH_ht.index), ARCH_ht['ARMAfits'],  color='k', linestyle='-', linewidth=2)"
   ]
  },
  {
   "cell_type": "code",
   "execution_count": null,
   "metadata": {
    "collapsed": true
   },
   "outputs": [],
   "source": []
  }
 ],
 "metadata": {
  "kernelspec": {
   "display_name": "Python 3",
   "language": "python",
   "name": "python3"
  },
  "language_info": {
   "codemirror_mode": {
    "name": "ipython",
    "version": 3
   },
   "file_extension": ".py",
   "mimetype": "text/x-python",
   "name": "python",
   "nbconvert_exporter": "python",
   "pygments_lexer": "ipython3",
   "version": "3.6.0"
  }
 },
 "nbformat": 4,
 "nbformat_minor": 2
}

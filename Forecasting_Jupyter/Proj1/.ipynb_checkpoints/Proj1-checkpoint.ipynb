{
 "cells": [
  {
   "cell_type": "code",
   "execution_count": 1,
   "metadata": {
    "collapsed": false
   },
   "outputs": [
    {
     "name": "stderr",
     "output_type": "stream",
     "text": [
      "/Users/Sam_I_Am/anaconda/lib/python3.6/site-packages/statsmodels/compat/pandas.py:56: FutureWarning: The pandas.core.datetools module is deprecated and will be removed in a future version. Please use the pandas.tseries module instead.\n",
      "  from pandas.core import datetools\n"
     ]
    },
    {
     "data": {
      "text/plain": [
       "'0.8.0'"
      ]
     },
     "execution_count": 1,
     "metadata": {},
     "output_type": "execute_result"
    }
   ],
   "source": [
    "import statsmodels as sm\n",
    "from statsmodels import api as smi\n",
    "from statsmodels import graphics as smg\n",
    "from statsmodels import tsa as tsa \n",
    "\n",
    "import numpy as np\n",
    "from scipy import stats as SPstats\n",
    "from time import strptime\n",
    "import pandas as pd\n",
    "import matplotlib.pyplot as plt\n",
    "import matplotlib.lines as mlines\n",
    "# import pygal as pg\n",
    "import itertools as it\n",
    "import math\n",
    "import datetime\n",
    "%matplotlib inline\n",
    "\n",
    "\n",
    "\n",
    "sm.__version__"
   ]
  },
  {
   "cell_type": "markdown",
   "metadata": {},
   "source": [
    "## Data Preparation and Plotting"
   ]
  },
  {
   "cell_type": "code",
   "execution_count": 2,
   "metadata": {
    "collapsed": false
   },
   "outputs": [
    {
     "name": "stderr",
     "output_type": "stream",
     "text": [
      "/Users/Sam_I_Am/anaconda/lib/python3.6/site-packages/ipykernel/__main__.py:19: SettingWithCopyWarning: \n",
      "A value is trying to be set on a copy of a slice from a DataFrame\n",
      "\n",
      "See the caveats in the documentation: http://pandas.pydata.org/pandas-docs/stable/indexing.html#indexing-view-versus-copy\n"
     ]
    },
    {
     "data": {
      "text/plain": [
       "(1528, 7)"
      ]
     },
     "execution_count": 2,
     "metadata": {},
     "output_type": "execute_result"
    }
   ],
   "source": [
    "rentalDat_initial = pd.read_csv('CitiBike_RentalDetails2018-03-20.csv')\n",
    "rentalDat_initial.columns = ['Date', 'RentalCount']\n",
    "# 0 == Monday, 6 == Sunday\n",
    "rentalDat_initial['DoW'] = pd.to_datetime(rentalDat_initial['Date']).apply(datetime.date.weekday)\n",
    "rentalDat_initial['MoY'] = pd.to_datetime(rentalDat_initial['Date']).apply(lambda x: x.month)\n",
    "rentalDat_initial['LogRental'] = rentalDat_initial['RentalCount'].apply(math.log)\n",
    "rentalDat_initial['Lag1 LogRental'] = rentalDat_initial['LogRental'].shift()\n",
    "rentalDat_initial['Diff1 LogRental'] = rentalDat_initial['LogRental'] - rentalDat_initial['Lag1 LogRental']\n",
    "rentalDat_initial['Date'] = pd.to_datetime(rentalDat_initial['Date'])\n",
    "rentalDat_initial.sort_values('Date', inplace=True, ascending=False)\n",
    "\n",
    "\n",
    "# set cutoff for startdate below\n",
    "startDate = pd.to_datetime('2014-01-01')\n",
    "\n",
    "rentalDat = rentalDat_initial[pd.to_datetime(rentalDat_initial['Date']) >= startDate]\n",
    "rentalDat.set_index('Date', drop=False, inplace=True)\n",
    "\n",
    "rentalDat.dropna(inplace=True)\n",
    "rentalDat.shape"
   ]
  },
  {
   "cell_type": "code",
   "execution_count": null,
   "metadata": {
    "collapsed": false
   },
   "outputs": [],
   "source": [
    "rentalDat.columns"
   ]
  },
  {
   "cell_type": "markdown",
   "metadata": {},
   "source": [
    "#### De-Seasonalize"
   ]
  },
  {
   "cell_type": "code",
   "execution_count": 3,
   "metadata": {
    "collapsed": false
   },
   "outputs": [],
   "source": [
    "DOWavg = pd.DataFrame(rentalDat.groupby('DoW')['LogRental'].mean())\n",
    "DOWavg.columns = ['DoW avg']\n",
    "MOYavg = pd.DataFrame(rentalDat.groupby('MoY')['LogRental'].mean())\n",
    "MOYavg.columns = ['MoY avg']\n"
   ]
  },
  {
   "cell_type": "code",
   "execution_count": 4,
   "metadata": {
    "collapsed": false,
    "scrolled": true
   },
   "outputs": [],
   "source": [
    "# run once! \n",
    "rentalDat = rentalDat.merge(DOWavg, how='left', left_on='DoW', right_index=True)\n",
    "rentalDat = rentalDat.merge(MOYavg, how='left', left_on='MoY', right_index=True)"
   ]
  },
  {
   "cell_type": "code",
   "execution_count": 5,
   "metadata": {
    "collapsed": false
   },
   "outputs": [],
   "source": [
    "rentalDat['LogRental+'] = rentalDat['LogRental'].map(lambda x: x + 20)\n",
    "rentalDat['LogRental_desea'] = rentalDat['LogRental+'] - rentalDat['MoY avg'] - rentalDat['DoW avg']\n",
    "#rentalDat['LogRental_desea'] = rentalDat['LogRental_desea'].map(lambda x: x*100)\n",
    "rentalDat['RentalCount'] = rentalDat['RentalCount'].apply(int)"
   ]
  },
  {
   "cell_type": "code",
   "execution_count": 6,
   "metadata": {
    "collapsed": false
   },
   "outputs": [
    {
     "data": {
      "text/plain": [
       "<matplotlib.text.Text at 0x113da7588>"
      ]
     },
     "execution_count": 6,
     "metadata": {},
     "output_type": "execute_result"
    },
    {
     "data": {
      "image/png": "[encoded data removed]",
      "text/plain": [
       "<matplotlib.figure.Figure at 0x10e16d668>"
      ]
     },
     "metadata": {},
     "output_type": "display_data"
    },
    {
     "data": {
      "image/png": "[encoded data removed]",
      "text/plain": [
       "<matplotlib.figure.Figure at 0x1195054e0>"
      ]
     },
     "metadata": {},
     "output_type": "display_data"
    }
   ],
   "source": [
    "# LogRental ACF, PACF\n",
    "smg.tsaplots.plot_acf(rentalDat['RentalCount'],lags=100, zero=False)\n",
    "plt.title('Rental Count ACF')\n",
    "smg.tsaplots.plot_pacf(rentalDat['RentalCount'], lags=100, zero=False)\n",
    "plt.title('Rental Count PACF')"
   ]
  },
  {
   "cell_type": "code",
   "execution_count": 7,
   "metadata": {
    "collapsed": false
   },
   "outputs": [
    {
     "data": {
      "text/plain": [
       "<matplotlib.text.Text at 0x11a0439b0>"
      ]
     },
     "execution_count": 7,
     "metadata": {},
     "output_type": "execute_result"
    },
    {
     "data": {
      "image/png": "[encoded data removed]",
      "text/plain": [
       "<matplotlib.figure.Figure at 0x1195a9f98>"
      ]
     },
     "metadata": {},
     "output_type": "display_data"
    },
    {
     "data": {
      "image/png": "[encoded data removed]",
      "text/plain": [
       "<matplotlib.figure.Figure at 0x119fa6358>"
      ]
     },
     "metadata": {},
     "output_type": "display_data"
    },
    {
     "data": {
      "image/png": "[encoded data removed]",
      "text/plain": [
       "<matplotlib.figure.Figure at 0x11a01aeb8>"
      ]
     },
     "metadata": {},
     "output_type": "display_data"
    }
   ],
   "source": [
    "# LogRental Deseasonalized ACF, PACF\n",
    "smg.tsaplots.plot_acf(rentalDat['LogRental_desea'],lags=100, zero=False)\n",
    "plt.title('Log Rental DeSea ACF')\n",
    "smg.tsaplots.plot_pacf(rentalDat['LogRental_desea'],lags=100,  zero=False)\n",
    "plt.title('Log Rental DeSea PACF')\n",
    "\n",
    "smg.tsaplots.plot_pacf(rentalDat['LogRental_desea'],lags=40,  zero=False)\n",
    "plt.title('Log Rental DeSea PACF to lag40')"
   ]
  },
  {
   "cell_type": "code",
   "execution_count": null,
   "metadata": {
    "collapsed": false
   },
   "outputs": [],
   "source": [
    "# Diff1 LogRental ACF, PACF\n",
    "smg.tsaplots.plot_acf(rentalDat['Diff1 LogRental'],lags=100, zero=False)\n",
    "plt.title('Diff1 LogRental ACF')\n",
    "smg.tsaplots.plot_pacf(rentalDat['Diff1 LogRental'], lags=100, zero=False)\n",
    "plt.title('Diff1 LogRental PACF')"
   ]
  },
  {
   "cell_type": "code",
   "execution_count": null,
   "metadata": {
    "collapsed": false
   },
   "outputs": [],
   "source": [
    "# plot rentals and log rentals\n",
    "fig, rental_plot = plt.subplots(nrows=3,ncols=1, figsize=(14,10))\n",
    "fig.subplots_adjust(hspace = .5)\n",
    "rental_plot[0].plot(pd.to_datetime(rentalDat.index), rentalDat['RentalCount'])\n",
    "rental_plot[0].set_title('Rentals')\n",
    "rental_plot[1].plot(pd.to_datetime(rentalDat.index), rentalDat['LogRental'])\n",
    "rental_plot[1].set_title('Log Rentals')\n",
    "rental_plot[2].plot(pd.to_datetime(rentalDat.index), rentalDat['LogRental_desea'])\n",
    "rental_plot[2].set_title('Log Rentals Deseasonalized')"
   ]
  },
  {
   "cell_type": "markdown",
   "metadata": {},
   "source": [
    "## Model Selection"
   ]
  },
  {
   "cell_type": "code",
   "execution_count": null,
   "metadata": {
    "collapsed": false
   },
   "outputs": [],
   "source": [
    "# use function below to calculate AICc for different combinations \n",
    "\n",
    "def calcAICc(observations, constant):\n",
    "    \n",
    "    trendVal = str(constant)\n",
    "    # below is for all combinations of (p,q) <= 2\n",
    "    combos = list(it.product(range(8),repeat=2))\n",
    "    result_li = []\n",
    "    \n",
    "    \n",
    "    for ea in combos: \n",
    "        ARMAaiccCalc = tsa.arima_model.ARMA(observations,order=ea) \n",
    "        # trend= indicates whether to use constant('c') or not ('nc'). \n",
    "        try:\n",
    "            ARMAaiccCalc = ARMAaiccCalc.fit(trend=trendVal)\n",
    "            logLikeli = ARMAaiccCalc.llf\n",
    "            n_obs = ARMAaiccCalc.nobs\n",
    "            #AICc calc\n",
    "            AICc =  -2*logLikeli + 2*(sum(ea) + 1)*(n_obs/(n_obs-sum(ea)-2))\n",
    "        except (ValueError, Exception): \n",
    "            AICc = 0\n",
    "            pass\n",
    "\n",
    "    \n",
    "        result_li.append([ea, AICc])\n",
    "        \n",
    "    res_DF = pd.DataFrame(result_li)\n",
    "    res_DF.columns = ['(p,q)','AICc']\n",
    "    # res_DF['Abs AICc'] = abs(res_DF['AICc'])\n",
    "    res_DF.sort_values('AICc', ascending=True, inplace=True)\n",
    "    \n",
    "    return res_DF\n",
    "        \n",
    "    \n",
    "\n"
   ]
  },
  {
   "cell_type": "code",
   "execution_count": null,
   "metadata": {
    "collapsed": false
   },
   "outputs": [],
   "source": [
    "# run AICc both with and without constant added\n",
    "aicsNC = calcAICc(rentalDat['LogRental_desea'],'nc')\n",
    "aicsC = calcAICc(rentalDat['LogRental_desea'],'c')"
   ]
  },
  {
   "cell_type": "code",
   "execution_count": null,
   "metadata": {
    "collapsed": false
   },
   "outputs": [],
   "source": [
    "aicsNC.to_csv('aicc-NC.csv')"
   ]
  },
  {
   "cell_type": "code",
   "execution_count": null,
   "metadata": {
    "collapsed": false
   },
   "outputs": [],
   "source": [
    "aicsC.to_csv('aicc-C.csv')"
   ]
  },
  {
   "cell_type": "code",
   "execution_count": null,
   "metadata": {
    "collapsed": false
   },
   "outputs": [],
   "source": [
    "# fit an ARMA(3,2) model.\n",
    "rentalDeSea_ARMA32 = tsa.arima_model.ARMA(rentalDat['LogRental_desea'],order=(3,2))\n",
    "# trend='nc' removes constant \n",
    "rentalDeSea_ARMA32 = rentalDeSea_ARMA32.fit(trend='c')\n",
    "rentalDeSea_ARMA32.summary()"
   ]
  },
  {
   "cell_type": "code",
   "execution_count": null,
   "metadata": {
    "collapsed": true
   },
   "outputs": [],
   "source": [
    "rentalDat.to_csv('CB_rentalDatfull.csv')"
   ]
  },
  {
   "cell_type": "code",
   "execution_count": null,
   "metadata": {
    "collapsed": false
   },
   "outputs": [],
   "source": [
    "rentalDeSea_ARMA32.plot_diagnostics()"
   ]
  },
  {
   "cell_type": "markdown",
   "metadata": {},
   "source": [
    "## ARMA(3,2) Analysis of Residuals "
   ]
  },
  {
   "cell_type": "code",
   "execution_count": null,
   "metadata": {
    "collapsed": false
   },
   "outputs": [],
   "source": [
    "ARMA32_resids = rentalDeSea_ARMA32.resid\n",
    "\n",
    "# ARMA(3,2) residuals ACF, PACF\n",
    "smg.tsaplots.plot_acf(ARMA32_resids,lags=300, zero=False)\n",
    "plt.title('Residuals Lag300 ACF')\n",
    "smg.tsaplots.plot_pacf(ARMA32_resids,lags=300,  zero=False)\n",
    "plt.title('Residuals Lag300 PACF')"
   ]
  },
  {
   "cell_type": "code",
   "execution_count": null,
   "metadata": {
    "collapsed": false
   },
   "outputs": [],
   "source": [
    "plt.figure(figsize=(10,6))\n",
    "plt.title(\"Residuals vs Order\")\n",
    "plt.plot(pd.to_datetime(ARMA32_resids.index), ARMA32_resids)\n"
   ]
  },
  {
   "cell_type": "code",
   "execution_count": null,
   "metadata": {
    "collapsed": true
   },
   "outputs": [],
   "source": [
    "ljb_lags = list(range(12,72,12))\n",
    "ARMA32_ljb = sm.stats.diagnostic.acorr_ljungbox(ARMA32_resids, lags=ljb_lags)"
   ]
  },
  {
   "cell_type": "code",
   "execution_count": null,
   "metadata": {
    "collapsed": false
   },
   "outputs": [],
   "source": [
    "ARMA32_ljb"
   ]
  },
  {
   "cell_type": "code",
   "execution_count": null,
   "metadata": {
    "collapsed": false
   },
   "outputs": [],
   "source": [
    "ljbDf = pd.DataFrame(ARMA32_ljb[1])\n",
    "ljbDf['Lag'] = ljb_lags\n",
    "ljbDf.columns = ['Lj-B Pvalue','Lag']\n",
    "ljbDf"
   ]
  },
  {
   "cell_type": "markdown",
   "metadata": {
    "collapsed": true
   },
   "source": [
    "## Plot Forecast"
   ]
  },
  {
   "cell_type": "code",
   "execution_count": null,
   "metadata": {
    "collapsed": false
   },
   "outputs": [],
   "source": [
    "ARMA32_forecast = rentalDeSea_ARMA32.forecast(steps=50)\n",
    "ARMA32_forecast\n",
    "fcast_start = pd.to_datetime(rentalDat.index).max()\n",
    "fcast_end = fcast_start + pd.Timedelta(value=49, unit='D')\n",
    "fcast_time = pd.date_range(start=fcast_start, end=fcast_end)\n",
    "ARMA32_forecast\n"
   ]
  },
  {
   "cell_type": "code",
   "execution_count": null,
   "metadata": {
    "collapsed": false
   },
   "outputs": [],
   "source": [
    "pd.to_datetime(rentalDat.index).max()"
   ]
  },
  {
   "cell_type": "code",
   "execution_count": null,
   "metadata": {
    "collapsed": false
   },
   "outputs": [],
   "source": [
    "#rentalDat['Date'] = pd.to_datetime(rentalDat['Date'])\n",
    "#rentalDat.sort_values('Date', inplace=True, ascending=False)\n",
    "#rental_resort = rentalDat.set_index('Date', drop=False)\n",
    "rentalDat"
   ]
  },
  {
   "cell_type": "code",
   "execution_count": null,
   "metadata": {
    "collapsed": false
   },
   "outputs": [],
   "source": [
    "# single plot with 2 scales\n",
    "legend_line = mlines.Line2D([],[],color='m',markersize=15, label='95% CI') \n",
    "legLine2 = mlines.Line2D([],[],color='c',markersize=15, label='Prediction')\n",
    "\n",
    "fig, fcast_plot =  plt.subplots(figsize=(15,8))\n",
    "fcast_plot.plot(pd.to_datetime(rentalDat['Date']), rentalDat['LogRental_desea'], 'b-')\n",
    "fcast_plot.plot(fcast_time,ARMA32_forecast[0], 'c-')\n",
    "fcast_plot.plot(fcast_time,ARMA32_forecast[2][:,0], 'm-')\n",
    "fcast_plot.plot(fcast_time,ARMA32_forecast[2][:,1], 'm-')\n",
    "fcast_plot.set_xlabel('Week')\n",
    "fcast_plot.set_ylabel('Log Rentals', color='k')\n",
    "\n",
    "\n",
    "fcast_plot.legend(handles=[legend_line, legLine2])\n",
    "fcast_plot.set_title(\"CitiBike Forecast\")"
   ]
  },
  {
   "cell_type": "code",
   "execution_count": null,
   "metadata": {
    "collapsed": false
   },
   "outputs": [],
   "source": [
    "x_val = list(range(len(rentalDat['LogRental_desea'])))"
   ]
  },
  {
   "cell_type": "code",
   "execution_count": null,
   "metadata": {
    "collapsed": false
   },
   "outputs": [],
   "source": [
    "trend_test = sm.regression.linear_model.OLS(rentalDat['LogRental_desea'], x_val, hasconst=True)\n",
    "trend_test = trend_test.fit()\n",
    "trend_test.summary()"
   ]
  },
  {
   "cell_type": "code",
   "execution_count": null,
   "metadata": {
    "collapsed": false
   },
   "outputs": [],
   "source": [
    "trend_test.resid.hist()"
   ]
  },
  {
   "cell_type": "code",
   "execution_count": null,
   "metadata": {
    "collapsed": true
   },
   "outputs": [],
   "source": []
  }
 ],
 "metadata": {
  "kernelspec": {
   "display_name": "Python 3",
   "language": "python",
   "name": "python3"
  },
  "language_info": {
   "codemirror_mode": {
    "name": "ipython",
    "version": 3
   },
   "file_extension": ".py",
   "mimetype": "text/x-python",
   "name": "python",
   "nbconvert_exporter": "python",
   "pygments_lexer": "ipython3",
   "version": "3.6.0"
  }
 },
 "nbformat": 4,
 "nbformat_minor": 2
}
